{
  "nbformat": 4,
  "nbformat_minor": 0,
  "metadata": {
    "colab": {
      "provenance": [],
      "collapsed_sections": [],
      "authorship_tag": "ABX9TyNWXEUJJLbMLC2bydq3FLNQ"
    },
    "kernelspec": {
      "name": "python3",
      "display_name": "Python 3"
    },
    "language_info": {
      "name": "python"
    },
    "accelerator": "GPU",
    "gpuClass": "standard",
    "widgets": {
      "application/vnd.jupyter.widget-state+json": {
        "be7ca0a4df2d4ed8bde691c238a2a732": {
          "model_module": "@jupyter-widgets/controls",
          "model_name": "HBoxModel",
          "model_module_version": "1.5.0",
          "state": {
            "_dom_classes": [],
            "_model_module": "@jupyter-widgets/controls",
            "_model_module_version": "1.5.0",
            "_model_name": "HBoxModel",
            "_view_count": null,
            "_view_module": "@jupyter-widgets/controls",
            "_view_module_version": "1.5.0",
            "_view_name": "HBoxView",
            "box_style": "",
            "children": [
              "IPY_MODEL_79a8a30eb57849be92af62e615030802",
              "IPY_MODEL_b1db32bebb6e47f7b753b33186d19642",
              "IPY_MODEL_e1ccce18d5ec41e994b039f2a1e82528"
            ],
            "layout": "IPY_MODEL_87ba93c5940a4c97a48cd44d0a42e2a4"
          }
        },
        "79a8a30eb57849be92af62e615030802": {
          "model_module": "@jupyter-widgets/controls",
          "model_name": "HTMLModel",
          "model_module_version": "1.5.0",
          "state": {
            "_dom_classes": [],
            "_model_module": "@jupyter-widgets/controls",
            "_model_module_version": "1.5.0",
            "_model_name": "HTMLModel",
            "_view_count": null,
            "_view_module": "@jupyter-widgets/controls",
            "_view_module_version": "1.5.0",
            "_view_name": "HTMLView",
            "description": "",
            "description_tooltip": null,
            "layout": "IPY_MODEL_28acff69b36c4bfca8d3fd20c8a0da95",
            "placeholder": "​",
            "style": "IPY_MODEL_959417c57cee4cd3a686ddeece19c720",
            "value": "100%"
          }
        },
        "b1db32bebb6e47f7b753b33186d19642": {
          "model_module": "@jupyter-widgets/controls",
          "model_name": "FloatProgressModel",
          "model_module_version": "1.5.0",
          "state": {
            "_dom_classes": [],
            "_model_module": "@jupyter-widgets/controls",
            "_model_module_version": "1.5.0",
            "_model_name": "FloatProgressModel",
            "_view_count": null,
            "_view_module": "@jupyter-widgets/controls",
            "_view_module_version": "1.5.0",
            "_view_name": "ProgressView",
            "bar_style": "success",
            "description": "",
            "description_tooltip": null,
            "layout": "IPY_MODEL_7c8d2a3d463b463a91698dacc444a6d4",
            "max": 170498071,
            "min": 0,
            "orientation": "horizontal",
            "style": "IPY_MODEL_29f4a78db691417f97c5f0ddc2ceef80",
            "value": 170498071
          }
        },
        "e1ccce18d5ec41e994b039f2a1e82528": {
          "model_module": "@jupyter-widgets/controls",
          "model_name": "HTMLModel",
          "model_module_version": "1.5.0",
          "state": {
            "_dom_classes": [],
            "_model_module": "@jupyter-widgets/controls",
            "_model_module_version": "1.5.0",
            "_model_name": "HTMLModel",
            "_view_count": null,
            "_view_module": "@jupyter-widgets/controls",
            "_view_module_version": "1.5.0",
            "_view_name": "HTMLView",
            "description": "",
            "description_tooltip": null,
            "layout": "IPY_MODEL_13bfd3448ea54b5cb273b98127bf7146",
            "placeholder": "​",
            "style": "IPY_MODEL_370700d90c064ca78980df1299b5e8ac",
            "value": " 170498071/170498071 [00:09&lt;00:00, 25902036.63it/s]"
          }
        },
        "87ba93c5940a4c97a48cd44d0a42e2a4": {
          "model_module": "@jupyter-widgets/base",
          "model_name": "LayoutModel",
          "model_module_version": "1.2.0",
          "state": {
            "_model_module": "@jupyter-widgets/base",
            "_model_module_version": "1.2.0",
            "_model_name": "LayoutModel",
            "_view_count": null,
            "_view_module": "@jupyter-widgets/base",
            "_view_module_version": "1.2.0",
            "_view_name": "LayoutView",
            "align_content": null,
            "align_items": null,
            "align_self": null,
            "border": null,
            "bottom": null,
            "display": null,
            "flex": null,
            "flex_flow": null,
            "grid_area": null,
            "grid_auto_columns": null,
            "grid_auto_flow": null,
            "grid_auto_rows": null,
            "grid_column": null,
            "grid_gap": null,
            "grid_row": null,
            "grid_template_areas": null,
            "grid_template_columns": null,
            "grid_template_rows": null,
            "height": null,
            "justify_content": null,
            "justify_items": null,
            "left": null,
            "margin": null,
            "max_height": null,
            "max_width": null,
            "min_height": null,
            "min_width": null,
            "object_fit": null,
            "object_position": null,
            "order": null,
            "overflow": null,
            "overflow_x": null,
            "overflow_y": null,
            "padding": null,
            "right": null,
            "top": null,
            "visibility": null,
            "width": null
          }
        },
        "28acff69b36c4bfca8d3fd20c8a0da95": {
          "model_module": "@jupyter-widgets/base",
          "model_name": "LayoutModel",
          "model_module_version": "1.2.0",
          "state": {
            "_model_module": "@jupyter-widgets/base",
            "_model_module_version": "1.2.0",
            "_model_name": "LayoutModel",
            "_view_count": null,
            "_view_module": "@jupyter-widgets/base",
            "_view_module_version": "1.2.0",
            "_view_name": "LayoutView",
            "align_content": null,
            "align_items": null,
            "align_self": null,
            "border": null,
            "bottom": null,
            "display": null,
            "flex": null,
            "flex_flow": null,
            "grid_area": null,
            "grid_auto_columns": null,
            "grid_auto_flow": null,
            "grid_auto_rows": null,
            "grid_column": null,
            "grid_gap": null,
            "grid_row": null,
            "grid_template_areas": null,
            "grid_template_columns": null,
            "grid_template_rows": null,
            "height": null,
            "justify_content": null,
            "justify_items": null,
            "left": null,
            "margin": null,
            "max_height": null,
            "max_width": null,
            "min_height": null,
            "min_width": null,
            "object_fit": null,
            "object_position": null,
            "order": null,
            "overflow": null,
            "overflow_x": null,
            "overflow_y": null,
            "padding": null,
            "right": null,
            "top": null,
            "visibility": null,
            "width": null
          }
        },
        "959417c57cee4cd3a686ddeece19c720": {
          "model_module": "@jupyter-widgets/controls",
          "model_name": "DescriptionStyleModel",
          "model_module_version": "1.5.0",
          "state": {
            "_model_module": "@jupyter-widgets/controls",
            "_model_module_version": "1.5.0",
            "_model_name": "DescriptionStyleModel",
            "_view_count": null,
            "_view_module": "@jupyter-widgets/base",
            "_view_module_version": "1.2.0",
            "_view_name": "StyleView",
            "description_width": ""
          }
        },
        "7c8d2a3d463b463a91698dacc444a6d4": {
          "model_module": "@jupyter-widgets/base",
          "model_name": "LayoutModel",
          "model_module_version": "1.2.0",
          "state": {
            "_model_module": "@jupyter-widgets/base",
            "_model_module_version": "1.2.0",
            "_model_name": "LayoutModel",
            "_view_count": null,
            "_view_module": "@jupyter-widgets/base",
            "_view_module_version": "1.2.0",
            "_view_name": "LayoutView",
            "align_content": null,
            "align_items": null,
            "align_self": null,
            "border": null,
            "bottom": null,
            "display": null,
            "flex": null,
            "flex_flow": null,
            "grid_area": null,
            "grid_auto_columns": null,
            "grid_auto_flow": null,
            "grid_auto_rows": null,
            "grid_column": null,
            "grid_gap": null,
            "grid_row": null,
            "grid_template_areas": null,
            "grid_template_columns": null,
            "grid_template_rows": null,
            "height": null,
            "justify_content": null,
            "justify_items": null,
            "left": null,
            "margin": null,
            "max_height": null,
            "max_width": null,
            "min_height": null,
            "min_width": null,
            "object_fit": null,
            "object_position": null,
            "order": null,
            "overflow": null,
            "overflow_x": null,
            "overflow_y": null,
            "padding": null,
            "right": null,
            "top": null,
            "visibility": null,
            "width": null
          }
        },
        "29f4a78db691417f97c5f0ddc2ceef80": {
          "model_module": "@jupyter-widgets/controls",
          "model_name": "ProgressStyleModel",
          "model_module_version": "1.5.0",
          "state": {
            "_model_module": "@jupyter-widgets/controls",
            "_model_module_version": "1.5.0",
            "_model_name": "ProgressStyleModel",
            "_view_count": null,
            "_view_module": "@jupyter-widgets/base",
            "_view_module_version": "1.2.0",
            "_view_name": "StyleView",
            "bar_color": null,
            "description_width": ""
          }
        },
        "13bfd3448ea54b5cb273b98127bf7146": {
          "model_module": "@jupyter-widgets/base",
          "model_name": "LayoutModel",
          "model_module_version": "1.2.0",
          "state": {
            "_model_module": "@jupyter-widgets/base",
            "_model_module_version": "1.2.0",
            "_model_name": "LayoutModel",
            "_view_count": null,
            "_view_module": "@jupyter-widgets/base",
            "_view_module_version": "1.2.0",
            "_view_name": "LayoutView",
            "align_content": null,
            "align_items": null,
            "align_self": null,
            "border": null,
            "bottom": null,
            "display": null,
            "flex": null,
            "flex_flow": null,
            "grid_area": null,
            "grid_auto_columns": null,
            "grid_auto_flow": null,
            "grid_auto_rows": null,
            "grid_column": null,
            "grid_gap": null,
            "grid_row": null,
            "grid_template_areas": null,
            "grid_template_columns": null,
            "grid_template_rows": null,
            "height": null,
            "justify_content": null,
            "justify_items": null,
            "left": null,
            "margin": null,
            "max_height": null,
            "max_width": null,
            "min_height": null,
            "min_width": null,
            "object_fit": null,
            "object_position": null,
            "order": null,
            "overflow": null,
            "overflow_x": null,
            "overflow_y": null,
            "padding": null,
            "right": null,
            "top": null,
            "visibility": null,
            "width": null
          }
        },
        "370700d90c064ca78980df1299b5e8ac": {
          "model_module": "@jupyter-widgets/controls",
          "model_name": "DescriptionStyleModel",
          "model_module_version": "1.5.0",
          "state": {
            "_model_module": "@jupyter-widgets/controls",
            "_model_module_version": "1.5.0",
            "_model_name": "DescriptionStyleModel",
            "_view_count": null,
            "_view_module": "@jupyter-widgets/base",
            "_view_module_version": "1.2.0",
            "_view_name": "StyleView",
            "description_width": ""
          }
        }
      }
    }
  },
  "cells": [
    {
      "cell_type": "markdown",
      "source": [
        "참고 : https://hoya012.github.io/blog/DenseNet-Tutorial-2/"
      ],
      "metadata": {
        "id": "PrtElwo6-Yx1"
      }
    },
    {
      "cell_type": "code",
      "execution_count": 1,
      "metadata": {
        "id": "SyI-ma4A-TQN"
      },
      "outputs": [],
      "source": [
        "import sys\n",
        "\n",
        "import torch\n",
        "import matplotlib.pyplot as plt\n",
        "\n",
        "import time\n",
        "import math\n",
        "\n",
        "import torch.nn as nn\n",
        "import torch.nn.functional as F\n",
        "\n",
        "import torchvision\n",
        "import torchvision.transforms as transforms\n",
        "import torchvision.datasets as dsets\n",
        "\n",
        "import numpy as np\n",
        "import tqdm\n",
        "import torch.utils.checkpoint as cp\n",
        "\n",
        "from torch.utils.data import DataLoader\n",
        "from torch import optim\n",
        "from collections import OrderedDict\n"
      ]
    },
    {
      "cell_type": "code",
      "source": [
        "USE_CUDA = torch.cuda.is_available() # GPU를 사용가능하면 True, 아니라면 False를 리턴\n",
        "device = torch.device(\"cuda\" if USE_CUDA else \"cpu\") # GPU 사용 가능하면 사용하고 아니면 CPU 사용\n",
        "print(\"다음 기기로 학습합니다:\", device)"
      ],
      "metadata": {
        "colab": {
          "base_uri": "https://localhost:8080/"
        },
        "id": "sc4cCtXp-5SN",
        "outputId": "bae6f8ed-80a1-43aa-9f80-6f58f3f52770"
      },
      "execution_count": 2,
      "outputs": [
        {
          "output_type": "stream",
          "name": "stdout",
          "text": [
            "다음 기기로 학습합니다: cpu\n"
          ]
        }
      ]
    },
    {
      "cell_type": "code",
      "source": [
        "batch_size = 128\n",
        "num_epoch = 30"
      ],
      "metadata": {
        "id": "RwxQwZzk_BYT"
      },
      "execution_count": 3,
      "outputs": []
    },
    {
      "cell_type": "code",
      "source": [
        "print(\"File Download\")\n",
        "\n",
        "transform = transforms.Compose([\n",
        "    transforms.Pad(4),\n",
        "    transforms.RandomHorizontalFlip(),\n",
        "    transforms.RandomCrop(32),\n",
        "    transforms.ToTensor()\n",
        "])\n",
        "\n",
        "train_dataset = dsets.CIFAR10(root='./data', train=True,\n",
        "                                        download=True, transform=transform)\n",
        "train_loader = DataLoader(train_dataset, batch_size=batch_size,\n",
        "                                          shuffle=True, num_workers=2)\n",
        "\n",
        "val_dataset = dsets.CIFAR10(root='./data', train=False,\n",
        "                                       download=True, transform=transform)\n",
        "val_loader = DataLoader(val_dataset, batch_size=batch_size,\n",
        "                                         shuffle=False, num_workers=2)\n"
      ],
      "metadata": {
        "id": "1-V4v567_Vxb",
        "colab": {
          "base_uri": "https://localhost:8080/",
          "height": 117,
          "referenced_widgets": [
            "be7ca0a4df2d4ed8bde691c238a2a732",
            "79a8a30eb57849be92af62e615030802",
            "b1db32bebb6e47f7b753b33186d19642",
            "e1ccce18d5ec41e994b039f2a1e82528",
            "87ba93c5940a4c97a48cd44d0a42e2a4",
            "28acff69b36c4bfca8d3fd20c8a0da95",
            "959417c57cee4cd3a686ddeece19c720",
            "7c8d2a3d463b463a91698dacc444a6d4",
            "29f4a78db691417f97c5f0ddc2ceef80",
            "13bfd3448ea54b5cb273b98127bf7146",
            "370700d90c064ca78980df1299b5e8ac"
          ]
        },
        "outputId": "02329e3e-04ea-4f0e-dd52-89d0b761be72"
      },
      "execution_count": 4,
      "outputs": [
        {
          "output_type": "stream",
          "name": "stdout",
          "text": [
            "File Download\n",
            "Downloading https://www.cs.toronto.edu/~kriz/cifar-10-python.tar.gz to ./data/cifar-10-python.tar.gz\n"
          ]
        },
        {
          "output_type": "display_data",
          "data": {
            "text/plain": [
              "  0%|          | 0/170498071 [00:00<?, ?it/s]"
            ],
            "application/vnd.jupyter.widget-view+json": {
              "version_major": 2,
              "version_minor": 0,
              "model_id": "be7ca0a4df2d4ed8bde691c238a2a732"
            }
          },
          "metadata": {}
        },
        {
          "output_type": "stream",
          "name": "stdout",
          "text": [
            "Extracting ./data/cifar-10-python.tar.gz to ./data\n",
            "Files already downloaded and verified\n"
          ]
        }
      ]
    },
    {
      "cell_type": "code",
      "source": [
        "classes = ('plane', 'car', 'bird', 'cat', 'deer', 'dog', 'frog', 'horse', 'ship', 'truck')"
      ],
      "metadata": {
        "id": "fAT9exU1_uqx"
      },
      "execution_count": 5,
      "outputs": []
    },
    {
      "cell_type": "markdown",
      "source": [
        "https://github.com/gpleiss/efficient_densenet_pytorch/blob/master/models/densenet.py"
      ],
      "metadata": {
        "id": "3TCDFVP2XEHb"
      }
    },
    {
      "cell_type": "code",
      "source": [
        "def _bn_function_factory(norm, relu, conv):\n",
        "    def bn_function(*inputs):\n",
        "        concated_features = torch.cat(inputs, 1)\n",
        "        bottleneck_output = conv(relu(norm(concated_features)))\n",
        "        return bottleneck_output\n",
        "\n",
        "    return bn_function\n",
        "\n",
        "\n",
        "class _DenseLayer(nn.Module):\n",
        "    def __init__(self, num_input_features, growth_rate, bn_size, drop_rate, efficient=False):\n",
        "        super(_DenseLayer, self).__init__()\n",
        "        self.add_module('norm1', nn.BatchNorm2d(num_input_features)),\n",
        "        self.add_module('relu1', nn.ReLU(inplace=True)),\n",
        "        self.add_module('conv1', nn.Conv2d(num_input_features, bn_size * growth_rate,\n",
        "                        kernel_size=1, stride=1, bias=False)),\n",
        "        self.add_module('norm2', nn.BatchNorm2d(bn_size * growth_rate)),\n",
        "        self.add_module('relu2', nn.ReLU(inplace=True)),\n",
        "        self.add_module('conv2', nn.Conv2d(bn_size * growth_rate, growth_rate,\n",
        "                        kernel_size=3, stride=1, padding=1, bias=False)),\n",
        "        self.drop_rate = drop_rate\n",
        "        self.efficient = efficient\n",
        "\n",
        "    def forward(self, *prev_features):\n",
        "        bn_function = _bn_function_factory(self.norm1, self.relu1, self.conv1)\n",
        "        if self.efficient and any(prev_feature.requires_grad for prev_feature in prev_features):\n",
        "            bottleneck_output = cp.checkpoint(bn_function, *prev_features)\n",
        "        else:\n",
        "            bottleneck_output = bn_function(*prev_features)\n",
        "        new_features = self.conv2(self.relu2(self.norm2(bottleneck_output)))\n",
        "        if self.drop_rate > 0:\n",
        "            new_features = F.dropout(new_features, p=self.drop_rate, training=self.training)\n",
        "        return new_features\n",
        "\n",
        "\n",
        "class _Transition(nn.Sequential):\n",
        "    def __init__(self, num_input_features, num_output_features):\n",
        "        super(_Transition, self).__init__()\n",
        "        self.add_module('norm', nn.BatchNorm2d(num_input_features))\n",
        "        self.add_module('relu', nn.ReLU(inplace=True))\n",
        "        self.add_module('conv', nn.Conv2d(num_input_features, num_output_features,\n",
        "                                          kernel_size=1, stride=1, bias=False))\n",
        "        self.add_module('pool', nn.AvgPool2d(kernel_size=2, stride=2))\n",
        "\n",
        "\n",
        "class _DenseBlock(nn.Module):\n",
        "    def __init__(self, num_layers, num_input_features, bn_size, growth_rate, drop_rate, efficient=False):\n",
        "        super(_DenseBlock, self).__init__()\n",
        "        for i in range(num_layers):\n",
        "            layer = _DenseLayer(\n",
        "                num_input_features + i * growth_rate,\n",
        "                growth_rate=growth_rate,\n",
        "                bn_size=bn_size,\n",
        "                drop_rate=drop_rate,\n",
        "                efficient=efficient,\n",
        "            )\n",
        "            self.add_module('denselayer%d' % (i + 1), layer)\n",
        "\n",
        "    def forward(self, init_features):\n",
        "        features = [init_features]\n",
        "        for name, layer in self.named_children():\n",
        "            new_features = layer(*features)\n",
        "            features.append(new_features)\n",
        "        return torch.cat(features, 1)\n",
        "\n",
        "\n",
        "class DenseNet(nn.Module):\n",
        "    r\"\"\"Densenet-BC model class, based on\n",
        "    `\"Densely Connected Convolutional Networks\" <https://arxiv.org/pdf/1608.06993.pdf>`\n",
        "    Args:\n",
        "        growth_rate (int) - how many filters to add each layer (`k` in paper)\n",
        "        block_config (list of 3 or 4 ints) - how many layers in each pooling block\n",
        "        num_init_features (int) - the number of filters to learn in the first convolution layer\n",
        "        bn_size (int) - multiplicative factor for number of bottle neck layers\n",
        "            (i.e. bn_size * k features in the bottleneck layer)\n",
        "        drop_rate (float) - dropout rate after each dense layer\n",
        "        num_classes (int) - number of classification classes\n",
        "        small_inputs (bool) - set to True if images are 32x32. Otherwise assumes images are larger.\n",
        "        efficient (bool) - set to True to use checkpointing. Much more memory efficient, but slower.\n",
        "    \"\"\"\n",
        "    def __init__(self, growth_rate=12, block_config=(16, 16, 16), compression=0.5,\n",
        "                 num_init_features=24, bn_size=4, drop_rate=0,\n",
        "                 num_classes=10, small_inputs=True, efficient=False):\n",
        "\n",
        "        super(DenseNet, self).__init__()\n",
        "        assert 0 < compression <= 1, 'compression of densenet should be between 0 and 1'\n",
        "\n",
        "        # First convolution\n",
        "        if small_inputs:\n",
        "            self.features = nn.Sequential(OrderedDict([\n",
        "                ('conv0', nn.Conv2d(3, num_init_features, kernel_size=3, stride=1, padding=1, bias=False)),\n",
        "            ]))\n",
        "        else:\n",
        "            self.features = nn.Sequential(OrderedDict([\n",
        "                ('conv0', nn.Conv2d(3, num_init_features, kernel_size=7, stride=2, padding=3, bias=False)),\n",
        "            ]))\n",
        "            self.features.add_module('norm0', nn.BatchNorm2d(num_init_features))\n",
        "            self.features.add_module('relu0', nn.ReLU(inplace=True))\n",
        "            self.features.add_module('pool0', nn.MaxPool2d(kernel_size=3, stride=2, padding=1,\n",
        "                                                           ceil_mode=False))\n",
        "\n",
        "        # Each denseblock\n",
        "        num_features = num_init_features\n",
        "        for i, num_layers in enumerate(block_config):\n",
        "            block = _DenseBlock(\n",
        "                num_layers=num_layers,\n",
        "                num_input_features=num_features,\n",
        "                bn_size=bn_size,\n",
        "                growth_rate=growth_rate,\n",
        "                drop_rate=drop_rate,\n",
        "                efficient=efficient,\n",
        "            )\n",
        "            self.features.add_module('denseblock%d' % (i + 1), block)\n",
        "            num_features = num_features + num_layers * growth_rate\n",
        "            if i != len(block_config) - 1:\n",
        "                trans = _Transition(num_input_features=num_features,\n",
        "                                    num_output_features=int(num_features * compression))\n",
        "                self.features.add_module('transition%d' % (i + 1), trans)\n",
        "                num_features = int(num_features * compression)\n",
        "\n",
        "        # Final batch norm\n",
        "        self.features.add_module('norm_final', nn.BatchNorm2d(num_features))\n",
        "\n",
        "        # Linear layer\n",
        "        self.classifier = nn.Linear(num_features, num_classes)\n",
        "\n",
        "        # Initialization\n",
        "        for name, param in self.named_parameters():\n",
        "            if 'conv' in name and 'weight' in name:\n",
        "                n = param.size(0) * param.size(2) * param.size(3)\n",
        "                param.data.normal_().mul_(math.sqrt(2. / n))\n",
        "            elif 'norm' in name and 'weight' in name:\n",
        "                param.data.fill_(1)\n",
        "            elif 'norm' in name and 'bias' in name:\n",
        "                param.data.fill_(0)\n",
        "            elif 'classifier' in name and 'bias' in name:\n",
        "                param.data.fill_(0)\n",
        "\n",
        "    def forward(self, x):\n",
        "        features = self.features(x)\n",
        "        out = F.relu(features, inplace=True)\n",
        "        out = F.adaptive_avg_pool2d(out, (1, 1))\n",
        "        out = torch.flatten(out, 1)\n",
        "        out = self.classifier(out)\n",
        "        return out"
      ],
      "metadata": {
        "id": "tcVa46vfNCQZ"
      },
      "execution_count": 6,
      "outputs": []
    },
    {
      "cell_type": "code",
      "source": [
        "net = DenseNet()\n",
        "net = net.to(device)"
      ],
      "metadata": {
        "id": "RD50yVWo_7BL"
      },
      "execution_count": 7,
      "outputs": []
    },
    {
      "cell_type": "code",
      "source": [
        "criterion = nn.CrossEntropyLoss()\n",
        "lr = 0.1\n",
        "optimizer = optim.SGD(net.parameters(), lr=lr, momentum=0.9)\n",
        "lr_scheduler = optim.lr_scheduler.MultiStepLR(optimizer=optimizer, milestones=[int(num_epoch * 0.5), int(num_epoch * 0.05)], gamma=0.1, last_epoch=-1)"
      ],
      "metadata": {
        "id": "JwYnA8MIAhFk"
      },
      "execution_count": 8,
      "outputs": []
    },
    {
      "cell_type": "code",
      "source": [
        "train_loss_history = []\n",
        "val_loss_history = []\n",
        "train_acc_history = []\n",
        "val_acc_history = []"
      ],
      "metadata": {
        "id": "0QHlaF3BDwfg"
      },
      "execution_count": 9,
      "outputs": []
    },
    {
      "cell_type": "code",
      "source": [
        "print(\"Training Start\")\n",
        "start = time.time()\n",
        "\n",
        "for epoch in range(num_epoch):  \n",
        "    lr_scheduler.step()\n",
        "    \n",
        "    avg_cost = 0.0\n",
        "    train_loss = 0.0\n",
        "    train_total = 0.0\n",
        "\n",
        "\n",
        "    for i, data in enumerate(train_loader, 0):\n",
        "        inputs, labels = data\n",
        "        inputs = inputs.to(device)\n",
        "        labels = labels.to(device)\n",
        "\n",
        "        optimizer.zero_grad()\n",
        "\n",
        "        outputs = net(inputs)\n",
        "        loss = criterion(outputs, labels)\n",
        "        loss.backward()\n",
        "        optimizer.step()\n",
        "        \n",
        "        train_loss += loss.item()\n",
        "        train_loss += loss.item()\n",
        "        train_total += (torch.argmax(outputs, dim=1) == labels).sum().item()\n",
        "    \n",
        "    avg_cost /= batch_size\n",
        "    train_loss = train_loss / len(train_loader)\n",
        "    train_acc = train_total / len(train_dataset)\n",
        "\n",
        "    if (epoch+1) % 10 == 0:\n",
        "        print(\"Epoch: %d/%d, Cost: %f\" % (epoch+1, num_epoch, avg_cost))\n",
        "\n",
        "    with torch.no_grad():\n",
        "        val_loss = 0.0\n",
        "        total = 0\n",
        "        for val_step, val in enumerate(val_loader):\n",
        "            val_x, val_label = val\n",
        "            \n",
        "            val_x = val_x.to(device)\n",
        "            val_label = val_label.to(device)\n",
        "\n",
        "            val_output = net(val_x)\n",
        "            v_loss = criterion(val_output, val_label)\n",
        "            val_loss += v_loss\n",
        "            total += (torch.argmax(val_output, dim=1) == val_label).sum().item()\n",
        "\n",
        "        val_loss = val_loss / len(val_loader)\n",
        "        val_acc = total / len(val_dataset)\n",
        "\n",
        "    print(\"epoch: {}/{} | train loss: {} | val loss: {}\".format(\n",
        "                    epoch+1, num_epoch, train_loss , val_loss))\n",
        "    print(\"train acc : {}\".format(train_acc))\n",
        "    print(\"val_acc: {}\".format(val_acc))\n",
        "\n",
        "    train_loss_history.append(train_loss)\n",
        "    train_acc_history.append(train_acc)     \n",
        "    val_loss_history.append(val_loss)\n",
        "    val_acc_history.append(val_acc)\n",
        "\n",
        "end = time.time()\n",
        "\n",
        "t = int(end - start)\n",
        "print(\"Training time: %dm %ds\" %(t//60, t%60))\n",
        "print(\"Training Finished\")"
      ],
      "metadata": {
        "colab": {
          "base_uri": "https://localhost:8080/"
        },
        "id": "BxOUr0WUAdea",
        "outputId": "ca427246-5802-4075-f2ff-63e254811849"
      },
      "execution_count": null,
      "outputs": [
        {
          "output_type": "stream",
          "name": "stdout",
          "text": [
            "Training Start\n"
          ]
        },
        {
          "output_type": "stream",
          "name": "stderr",
          "text": [
            "/usr/local/lib/python3.7/dist-packages/torch/optim/lr_scheduler.py:136: UserWarning: Detected call of `lr_scheduler.step()` before `optimizer.step()`. In PyTorch 1.1.0 and later, you should call them in the opposite order: `optimizer.step()` before `lr_scheduler.step()`.  Failure to do this will result in PyTorch skipping the first value of the learning rate schedule. See more details at https://pytorch.org/docs/stable/optim.html#how-to-adjust-learning-rate\n",
            "  \"https://pytorch.org/docs/stable/optim.html#how-to-adjust-learning-rate\", UserWarning)\n"
          ]
        }
      ]
    },
    {
      "cell_type": "code",
      "source": [
        "print(\"Test Start\")\n",
        "\n",
        "start = time.time()\n",
        "correct = 0.0\n",
        "total = 0.0\n",
        "\n",
        "with torch.no_grad():\n",
        "    for i, data in enumerate(val_loader, 0):\n",
        "        inputs, labels = data\n",
        "        inputs = inputs.to(device)\n",
        "        labels = labels.to(device)\n",
        "        \n",
        "        outputs = net(inputs)\n",
        "        \n",
        "        _, predicted = torch.max(outputs.data, 1)\n",
        "        total += labels.size(0)\n",
        "        correct += (predicted == labels).sum().item()\n",
        "\n",
        "end = time.time()\n",
        "t = int(end-start)\n",
        "print(\"Test time: %dm %ds\" %(t//60, t%60))\n",
        "print(\"Test Finished\")\n",
        "\n",
        "print(f'Accuracy of the network on the 10000 test images: {100 * correct // total} %')"
      ],
      "metadata": {
        "id": "C_jaAtwoEwoW"
      },
      "execution_count": null,
      "outputs": []
    },
    {
      "cell_type": "code",
      "source": [
        "print(\"Show Loss plot\")\n",
        "\n",
        "plt.plot(train_loss_history, label = ' train_loss')\n",
        "val_loss_history = [i.cpu() for i in val_loss_history]\n",
        "plt.plot(val_loss_history, label = 'val_loss')\n",
        "plt.legend()\n",
        "plt.show()"
      ],
      "metadata": {
        "id": "IYbfEfyvFJUW"
      },
      "execution_count": null,
      "outputs": []
    },
    {
      "cell_type": "code",
      "source": [
        "print(\"Show Acc plot\")\n",
        "\n",
        "plt.plot(train_acc_history, label = ' train_acc')\n",
        "plt.plot(val_acc_history, label = 'val_acc')\n",
        "plt.legend()\n",
        "plt.show()"
      ],
      "metadata": {
        "id": "Bqq-nz7xFMGo"
      },
      "execution_count": null,
      "outputs": []
    }
  ]
}