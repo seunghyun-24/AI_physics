{
  "nbformat": 4,
  "nbformat_minor": 0,
  "metadata": {
    "colab": {
      "provenance": [],
      "collapsed_sections": [],
      "authorship_tag": "ABX9TyO9YYmLE0RRN9nqoieyIART"
    },
    "kernelspec": {
      "name": "python3",
      "display_name": "Python 3"
    },
    "language_info": {
      "name": "python"
    },
    "accelerator": "GPU",
    "gpuClass": "standard",
    "widgets": {
      "application/vnd.jupyter.widget-state+json": {
        "fb99028da5214c13ac67f2fce4b9dc6c": {
          "model_module": "@jupyter-widgets/controls",
          "model_name": "HBoxModel",
          "model_module_version": "1.5.0",
          "state": {
            "_dom_classes": [],
            "_model_module": "@jupyter-widgets/controls",
            "_model_module_version": "1.5.0",
            "_model_name": "HBoxModel",
            "_view_count": null,
            "_view_module": "@jupyter-widgets/controls",
            "_view_module_version": "1.5.0",
            "_view_name": "HBoxView",
            "box_style": "",
            "children": [
              "IPY_MODEL_4dbcfdef6e4a4b2697a1c40cbfc5949d",
              "IPY_MODEL_8cc963e48ce241f7a694bb6c872175f4",
              "IPY_MODEL_c0040d7eb13244f88fcaa83286295423"
            ],
            "layout": "IPY_MODEL_0c85589fc61e4369a4dbf7c145c9b8d8"
          }
        },
        "4dbcfdef6e4a4b2697a1c40cbfc5949d": {
          "model_module": "@jupyter-widgets/controls",
          "model_name": "HTMLModel",
          "model_module_version": "1.5.0",
          "state": {
            "_dom_classes": [],
            "_model_module": "@jupyter-widgets/controls",
            "_model_module_version": "1.5.0",
            "_model_name": "HTMLModel",
            "_view_count": null,
            "_view_module": "@jupyter-widgets/controls",
            "_view_module_version": "1.5.0",
            "_view_name": "HTMLView",
            "description": "",
            "description_tooltip": null,
            "layout": "IPY_MODEL_3c22e366136b428c899420285e97a605",
            "placeholder": "​",
            "style": "IPY_MODEL_176fe43698804249a00db70bbe2b16dd",
            "value": "100%"
          }
        },
        "8cc963e48ce241f7a694bb6c872175f4": {
          "model_module": "@jupyter-widgets/controls",
          "model_name": "FloatProgressModel",
          "model_module_version": "1.5.0",
          "state": {
            "_dom_classes": [],
            "_model_module": "@jupyter-widgets/controls",
            "_model_module_version": "1.5.0",
            "_model_name": "FloatProgressModel",
            "_view_count": null,
            "_view_module": "@jupyter-widgets/controls",
            "_view_module_version": "1.5.0",
            "_view_name": "ProgressView",
            "bar_style": "success",
            "description": "",
            "description_tooltip": null,
            "layout": "IPY_MODEL_901a098e869a44309097c5fe467ae929",
            "max": 170498071,
            "min": 0,
            "orientation": "horizontal",
            "style": "IPY_MODEL_51d7aa6d586d4571be63f3ea06fcc381",
            "value": 170498071
          }
        },
        "c0040d7eb13244f88fcaa83286295423": {
          "model_module": "@jupyter-widgets/controls",
          "model_name": "HTMLModel",
          "model_module_version": "1.5.0",
          "state": {
            "_dom_classes": [],
            "_model_module": "@jupyter-widgets/controls",
            "_model_module_version": "1.5.0",
            "_model_name": "HTMLModel",
            "_view_count": null,
            "_view_module": "@jupyter-widgets/controls",
            "_view_module_version": "1.5.0",
            "_view_name": "HTMLView",
            "description": "",
            "description_tooltip": null,
            "layout": "IPY_MODEL_d15092a902b74d23be0b21c5e4474cb4",
            "placeholder": "​",
            "style": "IPY_MODEL_fcef14c704a6456d9668ef5891d6eaf8",
            "value": " 170498071/170498071 [00:06&lt;00:00, 33465772.40it/s]"
          }
        },
        "0c85589fc61e4369a4dbf7c145c9b8d8": {
          "model_module": "@jupyter-widgets/base",
          "model_name": "LayoutModel",
          "model_module_version": "1.2.0",
          "state": {
            "_model_module": "@jupyter-widgets/base",
            "_model_module_version": "1.2.0",
            "_model_name": "LayoutModel",
            "_view_count": null,
            "_view_module": "@jupyter-widgets/base",
            "_view_module_version": "1.2.0",
            "_view_name": "LayoutView",
            "align_content": null,
            "align_items": null,
            "align_self": null,
            "border": null,
            "bottom": null,
            "display": null,
            "flex": null,
            "flex_flow": null,
            "grid_area": null,
            "grid_auto_columns": null,
            "grid_auto_flow": null,
            "grid_auto_rows": null,
            "grid_column": null,
            "grid_gap": null,
            "grid_row": null,
            "grid_template_areas": null,
            "grid_template_columns": null,
            "grid_template_rows": null,
            "height": null,
            "justify_content": null,
            "justify_items": null,
            "left": null,
            "margin": null,
            "max_height": null,
            "max_width": null,
            "min_height": null,
            "min_width": null,
            "object_fit": null,
            "object_position": null,
            "order": null,
            "overflow": null,
            "overflow_x": null,
            "overflow_y": null,
            "padding": null,
            "right": null,
            "top": null,
            "visibility": null,
            "width": null
          }
        },
        "3c22e366136b428c899420285e97a605": {
          "model_module": "@jupyter-widgets/base",
          "model_name": "LayoutModel",
          "model_module_version": "1.2.0",
          "state": {
            "_model_module": "@jupyter-widgets/base",
            "_model_module_version": "1.2.0",
            "_model_name": "LayoutModel",
            "_view_count": null,
            "_view_module": "@jupyter-widgets/base",
            "_view_module_version": "1.2.0",
            "_view_name": "LayoutView",
            "align_content": null,
            "align_items": null,
            "align_self": null,
            "border": null,
            "bottom": null,
            "display": null,
            "flex": null,
            "flex_flow": null,
            "grid_area": null,
            "grid_auto_columns": null,
            "grid_auto_flow": null,
            "grid_auto_rows": null,
            "grid_column": null,
            "grid_gap": null,
            "grid_row": null,
            "grid_template_areas": null,
            "grid_template_columns": null,
            "grid_template_rows": null,
            "height": null,
            "justify_content": null,
            "justify_items": null,
            "left": null,
            "margin": null,
            "max_height": null,
            "max_width": null,
            "min_height": null,
            "min_width": null,
            "object_fit": null,
            "object_position": null,
            "order": null,
            "overflow": null,
            "overflow_x": null,
            "overflow_y": null,
            "padding": null,
            "right": null,
            "top": null,
            "visibility": null,
            "width": null
          }
        },
        "176fe43698804249a00db70bbe2b16dd": {
          "model_module": "@jupyter-widgets/controls",
          "model_name": "DescriptionStyleModel",
          "model_module_version": "1.5.0",
          "state": {
            "_model_module": "@jupyter-widgets/controls",
            "_model_module_version": "1.5.0",
            "_model_name": "DescriptionStyleModel",
            "_view_count": null,
            "_view_module": "@jupyter-widgets/base",
            "_view_module_version": "1.2.0",
            "_view_name": "StyleView",
            "description_width": ""
          }
        },
        "901a098e869a44309097c5fe467ae929": {
          "model_module": "@jupyter-widgets/base",
          "model_name": "LayoutModel",
          "model_module_version": "1.2.0",
          "state": {
            "_model_module": "@jupyter-widgets/base",
            "_model_module_version": "1.2.0",
            "_model_name": "LayoutModel",
            "_view_count": null,
            "_view_module": "@jupyter-widgets/base",
            "_view_module_version": "1.2.0",
            "_view_name": "LayoutView",
            "align_content": null,
            "align_items": null,
            "align_self": null,
            "border": null,
            "bottom": null,
            "display": null,
            "flex": null,
            "flex_flow": null,
            "grid_area": null,
            "grid_auto_columns": null,
            "grid_auto_flow": null,
            "grid_auto_rows": null,
            "grid_column": null,
            "grid_gap": null,
            "grid_row": null,
            "grid_template_areas": null,
            "grid_template_columns": null,
            "grid_template_rows": null,
            "height": null,
            "justify_content": null,
            "justify_items": null,
            "left": null,
            "margin": null,
            "max_height": null,
            "max_width": null,
            "min_height": null,
            "min_width": null,
            "object_fit": null,
            "object_position": null,
            "order": null,
            "overflow": null,
            "overflow_x": null,
            "overflow_y": null,
            "padding": null,
            "right": null,
            "top": null,
            "visibility": null,
            "width": null
          }
        },
        "51d7aa6d586d4571be63f3ea06fcc381": {
          "model_module": "@jupyter-widgets/controls",
          "model_name": "ProgressStyleModel",
          "model_module_version": "1.5.0",
          "state": {
            "_model_module": "@jupyter-widgets/controls",
            "_model_module_version": "1.5.0",
            "_model_name": "ProgressStyleModel",
            "_view_count": null,
            "_view_module": "@jupyter-widgets/base",
            "_view_module_version": "1.2.0",
            "_view_name": "StyleView",
            "bar_color": null,
            "description_width": ""
          }
        },
        "d15092a902b74d23be0b21c5e4474cb4": {
          "model_module": "@jupyter-widgets/base",
          "model_name": "LayoutModel",
          "model_module_version": "1.2.0",
          "state": {
            "_model_module": "@jupyter-widgets/base",
            "_model_module_version": "1.2.0",
            "_model_name": "LayoutModel",
            "_view_count": null,
            "_view_module": "@jupyter-widgets/base",
            "_view_module_version": "1.2.0",
            "_view_name": "LayoutView",
            "align_content": null,
            "align_items": null,
            "align_self": null,
            "border": null,
            "bottom": null,
            "display": null,
            "flex": null,
            "flex_flow": null,
            "grid_area": null,
            "grid_auto_columns": null,
            "grid_auto_flow": null,
            "grid_auto_rows": null,
            "grid_column": null,
            "grid_gap": null,
            "grid_row": null,
            "grid_template_areas": null,
            "grid_template_columns": null,
            "grid_template_rows": null,
            "height": null,
            "justify_content": null,
            "justify_items": null,
            "left": null,
            "margin": null,
            "max_height": null,
            "max_width": null,
            "min_height": null,
            "min_width": null,
            "object_fit": null,
            "object_position": null,
            "order": null,
            "overflow": null,
            "overflow_x": null,
            "overflow_y": null,
            "padding": null,
            "right": null,
            "top": null,
            "visibility": null,
            "width": null
          }
        },
        "fcef14c704a6456d9668ef5891d6eaf8": {
          "model_module": "@jupyter-widgets/controls",
          "model_name": "DescriptionStyleModel",
          "model_module_version": "1.5.0",
          "state": {
            "_model_module": "@jupyter-widgets/controls",
            "_model_module_version": "1.5.0",
            "_model_name": "DescriptionStyleModel",
            "_view_count": null,
            "_view_module": "@jupyter-widgets/base",
            "_view_module_version": "1.2.0",
            "_view_name": "StyleView",
            "description_width": ""
          }
        }
      }
    }
  },
  "cells": [
    {
      "cell_type": "code",
      "source": [
        "import sys\n",
        "\n",
        "import torch\n",
        "import matplotlib.pyplot as plt\n",
        "\n",
        "import time\n",
        "\n",
        "import torch.nn as nn\n",
        "import torch.nn.functional as F\n",
        "\n",
        "import torchvision\n",
        "import torchvision.transforms as transforms\n",
        "import torchvision.datasets as dsets\n",
        "\n",
        "import numpy as np\n",
        "import tqdm\n",
        "\n",
        "from torch.utils.data import DataLoader\n",
        "from torch import optim"
      ],
      "metadata": {
        "id": "BgQzNvNxNm_Y"
      },
      "execution_count": 2,
      "outputs": []
    },
    {
      "cell_type": "code",
      "source": [
        "USE_CUDA = torch.cuda.is_available() # GPU를 사용가능하면 True, 아니라면 False를 리턴\n",
        "device = torch.device(\"cuda\" if USE_CUDA else \"cpu\") # GPU 사용 가능하면 사용하고 아니면 CPU 사용\n",
        "print(\"다음 기기로 학습합니다:\", device)"
      ],
      "metadata": {
        "colab": {
          "base_uri": "https://localhost:8080/"
        },
        "id": "hS9c82q2NrOo",
        "outputId": "536fe6ca-3a5a-4b18-89d2-56742d18dc36"
      },
      "execution_count": 3,
      "outputs": [
        {
          "output_type": "stream",
          "name": "stdout",
          "text": [
            "다음 기기로 학습합니다: cuda\n"
          ]
        }
      ]
    },
    {
      "cell_type": "code",
      "source": [
        "print(\"epoch와 batch size를 지정해줍니다.\")\n",
        "_epoch = 30\n",
        "batch_size = 128"
      ],
      "metadata": {
        "colab": {
          "base_uri": "https://localhost:8080/"
        },
        "id": "kTX8ER6fNuRm",
        "outputId": "ed10147a-3251-421c-c991-00c8e8921b3e"
      },
      "execution_count": 4,
      "outputs": [
        {
          "output_type": "stream",
          "name": "stdout",
          "text": [
            "epoch와 batch size를 지정해줍니다.\n"
          ]
        }
      ]
    },
    {
      "cell_type": "code",
      "source": [
        "transform = transforms.Compose([\n",
        "    transforms.Pad(4),\n",
        "    transforms.RandomHorizontalFlip(),\n",
        "    transforms.RandomCrop(32),\n",
        "    transforms.ToTensor()\n",
        "])"
      ],
      "metadata": {
        "id": "-O5wZflEN8nM"
      },
      "execution_count": 5,
      "outputs": []
    },
    {
      "cell_type": "code",
      "source": [
        "print(\"File Download : CIFAR10 dataset\")\n",
        "\n",
        "train_dataset = dsets.CIFAR10(root='./data', train=True,\n",
        "                                        download=True, transform=transform)\n",
        "train_loader = DataLoader(train_dataset, batch_size=batch_size,\n",
        "                                          shuffle=True, num_workers=2)\n",
        "\n",
        "val_dataset = dsets.CIFAR10(root='./data', train=False,\n",
        "                                       download=True, transform=transform)\n",
        "val_loader = DataLoader(val_dataset, batch_size=batch_size,\n",
        "                                         shuffle=False, num_workers=2)\n",
        "\n",
        "classes = ('plane', 'car', 'bird', 'cat', 'deer', 'dog', 'frog', 'horse', 'ship', 'truck')"
      ],
      "metadata": {
        "colab": {
          "base_uri": "https://localhost:8080/",
          "height": 122,
          "referenced_widgets": [
            "fb99028da5214c13ac67f2fce4b9dc6c",
            "4dbcfdef6e4a4b2697a1c40cbfc5949d",
            "8cc963e48ce241f7a694bb6c872175f4",
            "c0040d7eb13244f88fcaa83286295423",
            "0c85589fc61e4369a4dbf7c145c9b8d8",
            "3c22e366136b428c899420285e97a605",
            "176fe43698804249a00db70bbe2b16dd",
            "901a098e869a44309097c5fe467ae929",
            "51d7aa6d586d4571be63f3ea06fcc381",
            "d15092a902b74d23be0b21c5e4474cb4",
            "fcef14c704a6456d9668ef5891d6eaf8"
          ]
        },
        "id": "7vn0fqU3OAdd",
        "outputId": "95f62c06-9ae8-4287-f751-3032b82ebd2e"
      },
      "execution_count": 6,
      "outputs": [
        {
          "output_type": "stream",
          "name": "stdout",
          "text": [
            "File Download : CIFAR10 dataset\n",
            "Downloading https://www.cs.toronto.edu/~kriz/cifar-10-python.tar.gz to ./data/cifar-10-python.tar.gz\n"
          ]
        },
        {
          "output_type": "display_data",
          "data": {
            "text/plain": [
              "  0%|          | 0/170498071 [00:00<?, ?it/s]"
            ],
            "application/vnd.jupyter.widget-view+json": {
              "version_major": 2,
              "version_minor": 0,
              "model_id": "fb99028da5214c13ac67f2fce4b9dc6c"
            }
          },
          "metadata": {}
        },
        {
          "output_type": "stream",
          "name": "stdout",
          "text": [
            "Extracting ./data/cifar-10-python.tar.gz to ./data\n",
            "Files already downloaded and verified\n"
          ]
        }
      ]
    },
    {
      "cell_type": "markdown",
      "source": [
        "1번 모델 : CNN (실습 시간에 사용한 코드 활용)"
      ],
      "metadata": {
        "id": "BLZL4D_kNeIS"
      }
    },
    {
      "cell_type": "code",
      "source": [
        "class my_CNN(nn.Module):\n",
        "    def __init__(self):\n",
        "        super(my_CNN, self).__init__()\n",
        "\n",
        "        self.conv1 = nn.Conv2d(3, 16, 3, padding=1) \n",
        "        self.conv2 = nn.Conv2d(16, 32, 3, padding=1)\n",
        "        self.conv3 = nn.Conv2d(32, 32, 3, padding=1)\n",
        "        self.conv4 = nn.Conv2d(32, 64, 3, padding=1)\n",
        "        self.conv5 = nn.Conv2d(64, 64, 3, padding=2)\n",
        "\n",
        "        self.bn1 = nn.BatchNorm2d(16)\n",
        "        self.bn2 = nn.BatchNorm2d(32)\n",
        "        self.bn3 = nn.BatchNorm2d(32)\n",
        "        self.bn4 = nn.BatchNorm2d(64)\n",
        "        self.bn5 = nn.BatchNorm2d(64)\n",
        "\n",
        "        self.pool = nn.MaxPool2d(2, 2)\n",
        "\n",
        "        self.fc1 = nn.Linear(64*4*4, 256)\n",
        "        self.fc2 = nn.Linear(256, 128)\n",
        "        self.fc3 = nn.Linear(128, 64)\n",
        "        self.fc4 = nn.Linear(64, 10)\n",
        "\n",
        "        self.dropout = nn.Dropout(0.5)\n",
        "\n",
        "    def forward(self, x):\n",
        "        x = F.relu(self.bn1(self.conv1(x)))\n",
        "        x = self.pool(x)\n",
        "\n",
        "        x = F.relu(self.bn2(self.conv2(x)))\n",
        "        x = self.pool(x)\n",
        "\n",
        "        x = F.relu(self.bn3(self.conv3(x)))\n",
        "        x = self.pool(x)\n",
        "        x = self.dropout(x)\n",
        "\n",
        "        x = F.relu(self.bn4(self.conv4(x)))\n",
        "        x = self.pool(x)\n",
        "\n",
        "        x = F.relu(self.bn5(self.conv5(x)))\n",
        "\n",
        "        x = x.view(-1, 64*4*4)\n",
        "\n",
        "        x = F.relu(self.fc1(x))\n",
        "        x = self.dropout(x)\n",
        "        x = F.relu(self.fc2(x))\n",
        "        x = self.dropout(x)\n",
        "        x = F.relu(self.fc3(x))\n",
        "        x = self.fc4(x)\n",
        "\n",
        "        return x"
      ],
      "metadata": {
        "id": "JCI2Xt0lNiHb"
      },
      "execution_count": 7,
      "outputs": []
    },
    {
      "cell_type": "code",
      "source": [
        "net1 = my_CNN()\n",
        "net1 = net1.to(device)\n",
        "criterion = nn.CrossEntropyLoss()"
      ],
      "metadata": {
        "id": "NoVKs7fdPVLC"
      },
      "execution_count": 8,
      "outputs": []
    },
    {
      "cell_type": "code",
      "source": [
        "train_loss_history_myCNN = []\n",
        "val_loss_history_myCNN = []\n",
        "train_acc_history_myCNN = []\n",
        "val_acc_history_myCNN = []"
      ],
      "metadata": {
        "id": "m8pM10oPPhga"
      },
      "execution_count": 9,
      "outputs": []
    },
    {
      "cell_type": "code",
      "source": [
        "lr = 0.1\n",
        "optimizer = optim.SGD(net1.parameters(), lr=lr, momentum=0.9)\n",
        "lr_scheduler = optim.lr_scheduler.MultiStepLR(optimizer=optimizer, milestones=[int(_epoch * 0.5), int(_epoch * 0.05)], gamma=0.1, last_epoch=-1)"
      ],
      "metadata": {
        "id": "-85FXe2FRYqk"
      },
      "execution_count": 10,
      "outputs": []
    },
    {
      "cell_type": "code",
      "source": [
        "print(\"Training Start : First model (my_CNN)\")\n",
        "start = time.time()\n",
        "\n",
        "for epoch in range(_epoch):  \n",
        "    lr_scheduler.step()\n",
        "    \n",
        "    avg_cost = 0.0\n",
        "    train_loss = 0.0\n",
        "    train_total = 0.0\n",
        "\n",
        "\n",
        "    for i, data in enumerate(train_loader, 0):\n",
        "        inputs, labels = data\n",
        "        inputs = inputs.to(device)\n",
        "        labels = labels.to(device)\n",
        "\n",
        "        optimizer.zero_grad()\n",
        "\n",
        "        outputs = net1(inputs)\n",
        "        loss = criterion(outputs, labels)\n",
        "        loss.backward()\n",
        "        optimizer.step()\n",
        "        \n",
        "        train_loss += loss.item()\n",
        "        train_loss += loss.item()\n",
        "        train_total += (torch.argmax(outputs, dim=1) == labels).sum().item()\n",
        "    \n",
        "    avg_cost /= batch_size\n",
        "    train_loss = train_loss / len(train_loader)\n",
        "    train_acc = train_total / len(train_dataset)\n",
        "    \n",
        "\n",
        "    with torch.no_grad():\n",
        "        val_loss = 0.0\n",
        "        total = 0\n",
        "        for val_step, val in enumerate(val_loader):\n",
        "            val_x, val_label = val\n",
        "            \n",
        "            val_x = val_x.to(device)\n",
        "            val_label = val_label.to(device)\n",
        "\n",
        "            val_output = net1(val_x)\n",
        "            v_loss = criterion(val_output, val_label)\n",
        "            val_loss += v_loss\n",
        "            total += (torch.argmax(val_output, dim=1) == val_label).sum().item()\n",
        "\n",
        "        val_loss = val_loss / len(val_loader)\n",
        "        val_acc = total / len(val_dataset)\n",
        "\n",
        "    print(\"epoch: {}/{} | train loss: {} | val loss: {}\".format(epoch+1, _epoch, train_loss , val_loss))\n",
        "    print(\"train acc : {}\".format(train_acc))\n",
        "    print(\"val_acc: {}\".format(val_acc))\n",
        "\n",
        "    train_loss_history_myCNN.append(train_loss)\n",
        "    train_acc_history_myCNN.append(train_acc)     \n",
        "    val_loss_history_myCNN .append(val_loss)\n",
        "    val_acc_history_myCNN.append(val_acc)\n",
        "\n",
        "end = time.time()\n",
        "\n",
        "t = int(end - start)\n",
        "print(\"Training time: %dm %ds\" %(t//60, t%60))\n",
        "print(\"Training Finished\")"
      ],
      "metadata": {
        "colab": {
          "base_uri": "https://localhost:8080/"
        },
        "id": "kkZjFK7hPqsm",
        "outputId": "186791a6-9750-401e-ea4b-12bc237b6bad"
      },
      "execution_count": 11,
      "outputs": [
        {
          "output_type": "stream",
          "name": "stdout",
          "text": [
            "Training Start : First model (my_CNN)\n"
          ]
        },
        {
          "output_type": "stream",
          "name": "stderr",
          "text": [
            "/usr/local/lib/python3.7/dist-packages/torch/optim/lr_scheduler.py:136: UserWarning: Detected call of `lr_scheduler.step()` before `optimizer.step()`. In PyTorch 1.1.0 and later, you should call them in the opposite order: `optimizer.step()` before `lr_scheduler.step()`.  Failure to do this will result in PyTorch skipping the first value of the learning rate schedule. See more details at https://pytorch.org/docs/stable/optim.html#how-to-adjust-learning-rate\n",
            "  \"https://pytorch.org/docs/stable/optim.html#how-to-adjust-learning-rate\", UserWarning)\n"
          ]
        },
        {
          "output_type": "stream",
          "name": "stdout",
          "text": [
            "epoch: 1/30 | train loss: 4.049068611296241 | val loss: 1.7843070030212402\n",
            "train acc : 0.21262\n",
            "val_acc: 0.2909\n",
            "epoch: 2/30 | train loss: 3.439584992425826 | val loss: 1.657216191291809\n",
            "train acc : 0.31554\n",
            "val_acc: 0.3356\n",
            "epoch: 3/30 | train loss: 3.2133447111720015 | val loss: 1.5563328266143799\n",
            "train acc : 0.37932\n",
            "val_acc: 0.4068\n",
            "epoch: 4/30 | train loss: 3.012904434252883 | val loss: 1.4853856563568115\n",
            "train acc : 0.43096\n",
            "val_acc: 0.4324\n",
            "epoch: 5/30 | train loss: 2.849987397108541 | val loss: 1.3600926399230957\n",
            "train acc : 0.46828\n",
            "val_acc: 0.4965\n",
            "epoch: 6/30 | train loss: 2.710583513655016 | val loss: 1.3140246868133545\n",
            "train acc : 0.50204\n",
            "val_acc: 0.5276\n",
            "epoch: 7/30 | train loss: 2.613028227520721 | val loss: 1.2628493309020996\n",
            "train acc : 0.52796\n",
            "val_acc: 0.5439\n",
            "epoch: 8/30 | train loss: 2.51473925546612 | val loss: 1.2776647806167603\n",
            "train acc : 0.54912\n",
            "val_acc: 0.547\n",
            "epoch: 9/30 | train loss: 2.425020258444959 | val loss: 1.2151488065719604\n",
            "train acc : 0.56834\n",
            "val_acc: 0.5681\n",
            "epoch: 10/30 | train loss: 2.3931776388831763 | val loss: 1.2017828226089478\n",
            "train acc : 0.57408\n",
            "val_acc: 0.575\n",
            "epoch: 11/30 | train loss: 2.3291759558041076 | val loss: 1.1933114528656006\n",
            "train acc : 0.5855\n",
            "val_acc: 0.5792\n",
            "epoch: 12/30 | train loss: 2.2784848118682044 | val loss: 1.1384540796279907\n",
            "train acc : 0.59558\n",
            "val_acc: 0.6003\n",
            "epoch: 13/30 | train loss: 2.2499368294425635 | val loss: 1.1276823282241821\n",
            "train acc : 0.60304\n",
            "val_acc: 0.5986\n",
            "epoch: 14/30 | train loss: 2.1998483591982168 | val loss: 1.1151337623596191\n",
            "train acc : 0.6138\n",
            "val_acc: 0.6112\n",
            "epoch: 15/30 | train loss: 2.0727551516974367 | val loss: 1.0518351793289185\n",
            "train acc : 0.635\n",
            "val_acc: 0.6329\n",
            "epoch: 16/30 | train loss: 2.0530657746907695 | val loss: 1.0429627895355225\n",
            "train acc : 0.63894\n",
            "val_acc: 0.635\n",
            "epoch: 17/30 | train loss: 2.0341693986102443 | val loss: 1.0483787059783936\n",
            "train acc : 0.64018\n",
            "val_acc: 0.6367\n",
            "epoch: 18/30 | train loss: 2.025696417559748 | val loss: 1.046956181526184\n",
            "train acc : 0.64446\n",
            "val_acc: 0.6352\n",
            "epoch: 19/30 | train loss: 2.0133167371115723 | val loss: 1.0233277082443237\n",
            "train acc : 0.64572\n",
            "val_acc: 0.6427\n",
            "epoch: 20/30 | train loss: 1.9961773196754553 | val loss: 1.0196928977966309\n",
            "train acc : 0.64954\n",
            "val_acc: 0.6419\n",
            "epoch: 21/30 | train loss: 1.9982922589382552 | val loss: 1.0159294605255127\n",
            "train acc : 0.6493\n",
            "val_acc: 0.6423\n",
            "epoch: 22/30 | train loss: 1.978400354800017 | val loss: 1.0171774625778198\n",
            "train acc : 0.65206\n",
            "val_acc: 0.6425\n",
            "epoch: 23/30 | train loss: 1.9820972004205064 | val loss: 1.02815842628479\n",
            "train acc : 0.65074\n",
            "val_acc: 0.6482\n",
            "epoch: 24/30 | train loss: 1.9777158166441466 | val loss: 1.0146911144256592\n",
            "train acc : 0.65116\n",
            "val_acc: 0.6429\n",
            "epoch: 25/30 | train loss: 1.9709442860025275 | val loss: 1.0192811489105225\n",
            "train acc : 0.65096\n",
            "val_acc: 0.6468\n",
            "epoch: 26/30 | train loss: 1.9670119904496175 | val loss: 1.0118917226791382\n",
            "train acc : 0.6518\n",
            "val_acc: 0.6446\n",
            "epoch: 27/30 | train loss: 1.9717046921820287 | val loss: 1.0045485496520996\n",
            "train acc : 0.65412\n",
            "val_acc: 0.6443\n",
            "epoch: 28/30 | train loss: 1.9583529361983394 | val loss: 0.9963359832763672\n",
            "train acc : 0.65672\n",
            "val_acc: 0.6458\n",
            "epoch: 29/30 | train loss: 1.9396042250611287 | val loss: 0.9952597618103027\n",
            "train acc : 0.65984\n",
            "val_acc: 0.6594\n",
            "epoch: 30/30 | train loss: 1.9513145069332074 | val loss: 1.001043677330017\n",
            "train acc : 0.65654\n",
            "val_acc: 0.6488\n",
            "Training time: 7m 45s\n",
            "Training Finished\n"
          ]
        }
      ]
    },
    {
      "cell_type": "code",
      "source": [
        "print(\"Test Start : First model (my_CNN)\")\n",
        "\n",
        "start = time.time()\n",
        "correct = 0.0\n",
        "total = 0.0\n",
        "\n",
        "with torch.no_grad():\n",
        "    for i, data in enumerate(val_loader, 0):\n",
        "        inputs, labels = data\n",
        "        inputs = inputs.to(device)\n",
        "        labels = labels.to(device)\n",
        "        \n",
        "        outputs = net1(inputs)\n",
        "        \n",
        "        _, predicted = torch.max(outputs.data, 1)\n",
        "        total += labels.size(0)\n",
        "        correct += (predicted == labels).sum().item()\n",
        "\n",
        "end = time.time()\n",
        "t = int(end-start)\n",
        "print(\"Test time: %dm %ds\" %(t//60, t%60))\n",
        "print(\"Test Finished\")\n",
        "\n",
        "print(f'Accuracy of the network on the 10000 test images: {100 * correct // total} %')"
      ],
      "metadata": {
        "id": "hjAXSRAcQz8_",
        "colab": {
          "base_uri": "https://localhost:8080/"
        },
        "outputId": "8dd1091b-a690-4cba-ce1e-0684dad2a5cb"
      },
      "execution_count": 12,
      "outputs": [
        {
          "output_type": "stream",
          "name": "stdout",
          "text": [
            "Test Start : First model (my_CNN)\n",
            "Test time: 0m 2s\n",
            "Test Finished\n",
            "Accuracy of the network on the 10000 test images: 65.0 %\n"
          ]
        }
      ]
    },
    {
      "cell_type": "code",
      "source": [
        "print(\"Show Loss plot : First model\")\n",
        "\n",
        "plt.plot(train_loss_history_myCNN, label = ' train_loss')\n",
        "val_loss_history = [i.cpu() for i in val_loss_history_myCNN]\n",
        "plt.plot(val_loss_history, label = 'val_loss')\n",
        "plt.legend()\n",
        "plt.show()"
      ],
      "metadata": {
        "id": "RgVUZOPtRDJy",
        "colab": {
          "base_uri": "https://localhost:8080/",
          "height": 283
        },
        "outputId": "fd0e4bf5-f338-45dc-f18e-0f06745138a8"
      },
      "execution_count": 13,
      "outputs": [
        {
          "output_type": "stream",
          "name": "stdout",
          "text": [
            "Show Loss plot : First model\n"
          ]
        },
        {
          "output_type": "display_data",
          "data": {
            "text/plain": [
              "<Figure size 432x288 with 1 Axes>"
            ],
            "image/png": "[encoded data removed]"
          },
          "metadata": {
            "needs_background": "light"
          }
        }
      ]
    },
    {
      "cell_type": "code",
      "source": [
        "print(\"Show Acc plot : First model\")\n",
        "\n",
        "plt.plot(train_acc_history_myCNN, label = ' train_acc')\n",
        "plt.plot(val_acc_history_myCNN, label = 'val_acc')\n",
        "plt.legend()\n",
        "plt.show()"
      ],
      "metadata": {
        "id": "9LKmXDlMRFTI",
        "colab": {
          "base_uri": "https://localhost:8080/",
          "height": 283
        },
        "outputId": "cc62a256-32a1-4d69-a6f8-706df37b2696"
      },
      "execution_count": 14,
      "outputs": [
        {
          "output_type": "stream",
          "name": "stdout",
          "text": [
            "Show Acc plot : First model\n"
          ]
        },
        {
          "output_type": "display_data",
          "data": {
            "text/plain": [
              "<Figure size 432x288 with 1 Axes>"
            ],
            "image/png": "[encoded data removed]"
          },
          "metadata": {
            "needs_background": "light"
          }
        }
      ]
    },
    {
      "cell_type": "markdown",
      "source": [
        "2번 모델 : ResNet"
      ],
      "metadata": {
        "id": "YVErOAH6TIlh"
      }
    },
    {
      "cell_type": "code",
      "source": [
        "class ResidualBlock(nn.Module):\n",
        "    def __init__(self, in_channels, out_channels, stride):\n",
        "        super().__init__()\n",
        "        self.conv1 = nn.Conv2d(in_channels, out_channels, 3, stride, 1)\n",
        "        self.bn1 = nn.BatchNorm2d(out_channels)\n",
        "        self.conv2 = nn.Conv2d(out_channels, out_channels, 3, 1, 1)\n",
        "        self.bn2 = nn.BatchNorm2d(out_channels)\n",
        "\n",
        "        if stride != 1: # When Downsampling,\n",
        "            self.downsample = nn.Sequential(\n",
        "                                nn.Conv2d(in_channels, out_channels, 3, 2, 1),\n",
        "                                nn.BatchNorm2d(out_channels)\n",
        "            )\n",
        "        else:\n",
        "            self.downsample = None\n",
        "    \n",
        "    def forward(self, x):\n",
        "        out = self.bn1(self.conv1(x))\n",
        "        out = F.relu(out)\n",
        "        out = self.bn2(self.conv2(out))\n",
        "        if self.downsample is not None:\n",
        "            x = self.downsample(x)\n",
        "        out += x\n",
        "        return F.relu(out)\n",
        "\n",
        "class ResNet(nn.Module):\n",
        "    def __init__(self, n):\n",
        "        super().__init__()\n",
        "        self.conv1 = nn.Conv2d(3, 16, 3, 1, 1)\n",
        "        self.bn1 = nn.BatchNorm2d(16)\n",
        "        self.layer1 = []\n",
        "        for _ in range(n):\n",
        "            self.layer1.append(ResidualBlock(16, 16, 1))\n",
        "        self.layer2 = [ResidualBlock(16, 32, 2)]\n",
        "        for _ in range(n-1):\n",
        "            self.layer2.append(ResidualBlock(32, 32, 1))\n",
        "        self.layer3 = [ResidualBlock(32, 64, 2)]\n",
        "        for _ in range(n-1):\n",
        "            self.layer3.append(ResidualBlock(64, 64, 1))\n",
        "        \n",
        "        self.layer1 = nn.Sequential(*self.layer1)\n",
        "        self.layer2 = nn.Sequential(*self.layer2)\n",
        "        self.layer3 = nn.Sequential(*self.layer3)\n",
        "\n",
        "        self.pool = nn.AvgPool2d(8)\n",
        "        self.linear = nn.Linear(64, 10)\n",
        "\n",
        "    def forward(self, x):\n",
        "        x = self.bn1(self.conv1(x))\n",
        "        x = self.layer1(x)\n",
        "        x = self.layer2(x)\n",
        "        x = self.layer3(x)\n",
        "        x = self.pool(x)\n",
        "        x = x.view(x.size(0), -1)\n",
        "        x = self.linear(x)\n",
        "        return x"
      ],
      "metadata": {
        "id": "Al1qNkMwTD-Q"
      },
      "execution_count": 15,
      "outputs": []
    },
    {
      "cell_type": "code",
      "source": [
        "net2 = ResNet(3)\n",
        "net2 = net2.to(device)\n",
        "criterion = nn.CrossEntropyLoss()"
      ],
      "metadata": {
        "id": "vilHeT7TTeQM"
      },
      "execution_count": 16,
      "outputs": []
    },
    {
      "cell_type": "code",
      "source": [
        "train_loss_history_ResNet = []\n",
        "val_loss_history_ResNet = []\n",
        "train_acc_history_ResNet = []\n",
        "val_acc_history_ResNet = []"
      ],
      "metadata": {
        "id": "m-c_fw9fTjgq"
      },
      "execution_count": 17,
      "outputs": []
    },
    {
      "cell_type": "code",
      "source": [
        "lr = 0.1\n",
        "optimizer = optim.SGD(net2.parameters(), lr=lr, momentum=0.9)\n",
        "lr_scheduler = optim.lr_scheduler.MultiStepLR(optimizer=optimizer, milestones=[int(_epoch * 0.5), int(_epoch * 0.05)], gamma=0.1, last_epoch=-1)"
      ],
      "metadata": {
        "id": "7hrNLHhGTtVx"
      },
      "execution_count": 18,
      "outputs": []
    },
    {
      "cell_type": "code",
      "source": [
        "print(\"Training Start : Second model (ResNet)\")\n",
        "start = time.time()\n",
        "\n",
        "for epoch in range(_epoch):  \n",
        "    lr_scheduler.step()\n",
        "    \n",
        "    avg_cost = 0.0\n",
        "    train_loss = 0.0\n",
        "    train_total = 0.0\n",
        "\n",
        "\n",
        "    for i, data in enumerate(train_loader, 0):\n",
        "        inputs, labels = data\n",
        "        inputs = inputs.to(device)\n",
        "        labels = labels.to(device)\n",
        "\n",
        "        optimizer.zero_grad()\n",
        "\n",
        "        outputs = net2(inputs)\n",
        "        loss = criterion(outputs, labels)\n",
        "        loss.backward()\n",
        "        optimizer.step()\n",
        "        \n",
        "        train_loss += loss.item()\n",
        "        train_loss += loss.item()\n",
        "        train_total += (torch.argmax(outputs, dim=1) == labels).sum().item()\n",
        "    \n",
        "    avg_cost /= batch_size\n",
        "    train_loss = train_loss / len(train_loader)\n",
        "    train_acc = train_total / len(train_dataset)\n",
        "\n",
        "\n",
        "    with torch.no_grad():\n",
        "        val_loss = 0.0\n",
        "        total = 0\n",
        "        for val_step, val in enumerate(val_loader):\n",
        "            val_x, val_label = val\n",
        "            \n",
        "            val_x = val_x.to(device)\n",
        "            val_label = val_label.to(device)\n",
        "\n",
        "            val_output = net2(val_x)\n",
        "            v_loss = criterion(val_output, val_label)\n",
        "            val_loss += v_loss\n",
        "            total += (torch.argmax(val_output, dim=1) == val_label).sum().item()\n",
        "\n",
        "        val_loss = val_loss / len(val_loader)\n",
        "        val_acc = total / len(val_dataset)\n",
        "\n",
        "    print(\"epoch: {}/{} | train loss: {} | val loss: {}\".format(epoch+1, _epoch, train_loss , val_loss))\n",
        "    print(\"train acc : {}\".format(train_acc))\n",
        "    print(\"val_acc: {}\".format(val_acc))\n",
        "\n",
        "    train_loss_history_ResNet.append(train_loss)\n",
        "    train_acc_history_ResNet.append(train_acc)     \n",
        "    val_loss_history_ResNet .append(val_loss)\n",
        "    val_acc_history_ResNet.append(val_acc)\n",
        "\n",
        "end = time.time()\n",
        "\n",
        "t = int(end - start)\n",
        "print(\"Training time: %dm %ds\" %(t//60, t%60))\n",
        "print(\"Training Finished\")"
      ],
      "metadata": {
        "colab": {
          "base_uri": "https://localhost:8080/"
        },
        "id": "LxkfxbaITzjO",
        "outputId": "27a14916-3c63-4844-d259-e5c92a657937"
      },
      "execution_count": 19,
      "outputs": [
        {
          "output_type": "stream",
          "name": "stdout",
          "text": [
            "Training Start : Second model (ResNet)\n",
            "epoch: 1/30 | train loss: 3.0706167379608544 | val loss: 1.2111109495162964\n",
            "train acc : 0.42822\n",
            "val_acc: 0.5605\n",
            "epoch: 2/30 | train loss: 2.130186243435306 | val loss: 0.977546215057373\n",
            "train acc : 0.61508\n",
            "val_acc: 0.6501\n",
            "epoch: 3/30 | train loss: 1.7400294749633125 | val loss: 0.822436511516571\n",
            "train acc : 0.689\n",
            "val_acc: 0.7116\n",
            "epoch: 4/30 | train loss: 1.50214685290061 | val loss: 0.7091209292411804\n",
            "train acc : 0.73496\n",
            "val_acc: 0.7482\n",
            "epoch: 5/30 | train loss: 1.3325617846930424 | val loss: 0.674186110496521\n",
            "train acc : 0.7657\n",
            "val_acc: 0.7647\n",
            "epoch: 6/30 | train loss: 1.2385271252573604 | val loss: 0.6515331268310547\n",
            "train acc : 0.78276\n",
            "val_acc: 0.7726\n",
            "epoch: 7/30 | train loss: 1.1453178052402213 | val loss: 0.5983988046646118\n",
            "train acc : 0.80162\n",
            "val_acc: 0.7937\n",
            "epoch: 8/30 | train loss: 1.0741648675535647 | val loss: 0.5643531680107117\n",
            "train acc : 0.8125\n",
            "val_acc: 0.8049\n",
            "epoch: 9/30 | train loss: 1.020241820598807 | val loss: 0.5532408952713013\n",
            "train acc : 0.82332\n",
            "val_acc: 0.8129\n",
            "epoch: 10/30 | train loss: 0.9780927888877556 | val loss: 0.5160316824913025\n",
            "train acc : 0.82946\n",
            "val_acc: 0.8257\n",
            "epoch: 11/30 | train loss: 0.924320386651227 | val loss: 0.5260205268859863\n",
            "train acc : 0.83964\n",
            "val_acc: 0.8184\n",
            "epoch: 12/30 | train loss: 0.875786296394475 | val loss: 0.5109081268310547\n",
            "train acc : 0.84722\n",
            "val_acc: 0.825\n",
            "epoch: 13/30 | train loss: 0.8461961367398577 | val loss: 0.5041114687919617\n",
            "train acc : 0.85282\n",
            "val_acc: 0.8266\n",
            "epoch: 14/30 | train loss: 0.8144571528867688 | val loss: 0.4894557595252991\n",
            "train acc : 0.8581\n",
            "val_acc: 0.8342\n",
            "epoch: 15/30 | train loss: 0.6650391429129159 | val loss: 0.42695552110671997\n",
            "train acc : 0.88488\n",
            "val_acc: 0.8537\n",
            "epoch: 16/30 | train loss: 0.6323992036797507 | val loss: 0.41984134912490845\n",
            "train acc : 0.89226\n",
            "val_acc: 0.8525\n",
            "epoch: 17/30 | train loss: 0.6170594623631529 | val loss: 0.4173164963722229\n",
            "train acc : 0.89416\n",
            "val_acc: 0.8565\n",
            "epoch: 18/30 | train loss: 0.6083551436052907 | val loss: 0.41384005546569824\n",
            "train acc : 0.8946\n",
            "val_acc: 0.8595\n",
            "epoch: 19/30 | train loss: 0.5956139372437811 | val loss: 0.4149443805217743\n",
            "train acc : 0.89822\n",
            "val_acc: 0.862\n",
            "epoch: 20/30 | train loss: 0.5827742504799153 | val loss: 0.41504645347595215\n",
            "train acc : 0.8991\n",
            "val_acc: 0.8562\n",
            "epoch: 21/30 | train loss: 0.583415558957078 | val loss: 0.4088573455810547\n",
            "train acc : 0.90162\n",
            "val_acc: 0.8607\n",
            "epoch: 22/30 | train loss: 0.5717661203173421 | val loss: 0.4166408181190491\n",
            "train acc : 0.90282\n",
            "val_acc: 0.8562\n",
            "epoch: 23/30 | train loss: 0.5614914573976756 | val loss: 0.4072573184967041\n",
            "train acc : 0.90344\n",
            "val_acc: 0.8632\n",
            "epoch: 24/30 | train loss: 0.5576592401013045 | val loss: 0.41788816452026367\n",
            "train acc : 0.90414\n",
            "val_acc: 0.859\n",
            "epoch: 25/30 | train loss: 0.5533854283411485 | val loss: 0.4082801640033722\n",
            "train acc : 0.90492\n",
            "val_acc: 0.8631\n",
            "epoch: 26/30 | train loss: 0.5422529931111104 | val loss: 0.4119337201118469\n",
            "train acc : 0.90684\n",
            "val_acc: 0.8629\n",
            "epoch: 27/30 | train loss: 0.5417408584938634 | val loss: 0.40994495153427124\n",
            "train acc : 0.907\n",
            "val_acc: 0.8663\n",
            "epoch: 28/30 | train loss: 0.5350165681918259 | val loss: 0.4059982895851135\n",
            "train acc : 0.9086\n",
            "val_acc: 0.8624\n",
            "epoch: 29/30 | train loss: 0.5298293580484512 | val loss: 0.4076654613018036\n",
            "train acc : 0.9081\n",
            "val_acc: 0.8616\n",
            "epoch: 30/30 | train loss: 0.5256961892023111 | val loss: 0.4077981114387512\n",
            "train acc : 0.90952\n",
            "val_acc: 0.8627\n",
            "Training time: 9m 40s\n",
            "Training Finished\n"
          ]
        }
      ]
    },
    {
      "cell_type": "code",
      "source": [
        "print(\"Test Start : Second model (ResNet)\")\n",
        "\n",
        "start = time.time()\n",
        "correct = 0.0\n",
        "total = 0.0\n",
        "\n",
        "with torch.no_grad():\n",
        "    for i, data in enumerate(val_loader, 0):\n",
        "        inputs, labels = data\n",
        "        inputs = inputs.to(device)\n",
        "        labels = labels.to(device)\n",
        "        \n",
        "        outputs = net2(inputs)\n",
        "        \n",
        "        _, predicted = torch.max(outputs.data, 1)\n",
        "        total += labels.size(0)\n",
        "        correct += (predicted == labels).sum().item()\n",
        "\n",
        "end = time.time()\n",
        "t = int(end-start)\n",
        "print(\"Test time: %dm %ds\" %(t//60, t%60))\n",
        "print(\"Test Finished\")\n",
        "\n",
        "print(f'Accuracy of the network on the 10000 test images: {100 * correct // total} %')"
      ],
      "metadata": {
        "colab": {
          "base_uri": "https://localhost:8080/"
        },
        "id": "TDfsB_gcT_67",
        "outputId": "492d94e8-476b-42d5-f7fd-d88c25fc330c"
      },
      "execution_count": 20,
      "outputs": [
        {
          "output_type": "stream",
          "name": "stdout",
          "text": [
            "Test Start : Second model (ResNet)\n",
            "Test time: 0m 2s\n",
            "Test Finished\n",
            "Accuracy of the network on the 10000 test images: 86.0 %\n"
          ]
        }
      ]
    },
    {
      "cell_type": "code",
      "source": [
        "print(\"Show Loss plot : Second model\")\n",
        "\n",
        "plt.plot(train_loss_history_ResNet, label = ' train_loss')\n",
        "val_loss_history_ResNet = [i.cpu() for i in val_loss_history_ResNet]\n",
        "plt.plot(val_loss_history_ResNet, label = 'val_loss')\n",
        "plt.legend()\n",
        "plt.show()"
      ],
      "metadata": {
        "colab": {
          "base_uri": "https://localhost:8080/",
          "height": 283
        },
        "id": "cI7mvVIHUC8y",
        "outputId": "d354c6e0-0c1a-4ca0-dbfd-af4a18a1c744"
      },
      "execution_count": 21,
      "outputs": [
        {
          "output_type": "stream",
          "name": "stdout",
          "text": [
            "Show Loss plot : Second model\n"
          ]
        },
        {
          "output_type": "display_data",
          "data": {
            "text/plain": [
              "<Figure size 432x288 with 1 Axes>"
            ],
            "image/png": "[encoded data removed]"
          },
          "metadata": {
            "needs_background": "light"
          }
        }
      ]
    },
    {
      "cell_type": "code",
      "source": [
        "print(\"Show Acc plot : Second model\")\n",
        "\n",
        "plt.plot(train_acc_history_ResNet, label = ' train_acc')\n",
        "plt.plot(val_acc_history_ResNet, label = 'val_acc')\n",
        "plt.legend()\n",
        "plt.show()"
      ],
      "metadata": {
        "colab": {
          "base_uri": "https://localhost:8080/",
          "height": 283
        },
        "id": "anM7L2TXVSFm",
        "outputId": "c2a304d8-c423-41ec-c191-ab3660ab088f"
      },
      "execution_count": 22,
      "outputs": [
        {
          "output_type": "stream",
          "name": "stdout",
          "text": [
            "Show Acc plot : Second model\n"
          ]
        },
        {
          "output_type": "display_data",
          "data": {
            "text/plain": [
              "<Figure size 432x288 with 1 Axes>"
            ],
            "image/png": "[encoded data removed]"
          },
          "metadata": {
            "needs_background": "light"
          }
        }
      ]
    },
    {
      "cell_type": "markdown",
      "source": [
        "3번 모델 : DenseNet\n",
        "https://github.com/weiaicunzai/pytorch-cifar100/blob/master/models/densenet.py"
      ],
      "metadata": {
        "id": "rmIX5uSAVbCJ"
      }
    },
    {
      "cell_type": "code",
      "source": [
        "class Bottleneck(nn.Module):\n",
        "    def __init__(self, in_channels, growth_rate):\n",
        "        super().__init__()\n",
        "        #\"\"\"In  our experiments, we let each 1×1 convolution\n",
        "        #produce 4k feature-maps.\"\"\"\n",
        "        inner_channel = 4 * growth_rate\n",
        "\n",
        "        #\"\"\"We find this design especially effective for DenseNet and\n",
        "        #we refer to our network with such a bottleneck layer, i.e.,\n",
        "        #to the BN-ReLU-Conv(1×1)-BN-ReLU-Conv(3×3) version of H ` ,\n",
        "        #as DenseNet-B.\"\"\"\n",
        "        self.bottle_neck = nn.Sequential(\n",
        "            nn.BatchNorm2d(in_channels),\n",
        "            nn.ReLU(inplace=True),\n",
        "            nn.Conv2d(in_channels, inner_channel, kernel_size=1, bias=False),\n",
        "            nn.BatchNorm2d(inner_channel),\n",
        "            nn.ReLU(inplace=True),\n",
        "            nn.Conv2d(inner_channel, growth_rate, kernel_size=3, padding=1, bias=False)\n",
        "        )\n",
        "\n",
        "    def forward(self, x):\n",
        "        return torch.cat([x, self.bottle_neck(x)], 1)\n",
        "\n",
        "#\"\"\"We refer to layers between blocks as transition\n",
        "#layers, which do convolution and pooling.\"\"\"\n",
        "class Transition(nn.Module):\n",
        "    def __init__(self, in_channels, out_channels):\n",
        "        super().__init__()\n",
        "        #\"\"\"The transition layers used in our experiments\n",
        "        #consist of a batch normalization layer and an 1×1\n",
        "        #convolutional layer followed by a 2×2 average pooling\n",
        "        #layer\"\"\".\n",
        "        self.down_sample = nn.Sequential(\n",
        "            nn.BatchNorm2d(in_channels),\n",
        "            nn.Conv2d(in_channels, out_channels, 1, bias=False),\n",
        "            nn.AvgPool2d(2, stride=2)\n",
        "        )\n",
        "\n",
        "    def forward(self, x):\n",
        "        return self.down_sample(x)\n",
        "\n",
        "#DesneNet-BC\n",
        "#B stands for bottleneck layer(BN-RELU-CONV(1x1)-BN-RELU-CONV(3x3))\n",
        "#C stands for compression factor(0<=theta<=1)\n",
        "class DenseNet(nn.Module):\n",
        "    def __init__(self, block, nblocks, growth_rate=12, reduction=0.5, num_class=100):\n",
        "        super().__init__()\n",
        "        self.growth_rate = growth_rate\n",
        "\n",
        "        #\"\"\"Before entering the first dense block, a convolution\n",
        "        #with 16 (or twice the growth rate for DenseNet-BC)\n",
        "        #output channels is performed on the input images.\"\"\"\n",
        "        inner_channels = 2 * growth_rate\n",
        "\n",
        "        #For convolutional layers with kernel size 3×3, each\n",
        "        #side of the inputs is zero-padded by one pixel to keep\n",
        "        #the feature-map size fixed.\n",
        "        self.conv1 = nn.Conv2d(3, inner_channels, kernel_size=3, padding=1, bias=False)\n",
        "\n",
        "        self.features = nn.Sequential()\n",
        "\n",
        "        for index in range(len(nblocks) - 1):\n",
        "            self.features.add_module(\"dense_block_layer_{}\".format(index), self._make_dense_layers(block, inner_channels, nblocks[index]))\n",
        "            inner_channels += growth_rate * nblocks[index]\n",
        "\n",
        "            #\"\"\"If a dense block contains m feature-maps, we let the\n",
        "            #following transition layer generate θm output feature-\n",
        "            #maps, where 0 < θ ≤ 1 is referred to as the compression\n",
        "            #fac-tor.\n",
        "            out_channels = int(reduction * inner_channels) # int() will automatic floor the value\n",
        "            self.features.add_module(\"transition_layer_{}\".format(index), Transition(inner_channels, out_channels))\n",
        "            inner_channels = out_channels\n",
        "\n",
        "        self.features.add_module(\"dense_block{}\".format(len(nblocks) - 1), self._make_dense_layers(block, inner_channels, nblocks[len(nblocks)-1]))\n",
        "        inner_channels += growth_rate * nblocks[len(nblocks) - 1]\n",
        "        self.features.add_module('bn', nn.BatchNorm2d(inner_channels))\n",
        "        self.features.add_module('relu', nn.ReLU(inplace=True))\n",
        "\n",
        "        self.avgpool = nn.AdaptiveAvgPool2d((1, 1))\n",
        "\n",
        "        self.linear = nn.Linear(inner_channels, num_class)\n",
        "\n",
        "    def forward(self, x):\n",
        "        output = self.conv1(x)\n",
        "        output = self.features(output)\n",
        "        output = self.avgpool(output)\n",
        "        output = output.view(output.size()[0], -1)\n",
        "        output = self.linear(output)\n",
        "        return output\n",
        "\n",
        "    def _make_dense_layers(self, block, in_channels, nblocks):\n",
        "        dense_block = nn.Sequential()\n",
        "        for index in range(nblocks):\n",
        "            dense_block.add_module('bottle_neck_layer_{}'.format(index), block(in_channels, self.growth_rate))\n",
        "            in_channels += self.growth_rate\n",
        "        return dense_block\n",
        "\n",
        "def densenet121():\n",
        "    return DenseNet(Bottleneck, [6,12,24,16], growth_rate=32)"
      ],
      "metadata": {
        "id": "YDuEVEwjViGz"
      },
      "execution_count": 23,
      "outputs": []
    },
    {
      "cell_type": "code",
      "source": [
        "net3 = densenet121()\n",
        "net3 = net3.to(device)\n",
        "criterion = nn.CrossEntropyLoss()"
      ],
      "metadata": {
        "id": "ohvIpXOAWTFX"
      },
      "execution_count": 24,
      "outputs": []
    },
    {
      "cell_type": "code",
      "source": [
        "train_loss_history_DenseNet = []\n",
        "val_loss_history_DenseNet = []\n",
        "train_acc_history_DenseNet = []\n",
        "val_acc_history_DenseNet = []"
      ],
      "metadata": {
        "id": "fEB5QjrdWdtS"
      },
      "execution_count": 25,
      "outputs": []
    },
    {
      "cell_type": "code",
      "source": [
        "lr = 0.1\n",
        "optimizer = optim.SGD(net3.parameters(), lr=lr, momentum=0.9)\n",
        "lr_scheduler = optim.lr_scheduler.MultiStepLR(optimizer=optimizer, milestones=[int(_epoch * 0.5), int(_epoch * 0.05)], gamma=0.1, last_epoch=-1)"
      ],
      "metadata": {
        "id": "_zoBluuxliYM"
      },
      "execution_count": 26,
      "outputs": []
    },
    {
      "cell_type": "code",
      "source": [
        "print(\"Training Start : Third model (DenseNet)\")\n",
        "start = time.time()\n",
        "\n",
        "for epoch in range(_epoch):  \n",
        "    lr_scheduler.step()\n",
        "    \n",
        "    avg_cost = 0.0\n",
        "    train_loss = 0.0\n",
        "    train_total = 0.0\n",
        "\n",
        "\n",
        "    for i, data in enumerate(train_loader, 0):\n",
        "        inputs, labels = data\n",
        "        inputs = inputs.to(device)\n",
        "        labels = labels.to(device)\n",
        "\n",
        "        optimizer.zero_grad()\n",
        "\n",
        "        outputs = net3(inputs)\n",
        "        loss = criterion(outputs, labels)\n",
        "        loss.backward()\n",
        "        optimizer.step()\n",
        "        \n",
        "        train_loss += loss.item()\n",
        "        train_loss += loss.item()\n",
        "        train_total += (torch.argmax(outputs, dim=1) == labels).sum().item()\n",
        "    \n",
        "    avg_cost /= batch_size\n",
        "    train_loss = train_loss / len(train_loader)\n",
        "    train_acc = train_total / len(train_dataset)\n",
        "\n",
        "\n",
        "    with torch.no_grad():\n",
        "        val_loss = 0.0\n",
        "        total = 0\n",
        "        for val_step, val in enumerate(val_loader):\n",
        "            val_x, val_label = val\n",
        "            \n",
        "            val_x = val_x.to(device)\n",
        "            val_label = val_label.to(device)\n",
        "\n",
        "            val_output = net3(val_x)\n",
        "            v_loss = criterion(val_output, val_label)\n",
        "            val_loss += v_loss\n",
        "            total += (torch.argmax(val_output, dim=1) == val_label).sum().item()\n",
        "\n",
        "        val_loss = val_loss / len(val_loader)\n",
        "        val_acc = total / len(val_dataset)\n",
        "\n",
        "    print(\"epoch: {}/{} | train loss: {} | val loss: {}\".format(epoch+1, _epoch, train_loss , val_loss))\n",
        "    print(\"train acc : {}\".format(train_acc))\n",
        "    print(\"val_acc: {}\".format(val_acc))\n",
        "\n",
        "    train_loss_history_DenseNet.append(train_loss)\n",
        "    train_acc_history_DenseNet.append(train_acc)     \n",
        "    val_loss_history_DenseNet .append(val_loss)\n",
        "    val_acc_history_DenseNet.append(val_acc)\n",
        "\n",
        "end = time.time()\n",
        "\n",
        "t = int(end - start)\n",
        "print(\"Training time: %dm %ds\" %(t//60, t%60))\n",
        "print(\"Training Finished\")"
      ],
      "metadata": {
        "colab": {
          "base_uri": "https://localhost:8080/"
        },
        "id": "ltAT9ucVWp7E",
        "outputId": "8301e90b-896d-4e4c-edda-7ee6c248baf0"
      },
      "execution_count": 27,
      "outputs": [
        {
          "output_type": "stream",
          "name": "stdout",
          "text": [
            "Training Start : Third model (DenseNet)\n",
            "epoch: 1/30 | train loss: 2.719623986412497 | val loss: 1.0195538997650146\n",
            "train acc : 0.51504\n",
            "val_acc: 0.6324\n",
            "epoch: 2/30 | train loss: 1.7210699222276888 | val loss: 0.7752498984336853\n",
            "train acc : 0.69856\n",
            "val_acc: 0.7272\n",
            "epoch: 3/30 | train loss: 1.3013222889827036 | val loss: 0.6197905540466309\n",
            "train acc : 0.77304\n",
            "val_acc: 0.789\n",
            "epoch: 4/30 | train loss: 1.0716396341543368 | val loss: 0.5388684272766113\n",
            "train acc : 0.81504\n",
            "val_acc: 0.8144\n",
            "epoch: 5/30 | train loss: 0.9152273517435469 | val loss: 0.5208014845848083\n",
            "train acc : 0.84104\n",
            "val_acc: 0.8242\n",
            "epoch: 6/30 | train loss: 0.7994932882926044 | val loss: 0.4721119701862335\n",
            "train acc : 0.86134\n",
            "val_acc: 0.8415\n",
            "epoch: 7/30 | train loss: 0.7167796827185794 | val loss: 0.4265107810497284\n",
            "train acc : 0.87608\n",
            "val_acc: 0.8531\n",
            "epoch: 8/30 | train loss: 0.64621526109593 | val loss: 0.41236579418182373\n",
            "train acc : 0.8894\n",
            "val_acc: 0.8635\n",
            "epoch: 9/30 | train loss: 0.5703648835649271 | val loss: 0.3721368908882141\n",
            "train acc : 0.90124\n",
            "val_acc: 0.8757\n",
            "epoch: 10/30 | train loss: 0.5369836755115968 | val loss: 0.3697822093963623\n",
            "train acc : 0.90658\n",
            "val_acc: 0.8725\n",
            "epoch: 11/30 | train loss: 0.48015907269609553 | val loss: 0.36285167932510376\n",
            "train acc : 0.91566\n",
            "val_acc: 0.8799\n",
            "epoch: 12/30 | train loss: 0.43729168908370425 | val loss: 0.34398332238197327\n",
            "train acc : 0.92214\n",
            "val_acc: 0.8865\n",
            "epoch: 13/30 | train loss: 0.404730604051629 | val loss: 0.3638780415058136\n",
            "train acc : 0.93084\n",
            "val_acc: 0.8786\n",
            "epoch: 14/30 | train loss: 0.38575993053367374 | val loss: 0.34676918387413025\n",
            "train acc : 0.93262\n",
            "val_acc: 0.8893\n",
            "epoch: 15/30 | train loss: 0.22069140565593529 | val loss: 0.2706284821033478\n",
            "train acc : 0.9629\n",
            "val_acc: 0.9077\n",
            "epoch: 16/30 | train loss: 0.1698546505549832 | val loss: 0.26894548535346985\n",
            "train acc : 0.9724\n",
            "val_acc: 0.9106\n",
            "epoch: 17/30 | train loss: 0.15142370311691022 | val loss: 0.2738761603832245\n",
            "train acc : 0.97538\n",
            "val_acc: 0.9132\n",
            "epoch: 18/30 | train loss: 0.13923624639049212 | val loss: 0.2763494849205017\n",
            "train acc : 0.9776\n",
            "val_acc: 0.9121\n",
            "epoch: 19/30 | train loss: 0.12788242582812945 | val loss: 0.2735755145549774\n",
            "train acc : 0.9801\n",
            "val_acc: 0.9131\n",
            "epoch: 20/30 | train loss: 0.11705759872713357 | val loss: 0.27210837602615356\n",
            "train acc : 0.98122\n",
            "val_acc: 0.914\n",
            "epoch: 21/30 | train loss: 0.11005852506746111 | val loss: 0.27998536825180054\n",
            "train acc : 0.98248\n",
            "val_acc: 0.9134\n",
            "epoch: 22/30 | train loss: 0.10254188785162728 | val loss: 0.27466192841529846\n",
            "train acc : 0.98428\n",
            "val_acc: 0.9168\n",
            "epoch: 23/30 | train loss: 0.09650219036051837 | val loss: 0.28747621178627014\n",
            "train acc : 0.98488\n",
            "val_acc: 0.9127\n",
            "epoch: 24/30 | train loss: 0.09034616018042844 | val loss: 0.28413650393486023\n",
            "train acc : 0.9857\n",
            "val_acc: 0.9165\n",
            "epoch: 25/30 | train loss: 0.08276906475196104 | val loss: 0.2924478054046631\n",
            "train acc : 0.98694\n",
            "val_acc: 0.9152\n",
            "epoch: 26/30 | train loss: 0.07588716561589247 | val loss: 0.29701918363571167\n",
            "train acc : 0.98808\n",
            "val_acc: 0.914\n",
            "epoch: 27/30 | train loss: 0.07413599011309617 | val loss: 0.3063405454158783\n",
            "train acc : 0.98908\n",
            "val_acc: 0.9143\n",
            "epoch: 28/30 | train loss: 0.07007872798215703 | val loss: 0.2968235909938812\n",
            "train acc : 0.9894\n",
            "val_acc: 0.9153\n",
            "epoch: 29/30 | train loss: 0.06598883428994347 | val loss: 0.29806625843048096\n",
            "train acc : 0.99002\n",
            "val_acc: 0.9168\n",
            "epoch: 30/30 | train loss: 0.061621837256014195 | val loss: 0.3010413944721222\n",
            "train acc : 0.99086\n",
            "val_acc: 0.9155\n",
            "Training time: 85m 32s\n",
            "Training Finished\n"
          ]
        }
      ]
    },
    {
      "cell_type": "code",
      "source": [
        "print(\"Test Start : Third model (DenseNet)\")\n",
        "\n",
        "start = time.time()\n",
        "correct = 0.0\n",
        "total = 0.0\n",
        "\n",
        "with torch.no_grad():\n",
        "    for i, data in enumerate(val_loader, 0):\n",
        "        inputs, labels = data\n",
        "        inputs = inputs.to(device)\n",
        "        labels = labels.to(device)\n",
        "        \n",
        "        outputs = net3(inputs)\n",
        "        \n",
        "        _, predicted = torch.max(outputs.data, 1)\n",
        "        total += labels.size(0)\n",
        "        correct += (predicted == labels).sum().item()\n",
        "\n",
        "end = time.time()\n",
        "t = int(end-start)\n",
        "print(\"Test time: %dm %ds\" %(t//60, t%60))\n",
        "print(\"Test Finished\")\n",
        "\n",
        "print(f'Accuracy of the network on the 10000 test images: {100 * correct // total} %')"
      ],
      "metadata": {
        "id": "gg5AdFYRXC1Y",
        "colab": {
          "base_uri": "https://localhost:8080/"
        },
        "outputId": "65210d3b-97ce-4c65-8372-d2a879039228"
      },
      "execution_count": 28,
      "outputs": [
        {
          "output_type": "stream",
          "name": "stdout",
          "text": [
            "Test Start : Third model (DenseNet)\n",
            "Test time: 0m 10s\n",
            "Test Finished\n",
            "Accuracy of the network on the 10000 test images: 91.0 %\n"
          ]
        }
      ]
    },
    {
      "cell_type": "code",
      "source": [
        "print(\"Show Loss plot : Third model\")\n",
        "\n",
        "plt.plot(train_loss_history_DenseNet, label = ' train_loss')\n",
        "val_loss_history_DenseNet = [i.cpu() for i in val_loss_history_DenseNet]\n",
        "plt.plot(val_loss_history_DenseNet, label = 'val_loss')\n",
        "plt.legend()\n",
        "plt.show()"
      ],
      "metadata": {
        "id": "ltTQh6pnXJvI",
        "colab": {
          "base_uri": "https://localhost:8080/",
          "height": 283
        },
        "outputId": "b0bf9013-6add-4fe0-e9e7-f59ec99398b2"
      },
      "execution_count": 29,
      "outputs": [
        {
          "output_type": "stream",
          "name": "stdout",
          "text": [
            "Show Loss plot : Third model\n"
          ]
        },
        {
          "output_type": "display_data",
          "data": {
            "text/plain": [
              "<Figure size 432x288 with 1 Axes>"
            ],
            "image/png": "[encoded data removed]"
          },
          "metadata": {
            "needs_background": "light"
          }
        }
      ]
    },
    {
      "cell_type": "code",
      "source": [
        "print(\"Show Acc plot : Third model\")\n",
        "\n",
        "plt.plot(train_acc_history_DenseNet, label = ' train_acc')\n",
        "plt.plot(val_acc_history_DenseNet, label = 'val_acc')\n",
        "plt.legend()\n",
        "plt.show()"
      ],
      "metadata": {
        "id": "W0nn-cTVXPZ5",
        "colab": {
          "base_uri": "https://localhost:8080/",
          "height": 283
        },
        "outputId": "7cdaa5d3-838b-4304-abb0-01fc17f42951"
      },
      "execution_count": 30,
      "outputs": [
        {
          "output_type": "stream",
          "name": "stdout",
          "text": [
            "Show Acc plot : Third model\n"
          ]
        },
        {
          "output_type": "display_data",
          "data": {
            "text/plain": [
              "<Figure size 432x288 with 1 Axes>"
            ],
            "image/png": "[encoded data removed]"
          },
          "metadata": {
            "needs_background": "light"
          }
        }
      ]
    },
    {
      "cell_type": "code",
      "source": [
        "print(\"Train All Models!!!\")"
      ],
      "metadata": {
        "id": "tXB6V34IXWh9",
        "colab": {
          "base_uri": "https://localhost:8080/"
        },
        "outputId": "459430e1-8861-4acb-b359-c501bf3890be"
      },
      "execution_count": 31,
      "outputs": [
        {
          "output_type": "stream",
          "name": "stdout",
          "text": [
            "Train All Models!!!\n"
          ]
        }
      ]
    },
    {
      "cell_type": "code",
      "source": [
        "print(\"Compare : three models val_acc\")\n",
        "\n",
        "plt.plot(val_acc_history_myCNN, label = 'myCNN')\n",
        "plt.plot(val_acc_history_ResNet, label = 'ResNet')\n",
        "plt.plot(val_acc_history_DenseNet, label = 'DenseNet')\n",
        "plt.legend()\n",
        "plt.show()"
      ],
      "metadata": {
        "id": "onp0RcbrXZkm",
        "colab": {
          "base_uri": "https://localhost:8080/",
          "height": 283
        },
        "outputId": "ccaf2e35-2bc0-4de7-9f68-33210ca321ba"
      },
      "execution_count": 32,
      "outputs": [
        {
          "output_type": "stream",
          "name": "stdout",
          "text": [
            "Compare : three models val_acc\n"
          ]
        },
        {
          "output_type": "display_data",
          "data": {
            "text/plain": [
              "<Figure size 432x288 with 1 Axes>"
            ],
            "image/png": "[encoded data removed]"
          },
          "metadata": {
            "needs_background": "light"
          }
        }
      ]
    },
    {
      "cell_type": "code",
      "source": [
        "print(\"Compare : three models val_loss\")\n",
        "\n",
        "val_loss_history_myCNN = [i.cpu() for i in val_loss_history_myCNN]\n",
        "plt.plot(val_loss_history_myCNN, label = 'myCNN')\n",
        "val_loss_history_ResNet = [i.cpu() for i in val_loss_history_ResNet]\n",
        "plt.plot(val_loss_history_ResNet, label = 'ResNet')\n",
        "val_loss_history_DenseNet = [i.cpu() for i in val_loss_history_DenseNet]\n",
        "plt.plot(val_loss_history_DenseNet, label = 'DenseNet')\n",
        "plt.legend()\n",
        "plt.show()"
      ],
      "metadata": {
        "id": "D0eIum24YDMx",
        "colab": {
          "base_uri": "https://localhost:8080/",
          "height": 283
        },
        "outputId": "034b0acc-8ef1-423c-c9e3-b02b1a142801"
      },
      "execution_count": 35,
      "outputs": [
        {
          "output_type": "stream",
          "name": "stdout",
          "text": [
            "Compare : three models val_loss\n"
          ]
        },
        {
          "output_type": "display_data",
          "data": {
            "text/plain": [
              "<Figure size 432x288 with 1 Axes>"
            ],
            "image/png": "[encoded data removed]"
          },
          "metadata": {
            "needs_background": "light"
          }
        }
      ]
    }
  ]
}