{
  "nbformat": 4,
  "nbformat_minor": 0,
  "metadata": {
    "colab": {
      "provenance": [],
      "authorship_tag": "ABX9TyPLeH1y6biylSbj0hwpDsRj"
    },
    "kernelspec": {
      "name": "python3",
      "display_name": "Python 3"
    },
    "language_info": {
      "name": "python"
    },
    "accelerator": "GPU",
    "gpuClass": "standard",
    "widgets": {
      "application/vnd.jupyter.widget-state+json": {
        "88eaf81ce5064577893f8a1f58b8e837": {
          "model_module": "@jupyter-widgets/controls",
          "model_name": "HBoxModel",
          "model_module_version": "1.5.0",
          "state": {
            "_dom_classes": [],
            "_model_module": "@jupyter-widgets/controls",
            "_model_module_version": "1.5.0",
            "_model_name": "HBoxModel",
            "_view_count": null,
            "_view_module": "@jupyter-widgets/controls",
            "_view_module_version": "1.5.0",
            "_view_name": "HBoxView",
            "box_style": "",
            "children": [
              "IPY_MODEL_07aa6f4ea9c84e799b890a5a31151b15",
              "IPY_MODEL_a44c1c1241784dc2981700fed99c15b7",
              "IPY_MODEL_70cb9311c0fc43dba193da18bed63a15"
            ],
            "layout": "IPY_MODEL_4a9f772b83da4e24ba7cb76c5ae47d10"
          }
        },
        "07aa6f4ea9c84e799b890a5a31151b15": {
          "model_module": "@jupyter-widgets/controls",
          "model_name": "HTMLModel",
          "model_module_version": "1.5.0",
          "state": {
            "_dom_classes": [],
            "_model_module": "@jupyter-widgets/controls",
            "_model_module_version": "1.5.0",
            "_model_name": "HTMLModel",
            "_view_count": null,
            "_view_module": "@jupyter-widgets/controls",
            "_view_module_version": "1.5.0",
            "_view_name": "HTMLView",
            "description": "",
            "description_tooltip": null,
            "layout": "IPY_MODEL_b1cf44973ecf468da72f26e2082130e5",
            "placeholder": "​",
            "style": "IPY_MODEL_2b3d229eaa5741678c815674cdeb1f1d",
            "value": "100%"
          }
        },
        "a44c1c1241784dc2981700fed99c15b7": {
          "model_module": "@jupyter-widgets/controls",
          "model_name": "FloatProgressModel",
          "model_module_version": "1.5.0",
          "state": {
            "_dom_classes": [],
            "_model_module": "@jupyter-widgets/controls",
            "_model_module_version": "1.5.0",
            "_model_name": "FloatProgressModel",
            "_view_count": null,
            "_view_module": "@jupyter-widgets/controls",
            "_view_module_version": "1.5.0",
            "_view_name": "ProgressView",
            "bar_style": "success",
            "description": "",
            "description_tooltip": null,
            "layout": "IPY_MODEL_f39b63f163714773b58a53f5b284495f",
            "max": 170498071,
            "min": 0,
            "orientation": "horizontal",
            "style": "IPY_MODEL_8a50d9dceb6e4098a6fdc95ff1afb976",
            "value": 170498071
          }
        },
        "70cb9311c0fc43dba193da18bed63a15": {
          "model_module": "@jupyter-widgets/controls",
          "model_name": "HTMLModel",
          "model_module_version": "1.5.0",
          "state": {
            "_dom_classes": [],
            "_model_module": "@jupyter-widgets/controls",
            "_model_module_version": "1.5.0",
            "_model_name": "HTMLModel",
            "_view_count": null,
            "_view_module": "@jupyter-widgets/controls",
            "_view_module_version": "1.5.0",
            "_view_name": "HTMLView",
            "description": "",
            "description_tooltip": null,
            "layout": "IPY_MODEL_84ed41396e024ed7902acac677015935",
            "placeholder": "​",
            "style": "IPY_MODEL_74c154099f244a978e450851ab54a664",
            "value": " 170498071/170498071 [00:13&lt;00:00, 12567253.71it/s]"
          }
        },
        "4a9f772b83da4e24ba7cb76c5ae47d10": {
          "model_module": "@jupyter-widgets/base",
          "model_name": "LayoutModel",
          "model_module_version": "1.2.0",
          "state": {
            "_model_module": "@jupyter-widgets/base",
            "_model_module_version": "1.2.0",
            "_model_name": "LayoutModel",
            "_view_count": null,
            "_view_module": "@jupyter-widgets/base",
            "_view_module_version": "1.2.0",
            "_view_name": "LayoutView",
            "align_content": null,
            "align_items": null,
            "align_self": null,
            "border": null,
            "bottom": null,
            "display": null,
            "flex": null,
            "flex_flow": null,
            "grid_area": null,
            "grid_auto_columns": null,
            "grid_auto_flow": null,
            "grid_auto_rows": null,
            "grid_column": null,
            "grid_gap": null,
            "grid_row": null,
            "grid_template_areas": null,
            "grid_template_columns": null,
            "grid_template_rows": null,
            "height": null,
            "justify_content": null,
            "justify_items": null,
            "left": null,
            "margin": null,
            "max_height": null,
            "max_width": null,
            "min_height": null,
            "min_width": null,
            "object_fit": null,
            "object_position": null,
            "order": null,
            "overflow": null,
            "overflow_x": null,
            "overflow_y": null,
            "padding": null,
            "right": null,
            "top": null,
            "visibility": null,
            "width": null
          }
        },
        "b1cf44973ecf468da72f26e2082130e5": {
          "model_module": "@jupyter-widgets/base",
          "model_name": "LayoutModel",
          "model_module_version": "1.2.0",
          "state": {
            "_model_module": "@jupyter-widgets/base",
            "_model_module_version": "1.2.0",
            "_model_name": "LayoutModel",
            "_view_count": null,
            "_view_module": "@jupyter-widgets/base",
            "_view_module_version": "1.2.0",
            "_view_name": "LayoutView",
            "align_content": null,
            "align_items": null,
            "align_self": null,
            "border": null,
            "bottom": null,
            "display": null,
            "flex": null,
            "flex_flow": null,
            "grid_area": null,
            "grid_auto_columns": null,
            "grid_auto_flow": null,
            "grid_auto_rows": null,
            "grid_column": null,
            "grid_gap": null,
            "grid_row": null,
            "grid_template_areas": null,
            "grid_template_columns": null,
            "grid_template_rows": null,
            "height": null,
            "justify_content": null,
            "justify_items": null,
            "left": null,
            "margin": null,
            "max_height": null,
            "max_width": null,
            "min_height": null,
            "min_width": null,
            "object_fit": null,
            "object_position": null,
            "order": null,
            "overflow": null,
            "overflow_x": null,
            "overflow_y": null,
            "padding": null,
            "right": null,
            "top": null,
            "visibility": null,
            "width": null
          }
        },
        "2b3d229eaa5741678c815674cdeb1f1d": {
          "model_module": "@jupyter-widgets/controls",
          "model_name": "DescriptionStyleModel",
          "model_module_version": "1.5.0",
          "state": {
            "_model_module": "@jupyter-widgets/controls",
            "_model_module_version": "1.5.0",
            "_model_name": "DescriptionStyleModel",
            "_view_count": null,
            "_view_module": "@jupyter-widgets/base",
            "_view_module_version": "1.2.0",
            "_view_name": "StyleView",
            "description_width": ""
          }
        },
        "f39b63f163714773b58a53f5b284495f": {
          "model_module": "@jupyter-widgets/base",
          "model_name": "LayoutModel",
          "model_module_version": "1.2.0",
          "state": {
            "_model_module": "@jupyter-widgets/base",
            "_model_module_version": "1.2.0",
            "_model_name": "LayoutModel",
            "_view_count": null,
            "_view_module": "@jupyter-widgets/base",
            "_view_module_version": "1.2.0",
            "_view_name": "LayoutView",
            "align_content": null,
            "align_items": null,
            "align_self": null,
            "border": null,
            "bottom": null,
            "display": null,
            "flex": null,
            "flex_flow": null,
            "grid_area": null,
            "grid_auto_columns": null,
            "grid_auto_flow": null,
            "grid_auto_rows": null,
            "grid_column": null,
            "grid_gap": null,
            "grid_row": null,
            "grid_template_areas": null,
            "grid_template_columns": null,
            "grid_template_rows": null,
            "height": null,
            "justify_content": null,
            "justify_items": null,
            "left": null,
            "margin": null,
            "max_height": null,
            "max_width": null,
            "min_height": null,
            "min_width": null,
            "object_fit": null,
            "object_position": null,
            "order": null,
            "overflow": null,
            "overflow_x": null,
            "overflow_y": null,
            "padding": null,
            "right": null,
            "top": null,
            "visibility": null,
            "width": null
          }
        },
        "8a50d9dceb6e4098a6fdc95ff1afb976": {
          "model_module": "@jupyter-widgets/controls",
          "model_name": "ProgressStyleModel",
          "model_module_version": "1.5.0",
          "state": {
            "_model_module": "@jupyter-widgets/controls",
            "_model_module_version": "1.5.0",
            "_model_name": "ProgressStyleModel",
            "_view_count": null,
            "_view_module": "@jupyter-widgets/base",
            "_view_module_version": "1.2.0",
            "_view_name": "StyleView",
            "bar_color": null,
            "description_width": ""
          }
        },
        "84ed41396e024ed7902acac677015935": {
          "model_module": "@jupyter-widgets/base",
          "model_name": "LayoutModel",
          "model_module_version": "1.2.0",
          "state": {
            "_model_module": "@jupyter-widgets/base",
            "_model_module_version": "1.2.0",
            "_model_name": "LayoutModel",
            "_view_count": null,
            "_view_module": "@jupyter-widgets/base",
            "_view_module_version": "1.2.0",
            "_view_name": "LayoutView",
            "align_content": null,
            "align_items": null,
            "align_self": null,
            "border": null,
            "bottom": null,
            "display": null,
            "flex": null,
            "flex_flow": null,
            "grid_area": null,
            "grid_auto_columns": null,
            "grid_auto_flow": null,
            "grid_auto_rows": null,
            "grid_column": null,
            "grid_gap": null,
            "grid_row": null,
            "grid_template_areas": null,
            "grid_template_columns": null,
            "grid_template_rows": null,
            "height": null,
            "justify_content": null,
            "justify_items": null,
            "left": null,
            "margin": null,
            "max_height": null,
            "max_width": null,
            "min_height": null,
            "min_width": null,
            "object_fit": null,
            "object_position": null,
            "order": null,
            "overflow": null,
            "overflow_x": null,
            "overflow_y": null,
            "padding": null,
            "right": null,
            "top": null,
            "visibility": null,
            "width": null
          }
        },
        "74c154099f244a978e450851ab54a664": {
          "model_module": "@jupyter-widgets/controls",
          "model_name": "DescriptionStyleModel",
          "model_module_version": "1.5.0",
          "state": {
            "_model_module": "@jupyter-widgets/controls",
            "_model_module_version": "1.5.0",
            "_model_name": "DescriptionStyleModel",
            "_view_count": null,
            "_view_module": "@jupyter-widgets/base",
            "_view_module_version": "1.2.0",
            "_view_name": "StyleView",
            "description_width": ""
          }
        }
      }
    }
  },
  "cells": [
    {
      "cell_type": "code",
      "execution_count": 1,
      "metadata": {
        "id": "mOhfaWqSzg9C"
      },
      "outputs": [],
      "source": [
        "import sys\n",
        "\n",
        "import torch\n",
        "import matplotlib.pyplot as plt\n",
        "\n",
        "import time\n",
        "\n",
        "import torch.nn as nn\n",
        "import torch.nn.functional as F\n",
        "\n",
        "import torchvision\n",
        "import torchvision.transforms as transforms\n",
        "import torchvision.datasets as dsets\n",
        "\n",
        "import numpy as np\n",
        "import tqdm\n",
        "\n",
        "from torch.utils.data import DataLoader\n",
        "from torch import optim"
      ]
    },
    {
      "cell_type": "code",
      "source": [
        "USE_CUDA = torch.cuda.is_available() # GPU를 사용가능하면 True, 아니라면 False를 리턴\n",
        "device = torch.device(\"cuda\" if USE_CUDA else \"cpu\") # GPU 사용 가능하면 사용하고 아니면 CPU 사용\n",
        "print(\"다음 기기로 학습합니다:\", device)"
      ],
      "metadata": {
        "colab": {
          "base_uri": "https://localhost:8080/"
        },
        "id": "ljHek0ZlzltD",
        "outputId": "3c5ff5dd-7b70-4dcf-b695-82a21118a607"
      },
      "execution_count": 2,
      "outputs": [
        {
          "output_type": "stream",
          "name": "stdout",
          "text": [
            "다음 기기로 학습합니다: cuda\n"
          ]
        }
      ]
    },
    {
      "cell_type": "code",
      "source": [
        "print(\"epoch와 batch size를 지정해줍니다.\")\n",
        "_epoch = 30\n",
        "batch_size = 128"
      ],
      "metadata": {
        "colab": {
          "base_uri": "https://localhost:8080/"
        },
        "id": "phDl3FoJzm8b",
        "outputId": "20bed726-80af-4598-89f4-9014c2d3aa5a"
      },
      "execution_count": 3,
      "outputs": [
        {
          "output_type": "stream",
          "name": "stdout",
          "text": [
            "epoch와 batch size를 지정해줍니다.\n"
          ]
        }
      ]
    },
    {
      "cell_type": "code",
      "source": [
        "transform = transforms.Compose([\n",
        "    transforms.Pad(4),\n",
        "    transforms.RandomHorizontalFlip(),\n",
        "    transforms.RandomCrop(32),\n",
        "    transforms.ToTensor()\n",
        "])"
      ],
      "metadata": {
        "id": "s7bWfMe0zn-l"
      },
      "execution_count": 4,
      "outputs": []
    },
    {
      "cell_type": "code",
      "source": [
        "print(\"File Download : CIFAR10 dataset\")\n",
        "\n",
        "train_dataset = dsets.CIFAR10(root='./data', train=True,\n",
        "                                        download=True, transform=transform)\n",
        "train_loader = DataLoader(train_dataset, batch_size=batch_size,\n",
        "                                          shuffle=True, num_workers=2)\n",
        "\n",
        "val_dataset = dsets.CIFAR10(root='./data', train=False,\n",
        "                                       download=True, transform=transform)\n",
        "val_loader = DataLoader(val_dataset, batch_size=batch_size,\n",
        "                                         shuffle=False, num_workers=2)\n",
        "\n",
        "classes = ('plane', 'car', 'bird', 'cat', 'deer', 'dog', 'frog', 'horse', 'ship', 'truck')"
      ],
      "metadata": {
        "colab": {
          "base_uri": "https://localhost:8080/",
          "height": 122,
          "referenced_widgets": [
            "88eaf81ce5064577893f8a1f58b8e837",
            "07aa6f4ea9c84e799b890a5a31151b15",
            "a44c1c1241784dc2981700fed99c15b7",
            "70cb9311c0fc43dba193da18bed63a15",
            "4a9f772b83da4e24ba7cb76c5ae47d10",
            "b1cf44973ecf468da72f26e2082130e5",
            "2b3d229eaa5741678c815674cdeb1f1d",
            "f39b63f163714773b58a53f5b284495f",
            "8a50d9dceb6e4098a6fdc95ff1afb976",
            "84ed41396e024ed7902acac677015935",
            "74c154099f244a978e450851ab54a664"
          ]
        },
        "id": "IDIb39tKzpCx",
        "outputId": "7458d017-c838-4e4d-f5d8-0980057d3877"
      },
      "execution_count": 5,
      "outputs": [
        {
          "output_type": "stream",
          "name": "stdout",
          "text": [
            "File Download : CIFAR10 dataset\n",
            "Downloading https://www.cs.toronto.edu/~kriz/cifar-10-python.tar.gz to ./data/cifar-10-python.tar.gz\n"
          ]
        },
        {
          "output_type": "display_data",
          "data": {
            "text/plain": [
              "  0%|          | 0/170498071 [00:00<?, ?it/s]"
            ],
            "application/vnd.jupyter.widget-view+json": {
              "version_major": 2,
              "version_minor": 0,
              "model_id": "88eaf81ce5064577893f8a1f58b8e837"
            }
          },
          "metadata": {}
        },
        {
          "output_type": "stream",
          "name": "stdout",
          "text": [
            "Extracting ./data/cifar-10-python.tar.gz to ./data\n",
            "Files already downloaded and verified\n"
          ]
        }
      ]
    },
    {
      "cell_type": "markdown",
      "source": [
        "1번 모델 : CNN (실습 시간에 사용한 코드 활용)"
      ],
      "metadata": {
        "id": "tmw0ZCYNz7tT"
      }
    },
    {
      "cell_type": "code",
      "source": [
        "class my_CNN(nn.Module):\n",
        "    def __init__(self):\n",
        "        super(my_CNN, self).__init__()\n",
        "\n",
        "        self.conv1 = nn.Conv2d(3, 16, 3, padding=1) \n",
        "        self.conv2 = nn.Conv2d(16, 32, 3, padding=1)\n",
        "        self.conv3 = nn.Conv2d(32, 32, 3, padding=1)\n",
        "        self.conv4 = nn.Conv2d(32, 64, 3, padding=1)\n",
        "        self.conv5 = nn.Conv2d(64, 64, 3, padding=2)\n",
        "\n",
        "        self.bn1 = nn.BatchNorm2d(16)\n",
        "        self.bn2 = nn.BatchNorm2d(32)\n",
        "        self.bn3 = nn.BatchNorm2d(32)\n",
        "        self.bn4 = nn.BatchNorm2d(64)\n",
        "        self.bn5 = nn.BatchNorm2d(64)\n",
        "\n",
        "        self.pool = nn.MaxPool2d(2, 2)\n",
        "\n",
        "        self.fc1 = nn.Linear(64*4*4, 256)\n",
        "        self.fc2 = nn.Linear(256, 128)\n",
        "        self.fc3 = nn.Linear(128, 64)\n",
        "        self.fc4 = nn.Linear(64, 10)\n",
        "\n",
        "        self.dropout = nn.Dropout(0.5)\n",
        "\n",
        "    def forward(self, x):\n",
        "        x = F.relu(self.bn1(self.conv1(x)))\n",
        "        x = self.pool(x)\n",
        "\n",
        "        x = F.relu(self.bn2(self.conv2(x)))\n",
        "        x = self.pool(x)\n",
        "\n",
        "        x = F.relu(self.bn3(self.conv3(x)))\n",
        "        x = self.pool(x)\n",
        "\n",
        "        x = F.relu(self.bn4(self.conv4(x)))\n",
        "        x = self.pool(x)\n",
        "\n",
        "        x = F.relu(self.bn5(self.conv5(x)))\n",
        "\n",
        "        x = x.view(-1, 64*4*4)\n",
        "\n",
        "        x = F.relu(self.fc1(x))\n",
        "        x = self.dropout(x)\n",
        "        x = F.relu(self.fc2(x))\n",
        "        x = F.relu(self.fc3(x))\n",
        "        x = self.dropout(x)\n",
        "        x = self.fc4(x)\n",
        "\n",
        "        return x"
      ],
      "metadata": {
        "id": "YMBAIfxvzqGP"
      },
      "execution_count": 6,
      "outputs": []
    },
    {
      "cell_type": "code",
      "source": [
        "net1 = my_CNN()\n",
        "net1 = net1.to(device)\n",
        "criterion = nn.CrossEntropyLoss()"
      ],
      "metadata": {
        "id": "jYlGXYR_zr0j"
      },
      "execution_count": 7,
      "outputs": []
    },
    {
      "cell_type": "code",
      "source": [
        "train_loss_history_myCNN = []\n",
        "val_loss_history_myCNN = []\n",
        "train_acc_history_myCNN = []\n",
        "val_acc_history_myCNN = []"
      ],
      "metadata": {
        "id": "gfZfpErCztTI"
      },
      "execution_count": 8,
      "outputs": []
    },
    {
      "cell_type": "code",
      "source": [
        "lr = 0.1\n",
        "optimizer = optim.SGD(net1.parameters(), lr=lr, momentum=0.9)\n",
        "lr_scheduler = optim.lr_scheduler.MultiStepLR(optimizer=optimizer, milestones=[int(_epoch * 0.75), int(_epoch * 0.01)], gamma=0.1, last_epoch=-1)"
      ],
      "metadata": {
        "id": "mdjyyTuMzufH"
      },
      "execution_count": 9,
      "outputs": []
    },
    {
      "cell_type": "code",
      "source": [
        "print(\"Training Start : First model (my_CNN)\")\n",
        "start = time.time()\n",
        "\n",
        "for epoch in range(_epoch):  \n",
        "    lr_scheduler.step()\n",
        "    \n",
        "    avg_cost = 0.0\n",
        "    train_loss = 0.0\n",
        "    train_total = 0.0\n",
        "\n",
        "\n",
        "    for i, data in enumerate(train_loader, 0):\n",
        "        inputs, labels = data\n",
        "        inputs = inputs.to(device)\n",
        "        labels = labels.to(device)\n",
        "\n",
        "        optimizer.zero_grad()\n",
        "\n",
        "        outputs = net1(inputs)\n",
        "        loss = criterion(outputs, labels)\n",
        "        loss.backward()\n",
        "        optimizer.step()\n",
        "        \n",
        "        train_loss += loss.item()\n",
        "        train_loss += loss.item()\n",
        "        train_total += (torch.argmax(outputs, dim=1) == labels).sum().item()\n",
        "    \n",
        "    avg_cost /= batch_size\n",
        "    train_loss = train_loss / len(train_loader)\n",
        "    train_acc = train_total / len(train_dataset)\n",
        "    \n",
        "\n",
        "    with torch.no_grad():\n",
        "        val_loss = 0.0\n",
        "        total = 0\n",
        "        for val_step, val in enumerate(val_loader):\n",
        "            val_x, val_label = val\n",
        "            \n",
        "            val_x = val_x.to(device)\n",
        "            val_label = val_label.to(device)\n",
        "\n",
        "            val_output = net1(val_x)\n",
        "            v_loss = criterion(val_output, val_label)\n",
        "            val_loss += v_loss\n",
        "            total += (torch.argmax(val_output, dim=1) == val_label).sum().item()\n",
        "\n",
        "        val_loss = val_loss / len(val_loader)\n",
        "        val_acc = total / len(val_dataset)\n",
        "\n",
        "    print(\"epoch: {}/{} | train loss: {} | val loss: {}\".format(epoch+1, _epoch, train_loss , val_loss))\n",
        "    print(\"train acc : {}\".format(train_acc))\n",
        "    print(\"val_acc: {}\".format(val_acc))\n",
        "\n",
        "    train_loss_history_myCNN.append(train_loss)\n",
        "    train_acc_history_myCNN.append(train_acc)     \n",
        "    val_loss_history_myCNN .append(val_loss)\n",
        "    val_acc_history_myCNN.append(val_acc)\n",
        "\n",
        "end = time.time()\n",
        "\n",
        "t = int(end - start)\n",
        "print(\"Training time: %dm %ds\" %(t//60, t%60))\n",
        "print(\"Training Finished\")"
      ],
      "metadata": {
        "colab": {
          "base_uri": "https://localhost:8080/"
        },
        "id": "I9po2sXOzwFf",
        "outputId": "013e3254-b97c-458e-9107-3ef22aa62ac0"
      },
      "execution_count": 10,
      "outputs": [
        {
          "output_type": "stream",
          "name": "stdout",
          "text": [
            "Training Start : First model (my_CNN)\n"
          ]
        },
        {
          "output_type": "stream",
          "name": "stderr",
          "text": [
            "/usr/local/lib/python3.7/dist-packages/torch/optim/lr_scheduler.py:136: UserWarning: Detected call of `lr_scheduler.step()` before `optimizer.step()`. In PyTorch 1.1.0 and later, you should call them in the opposite order: `optimizer.step()` before `lr_scheduler.step()`.  Failure to do this will result in PyTorch skipping the first value of the learning rate schedule. See more details at https://pytorch.org/docs/stable/optim.html#how-to-adjust-learning-rate\n",
            "  \"https://pytorch.org/docs/stable/optim.html#how-to-adjust-learning-rate\", UserWarning)\n"
          ]
        },
        {
          "output_type": "stream",
          "name": "stdout",
          "text": [
            "epoch: 1/30 | train loss: 3.790963979023497 | val loss: 1.6545897722244263\n",
            "train acc : 0.26032\n",
            "val_acc: 0.3547\n",
            "epoch: 2/30 | train loss: 3.1514003636587002 | val loss: 1.4636013507843018\n",
            "train acc : 0.39482\n",
            "val_acc: 0.4417\n",
            "epoch: 3/30 | train loss: 2.8191263925693835 | val loss: 1.3298776149749756\n",
            "train acc : 0.47594\n",
            "val_acc: 0.5152\n",
            "epoch: 4/30 | train loss: 2.579104366204928 | val loss: 1.2330491542816162\n",
            "train acc : 0.53678\n",
            "val_acc: 0.5654\n",
            "epoch: 5/30 | train loss: 2.3964087063699124 | val loss: 1.1897497177124023\n",
            "train acc : 0.57914\n",
            "val_acc: 0.5805\n",
            "epoch: 6/30 | train loss: 2.2632469356517353 | val loss: 1.1182363033294678\n",
            "train acc : 0.6061\n",
            "val_acc: 0.6207\n",
            "epoch: 7/30 | train loss: 2.14112890345971 | val loss: 1.082331895828247\n",
            "train acc : 0.63252\n",
            "val_acc: 0.6284\n",
            "epoch: 8/30 | train loss: 2.0721473196888214 | val loss: 1.0380117893218994\n",
            "train acc : 0.64466\n",
            "val_acc: 0.651\n",
            "epoch: 9/30 | train loss: 2.0010260282575016 | val loss: 1.0143940448760986\n",
            "train acc : 0.65966\n",
            "val_acc: 0.6544\n",
            "epoch: 10/30 | train loss: 1.93895052247645 | val loss: 0.9805113673210144\n",
            "train acc : 0.67256\n",
            "val_acc: 0.6681\n",
            "epoch: 11/30 | train loss: 1.880381546971743 | val loss: 0.9596295356750488\n",
            "train acc : 0.683\n",
            "val_acc: 0.677\n",
            "epoch: 12/30 | train loss: 1.8227432463175195 | val loss: 0.9525658488273621\n",
            "train acc : 0.69318\n",
            "val_acc: 0.6817\n",
            "epoch: 13/30 | train loss: 1.8006153823164723 | val loss: 0.9298189878463745\n",
            "train acc : 0.69734\n",
            "val_acc: 0.6903\n",
            "epoch: 14/30 | train loss: 1.7563111056452212 | val loss: 0.9235636591911316\n",
            "train acc : 0.70852\n",
            "val_acc: 0.6982\n",
            "epoch: 15/30 | train loss: 1.7315034665110167 | val loss: 0.883791983127594\n",
            "train acc : 0.712\n",
            "val_acc: 0.7085\n",
            "epoch: 16/30 | train loss: 1.689636576511061 | val loss: 0.8689016103744507\n",
            "train acc : 0.72026\n",
            "val_acc: 0.7159\n",
            "epoch: 17/30 | train loss: 1.6395148099840755 | val loss: 0.8471776247024536\n",
            "train acc : 0.72744\n",
            "val_acc: 0.721\n",
            "epoch: 18/30 | train loss: 1.633093411050489 | val loss: 0.8485168218612671\n",
            "train acc : 0.7291\n",
            "val_acc: 0.7238\n",
            "epoch: 19/30 | train loss: 1.6060318337072192 | val loss: 0.8351485133171082\n",
            "train acc : 0.73474\n",
            "val_acc: 0.7277\n",
            "epoch: 20/30 | train loss: 1.5876860185657315 | val loss: 0.8610084652900696\n",
            "train acc : 0.73764\n",
            "val_acc: 0.7216\n",
            "epoch: 21/30 | train loss: 1.5663258675724039 | val loss: 0.8389831781387329\n",
            "train acc : 0.7433\n",
            "val_acc: 0.7294\n",
            "epoch: 22/30 | train loss: 1.4271702424949393 | val loss: 0.7821866273880005\n",
            "train acc : 0.76424\n",
            "val_acc: 0.7512\n",
            "epoch: 23/30 | train loss: 1.3917498330935798 | val loss: 0.7571063041687012\n",
            "train acc : 0.77066\n",
            "val_acc: 0.7528\n",
            "epoch: 24/30 | train loss: 1.3806932303301818 | val loss: 0.7593884468078613\n",
            "train acc : 0.77272\n",
            "val_acc: 0.7595\n",
            "epoch: 25/30 | train loss: 1.3642730696122054 | val loss: 0.7440880537033081\n",
            "train acc : 0.7757\n",
            "val_acc: 0.7604\n",
            "epoch: 26/30 | train loss: 1.357173926537604 | val loss: 0.7404919862747192\n",
            "train acc : 0.77542\n",
            "val_acc: 0.7557\n",
            "epoch: 27/30 | train loss: 1.3504879785620647 | val loss: 0.7477755546569824\n",
            "train acc : 0.77986\n",
            "val_acc: 0.7578\n",
            "epoch: 28/30 | train loss: 1.340320365203311 | val loss: 0.7373887300491333\n",
            "train acc : 0.77852\n",
            "val_acc: 0.7632\n",
            "epoch: 29/30 | train loss: 1.3416801902949047 | val loss: 0.7481574416160583\n",
            "train acc : 0.78012\n",
            "val_acc: 0.762\n",
            "epoch: 30/30 | train loss: 1.3369556897131682 | val loss: 0.7444909811019897\n",
            "train acc : 0.78084\n",
            "val_acc: 0.7616\n",
            "Training time: 7m 46s\n",
            "Training Finished\n"
          ]
        }
      ]
    },
    {
      "cell_type": "code",
      "source": [
        "print(\"Test Start : First model (my_CNN)\")\n",
        "\n",
        "start = time.time()\n",
        "correct = 0.0\n",
        "total = 0.0\n",
        "\n",
        "with torch.no_grad():\n",
        "    for i, data in enumerate(val_loader, 0):\n",
        "        inputs, labels = data\n",
        "        inputs = inputs.to(device)\n",
        "        labels = labels.to(device)\n",
        "        \n",
        "        outputs = net1(inputs)\n",
        "        \n",
        "        _, predicted = torch.max(outputs.data, 1)\n",
        "        total += labels.size(0)\n",
        "        correct += (predicted == labels).sum().item()\n",
        "\n",
        "end = time.time()\n",
        "t = int(end-start)\n",
        "print(\"Test time: %dm %ds\" %(t//60, t%60))\n",
        "print(\"Test Finished\")\n",
        "\n",
        "print(f'Accuracy of the network on the 10000 test images: {100 * correct // total} %')"
      ],
      "metadata": {
        "colab": {
          "base_uri": "https://localhost:8080/"
        },
        "id": "CiybCF4hzxli",
        "outputId": "e7a4a498-b204-448e-acf4-361c47e86b15"
      },
      "execution_count": 11,
      "outputs": [
        {
          "output_type": "stream",
          "name": "stdout",
          "text": [
            "Test Start : First model (my_CNN)\n",
            "Test time: 0m 2s\n",
            "Test Finished\n",
            "Accuracy of the network on the 10000 test images: 75.0 %\n"
          ]
        }
      ]
    },
    {
      "cell_type": "code",
      "source": [
        "print(\"Show Loss plot : First model\")\n",
        "\n",
        "plt.plot(train_loss_history_myCNN, label = ' train_loss')\n",
        "val_loss_history = [i.cpu() for i in val_loss_history_myCNN]\n",
        "plt.plot(val_loss_history, label = 'val_loss')\n",
        "plt.legend()\n",
        "plt.show()"
      ],
      "metadata": {
        "colab": {
          "base_uri": "https://localhost:8080/",
          "height": 283
        },
        "id": "pcQIqwcAzzsZ",
        "outputId": "afb89477-ef1b-4e54-c7bc-ac4899df9d3a"
      },
      "execution_count": 12,
      "outputs": [
        {
          "output_type": "stream",
          "name": "stdout",
          "text": [
            "Show Loss plot : First model\n"
          ]
        },
        {
          "output_type": "display_data",
          "data": {
            "text/plain": [
              "<Figure size 432x288 with 1 Axes>"
            ],
            "image/png": "[encoded data removed]"
          },
          "metadata": {
            "needs_background": "light"
          }
        }
      ]
    },
    {
      "cell_type": "code",
      "source": [
        "print(\"Show Acc plot : First model\")\n",
        "\n",
        "plt.plot(train_acc_history_myCNN, label = ' train_acc')\n",
        "plt.plot(val_acc_history_myCNN, label = 'val_acc')\n",
        "plt.legend()\n",
        "plt.show()"
      ],
      "metadata": {
        "colab": {
          "base_uri": "https://localhost:8080/",
          "height": 285
        },
        "id": "iSv7zY-Tz0yw",
        "outputId": "89271214-d3da-4a37-825f-94f8f535eb1f"
      },
      "execution_count": 13,
      "outputs": [
        {
          "output_type": "stream",
          "name": "stdout",
          "text": [
            "Show Acc plot : First model\n"
          ]
        },
        {
          "output_type": "display_data",
          "data": {
            "text/plain": [
              "<Figure size 432x288 with 1 Axes>"
            ],
            "image/png": "[encoded data removed]"
          },
          "metadata": {
            "needs_background": "light"
          }
        }
      ]
    },
    {
      "cell_type": "markdown",
      "source": [
        "2번 모델 : ResNet"
      ],
      "metadata": {
        "id": "M4GMpkqV0Dwq"
      }
    },
    {
      "cell_type": "code",
      "source": [
        "class ResidualBlock(nn.Module):\n",
        "    def __init__(self, in_channels, out_channels, stride):\n",
        "        super().__init__()\n",
        "        self.conv1 = nn.Conv2d(in_channels, out_channels, 3, stride, 1)\n",
        "        self.bn1 = nn.BatchNorm2d(out_channels)\n",
        "        self.conv2 = nn.Conv2d(out_channels, out_channels, 3, 1, 1)\n",
        "        self.bn2 = nn.BatchNorm2d(out_channels)\n",
        "\n",
        "        if stride != 1:\n",
        "            self.downsample = nn.Sequential(\n",
        "                nn.Conv2d(in_channels, out_channels, 3, 2, 1), \n",
        "                nn.BatchNorm2d(out_channels)\n",
        "            )\n",
        "        else:\n",
        "            self.downsample = None\n",
        "    \n",
        "    def forward(self, x):\n",
        "        out = F.relu(self.bn1(self.conv1(x)))\n",
        "        out = self.bn2(self.conv2(out))\n",
        "\n",
        "        if self.downsample is not None:\n",
        "            x = self.downsample(x)\n",
        "        out += x\n",
        "        return F.relu(out)\n",
        "\n",
        "\n",
        "class ResNet(nn.Module):\n",
        "    def __init__(self, n):\n",
        "        super().__init__()\n",
        "        \n",
        "        self.conv1 = nn.Conv2d(3, 16, 3, 1, 1)\n",
        "        self.bn1 = nn.BatchNorm2d(16)\n",
        "        self.layer1 = []\n",
        "\n",
        "        for _ in range(n):\n",
        "            self.layer1.append(ResidualBlock(16, 16, 1))\n",
        "        self.layer2 = [ResidualBlock(16, 32, 2)]\n",
        "        for _ in range(n-1):\n",
        "            self.layer2.append(ResidualBlock(32, 32, 1))\n",
        "        self.layer3 = [ResidualBlock(32, 64, 2)]\n",
        "        for _ in range(n-1):\n",
        "            self.layer3.append(ResidualBlock(64, 64, 1))\n",
        "        \n",
        "        self.layer1 = nn.Sequential(*self.layer1)\n",
        "        self.layer2 = nn.Sequential(*self.layer2)\n",
        "        self.layer3 = nn.Sequential(*self.layer3)\n",
        "\n",
        "        self.pool = nn.AvgPool2d(8)\n",
        "        self.linear = nn.Linear(64, 10)\n",
        "\n",
        "    def forward(self, x):\n",
        "        x = self.bn1(self.conv1(x))\n",
        "        x = self.layer1(x)\n",
        "        x = self.layer2(x)\n",
        "        x = self.layer3(x)\n",
        "        x = self.pool(x)\n",
        "        x = x.view(x.size(0), -1)\n",
        "        x = self.linear(x)\n",
        "        return x"
      ],
      "metadata": {
        "id": "N5QcF_Of0B0x"
      },
      "execution_count": 14,
      "outputs": []
    },
    {
      "cell_type": "code",
      "source": [
        "net2 = ResNet(3)\n",
        "net2 = net2.to(device)\n",
        "criterion = nn.CrossEntropyLoss()"
      ],
      "metadata": {
        "id": "qmYrfQ000oSr"
      },
      "execution_count": 15,
      "outputs": []
    },
    {
      "cell_type": "code",
      "source": [
        "train_loss_history_ResNet = []\n",
        "val_loss_history_ResNet = []\n",
        "train_acc_history_ResNet = []\n",
        "val_acc_history_ResNet = []"
      ],
      "metadata": {
        "id": "fKyYk6YH0r6Z"
      },
      "execution_count": 16,
      "outputs": []
    },
    {
      "cell_type": "code",
      "source": [
        "lr = 0.1\n",
        "optimizer = optim.SGD(net2.parameters(), lr=lr, momentum=0.9)\n",
        "lr_scheduler = optim.lr_scheduler.MultiStepLR(optimizer=optimizer, milestones=[int(_epoch * 0.5), int(_epoch * 0.05)], gamma=0.1, last_epoch=-1)"
      ],
      "metadata": {
        "id": "aQTNRRRf0tIU"
      },
      "execution_count": 17,
      "outputs": []
    },
    {
      "cell_type": "code",
      "source": [
        "print(\"Training Start : Second model (ResNet)\")\n",
        "start = time.time()\n",
        "\n",
        "for epoch in range(_epoch):  \n",
        "    lr_scheduler.step()\n",
        "    \n",
        "    avg_cost = 0.0\n",
        "    train_loss = 0.0\n",
        "    train_total = 0.0\n",
        "\n",
        "\n",
        "    for i, data in enumerate(train_loader, 0):\n",
        "        inputs, labels = data\n",
        "        inputs = inputs.to(device)\n",
        "        labels = labels.to(device)\n",
        "\n",
        "        optimizer.zero_grad()\n",
        "\n",
        "        outputs = net2(inputs)\n",
        "        loss = criterion(outputs, labels)\n",
        "        loss.backward()\n",
        "        optimizer.step()\n",
        "        \n",
        "        train_loss += loss.item()\n",
        "        train_loss += loss.item()\n",
        "        train_total += (torch.argmax(outputs, dim=1) == labels).sum().item()\n",
        "    \n",
        "    avg_cost /= batch_size\n",
        "    train_loss = train_loss / len(train_loader)\n",
        "    train_acc = train_total / len(train_dataset)\n",
        "\n",
        "\n",
        "    with torch.no_grad():\n",
        "        val_loss = 0.0\n",
        "        total = 0\n",
        "        for val_step, val in enumerate(val_loader):\n",
        "            val_x, val_label = val\n",
        "            \n",
        "            val_x = val_x.to(device)\n",
        "            val_label = val_label.to(device)\n",
        "\n",
        "            val_output = net2(val_x)\n",
        "            v_loss = criterion(val_output, val_label)\n",
        "            val_loss += v_loss\n",
        "            total += (torch.argmax(val_output, dim=1) == val_label).sum().item()\n",
        "\n",
        "        val_loss = val_loss / len(val_loader)\n",
        "        val_acc = total / len(val_dataset)\n",
        "\n",
        "    print(\"epoch: {}/{} | train loss: {} | val loss: {}\".format(epoch+1, _epoch, train_loss , val_loss))\n",
        "    print(\"train acc : {}\".format(train_acc))\n",
        "    print(\"val_acc: {}\".format(val_acc))\n",
        "\n",
        "    train_loss_history_ResNet.append(train_loss)\n",
        "    train_acc_history_ResNet.append(train_acc)     \n",
        "    val_loss_history_ResNet .append(val_loss)\n",
        "    val_acc_history_ResNet.append(val_acc)\n",
        "\n",
        "end = time.time()\n",
        "\n",
        "t = int(end - start)\n",
        "print(\"Training time: %dm %ds\" %(t//60, t%60))\n",
        "print(\"Training Finished\")"
      ],
      "metadata": {
        "colab": {
          "base_uri": "https://localhost:8080/"
        },
        "id": "cBlLhB6g0u86",
        "outputId": "173227d2-d606-48aa-951e-e4cfdb608ca6"
      },
      "execution_count": 18,
      "outputs": [
        {
          "output_type": "stream",
          "name": "stdout",
          "text": [
            "Training Start : Second model (ResNet)\n",
            "epoch: 1/30 | train loss: 3.0266331370224426 | val loss: 1.211851716041565\n",
            "train acc : 0.43918\n",
            "val_acc: 0.5581\n",
            "epoch: 2/30 | train loss: 2.1278432503990503 | val loss: 0.9610251188278198\n",
            "train acc : 0.61966\n",
            "val_acc: 0.652\n",
            "epoch: 3/30 | train loss: 1.7428894299070548 | val loss: 0.8357593417167664\n",
            "train acc : 0.69226\n",
            "val_acc: 0.7044\n",
            "epoch: 4/30 | train loss: 1.4990620808223325 | val loss: 0.7343884706497192\n",
            "train acc : 0.73692\n",
            "val_acc: 0.7394\n",
            "epoch: 5/30 | train loss: 1.3472151315730552 | val loss: 0.6575852036476135\n",
            "train acc : 0.7644\n",
            "val_acc: 0.771\n",
            "epoch: 6/30 | train loss: 1.230382020821047 | val loss: 0.630879819393158\n",
            "train acc : 0.78596\n",
            "val_acc: 0.7865\n",
            "epoch: 7/30 | train loss: 1.1312595125659348 | val loss: 0.5985938310623169\n",
            "train acc : 0.80366\n",
            "val_acc: 0.7923\n",
            "epoch: 8/30 | train loss: 1.0637359327977272 | val loss: 0.5825294256210327\n",
            "train acc : 0.81576\n",
            "val_acc: 0.8007\n",
            "epoch: 9/30 | train loss: 1.0095324961425702 | val loss: 0.5507739186286926\n",
            "train acc : 0.82358\n",
            "val_acc: 0.8135\n",
            "epoch: 10/30 | train loss: 0.9602575802132297 | val loss: 0.5379477143287659\n",
            "train acc : 0.83346\n",
            "val_acc: 0.816\n",
            "epoch: 11/30 | train loss: 0.9086458757710274 | val loss: 0.5215888619422913\n",
            "train acc : 0.84202\n",
            "val_acc: 0.8239\n",
            "epoch: 12/30 | train loss: 0.872723257983737 | val loss: 0.49828749895095825\n",
            "train acc : 0.84874\n",
            "val_acc: 0.8292\n",
            "epoch: 13/30 | train loss: 0.8315876688798676 | val loss: 0.4898104667663574\n",
            "train acc : 0.8539\n",
            "val_acc: 0.8313\n",
            "epoch: 14/30 | train loss: 0.7971810629148313 | val loss: 0.47261589765548706\n",
            "train acc : 0.86232\n",
            "val_acc: 0.8353\n",
            "epoch: 15/30 | train loss: 0.6578745257366648 | val loss: 0.4085371494293213\n",
            "train acc : 0.88566\n",
            "val_acc: 0.8568\n",
            "epoch: 16/30 | train loss: 0.6148179165085258 | val loss: 0.41077959537506104\n",
            "train acc : 0.89348\n",
            "val_acc: 0.8596\n",
            "epoch: 17/30 | train loss: 0.6044425385077591 | val loss: 0.4068523049354553\n",
            "train acc : 0.89542\n",
            "val_acc: 0.8596\n",
            "epoch: 18/30 | train loss: 0.5850635733445892 | val loss: 0.40777087211608887\n",
            "train acc : 0.89922\n",
            "val_acc: 0.8611\n",
            "epoch: 19/30 | train loss: 0.5719763642686713 | val loss: 0.4038538336753845\n",
            "train acc : 0.90206\n",
            "val_acc: 0.8634\n",
            "epoch: 20/30 | train loss: 0.5704231532790777 | val loss: 0.41144296526908875\n",
            "train acc : 0.9015\n",
            "val_acc: 0.8605\n",
            "epoch: 21/30 | train loss: 0.5639650795770728 | val loss: 0.4003416895866394\n",
            "train acc : 0.90274\n",
            "val_acc: 0.864\n",
            "epoch: 22/30 | train loss: 0.5539430695040451 | val loss: 0.410250723361969\n",
            "train acc : 0.90372\n",
            "val_acc: 0.8634\n",
            "epoch: 23/30 | train loss: 0.5456657504943936 | val loss: 0.4128224849700928\n",
            "train acc : 0.9058\n",
            "val_acc: 0.8602\n",
            "epoch: 24/30 | train loss: 0.5392979256942144 | val loss: 0.3997393250465393\n",
            "train acc : 0.90648\n",
            "val_acc: 0.8661\n",
            "epoch: 25/30 | train loss: 0.5395294298296389 | val loss: 0.40775591135025024\n",
            "train acc : 0.90584\n",
            "val_acc: 0.8659\n",
            "epoch: 26/30 | train loss: 0.5324926425505172 | val loss: 0.39701852202415466\n",
            "train acc : 0.90762\n",
            "val_acc: 0.8663\n",
            "epoch: 27/30 | train loss: 0.5297153201097112 | val loss: 0.4026680588722229\n",
            "train acc : 0.90796\n",
            "val_acc: 0.8627\n",
            "epoch: 28/30 | train loss: 0.5211978054717373 | val loss: 0.40077659487724304\n",
            "train acc : 0.9088\n",
            "val_acc: 0.8661\n",
            "epoch: 29/30 | train loss: 0.5125800338776215 | val loss: 0.394876092672348\n",
            "train acc : 0.90966\n",
            "val_acc: 0.867\n",
            "epoch: 30/30 | train loss: 0.5083170721445547 | val loss: 0.3961062431335449\n",
            "train acc : 0.91142\n",
            "val_acc: 0.8667\n",
            "Training time: 9m 45s\n",
            "Training Finished\n"
          ]
        }
      ]
    },
    {
      "cell_type": "code",
      "source": [
        "print(\"Test Start : Second model (ResNet)\")\n",
        "\n",
        "start = time.time()\n",
        "correct = 0.0\n",
        "total = 0.0\n",
        "\n",
        "with torch.no_grad():\n",
        "    for i, data in enumerate(val_loader, 0):\n",
        "        inputs, labels = data\n",
        "        inputs = inputs.to(device)\n",
        "        labels = labels.to(device)\n",
        "        \n",
        "        outputs = net2(inputs)\n",
        "        \n",
        "        _, predicted = torch.max(outputs.data, 1)\n",
        "        total += labels.size(0)\n",
        "        correct += (predicted == labels).sum().item()\n",
        "\n",
        "end = time.time()\n",
        "t = int(end-start)\n",
        "print(\"Test time: %dm %ds\" %(t//60, t%60))\n",
        "print(\"Test Finished\")\n",
        "\n",
        "print(f'Accuracy of the network on the 10000 test images: {100 * correct // total} %')"
      ],
      "metadata": {
        "colab": {
          "base_uri": "https://localhost:8080/"
        },
        "id": "UqG6IfyB01Di",
        "outputId": "78157684-fe5e-49f6-bdb2-7f5fb48d2cf6"
      },
      "execution_count": 19,
      "outputs": [
        {
          "output_type": "stream",
          "name": "stdout",
          "text": [
            "Test Start : Second model (ResNet)\n",
            "Test time: 0m 2s\n",
            "Test Finished\n",
            "Accuracy of the network on the 10000 test images: 86.0 %\n"
          ]
        }
      ]
    },
    {
      "cell_type": "code",
      "source": [
        "print(\"Show Loss plot : Second model\")\n",
        "\n",
        "plt.plot(train_loss_history_ResNet, label = ' train_loss')\n",
        "val_loss_history_ResNet = [i.cpu() for i in val_loss_history_ResNet]\n",
        "plt.plot(val_loss_history_ResNet, label = 'val_loss')\n",
        "plt.legend()\n",
        "plt.show()"
      ],
      "metadata": {
        "colab": {
          "base_uri": "https://localhost:8080/",
          "height": 283
        },
        "id": "1maWJRZ402_l",
        "outputId": "dca23e51-1303-4daf-9687-546c5620172f"
      },
      "execution_count": 20,
      "outputs": [
        {
          "output_type": "stream",
          "name": "stdout",
          "text": [
            "Show Loss plot : Second model\n"
          ]
        },
        {
          "output_type": "display_data",
          "data": {
            "text/plain": [
              "<Figure size 432x288 with 1 Axes>"
            ],
            "image/png": "[encoded data removed]"
          },
          "metadata": {
            "needs_background": "light"
          }
        }
      ]
    },
    {
      "cell_type": "code",
      "source": [
        "print(\"Show Acc plot : Second model\")\n",
        "\n",
        "plt.plot(train_acc_history_ResNet, label = ' train_acc')\n",
        "plt.plot(val_acc_history_ResNet, label = 'val_acc')\n",
        "plt.legend()\n",
        "plt.show()"
      ],
      "metadata": {
        "colab": {
          "base_uri": "https://localhost:8080/",
          "height": 283
        },
        "id": "aBb9XVRX04_g",
        "outputId": "d428ed48-f5f8-4f95-b493-1b47ddc97653"
      },
      "execution_count": 21,
      "outputs": [
        {
          "output_type": "stream",
          "name": "stdout",
          "text": [
            "Show Acc plot : Second model\n"
          ]
        },
        {
          "output_type": "display_data",
          "data": {
            "text/plain": [
              "<Figure size 432x288 with 1 Axes>"
            ],
            "image/png": "[encoded data removed]"
          },
          "metadata": {
            "needs_background": "light"
          }
        }
      ]
    },
    {
      "cell_type": "markdown",
      "source": [
        "3번 모델 : DenseNet"
      ],
      "metadata": {
        "id": "10DYzi4O08NM"
      }
    },
    {
      "cell_type": "code",
      "source": [
        "class Bottleneck(nn.Module):\n",
        "    def __init__(self, inChannels, growthRate):\n",
        "        super().__init__()\n",
        "\n",
        "        innerChannel = 4 * growthRate\n",
        "\n",
        "        self.bottleNeck = nn.Sequential(\n",
        "            nn.BatchNorm2d(inChannels),\n",
        "            nn.ReLU(inplace=True),\n",
        "            nn.Conv2d(inChannels, innerChannel, kernel_size=1, bias=False),\n",
        "            nn.BatchNorm2d(innerChannel),\n",
        "            nn.ReLU(inplace=True),\n",
        "            nn.Conv2d(innerChannel, growthRate, kernel_size=3, padding=1, bias=False)\n",
        "        )\n",
        "\n",
        "    def forward(self, x):\n",
        "        return torch.cat([x, self.bottleNeck(x)], 1)\n",
        "\n",
        "\n",
        "class Transition(nn.Module):\n",
        "    def __init__(self, inChannels, outChannels):\n",
        "        super().__init__()\n",
        "        \n",
        "        self.down_sample = nn.Sequential(\n",
        "            nn.BatchNorm2d(inChannels),\n",
        "            nn.Conv2d(inChannels, outChannels, 1, bias=False),\n",
        "            nn.AvgPool2d(2, stride=2)\n",
        "        )\n",
        "\n",
        "    def forward(self, x):\n",
        "        return self.down_sample(x)\n",
        "\n",
        "\n",
        "class DenseNet(nn.Module):\n",
        "    def __init__(self, block, nblocks, growthRate=12, reduction=0.5, numClass=100):\n",
        "        super().__init__()\n",
        "        self.growthRate = growthRate\n",
        "\n",
        "        innerChannels = 2 * growthRate\n",
        "\n",
        "        self.conv1 = nn.Conv2d(3, innerChannels, kernel_size=3, padding=1, bias=False)\n",
        "\n",
        "        self.features = nn.Sequential()\n",
        "\n",
        "        for index in range(len(nblocks) - 1):\n",
        "            self.features.add_module(\"dense_block_layer_{}\".format(index), self._make_dense_layers(block, innerChannels, nblocks[index]))\n",
        "            innerChannels += growthRate * nblocks[index]\n",
        "            outChannels = int(reduction * innerChannels) \n",
        "            self.features.add_module(\"transition_layer_{}\".format(index), Transition(innerChannels, outChannels))\n",
        "            innerChannels = outChannels\n",
        "\n",
        "        self.features.add_module(\"dense_block{}\".format(len(nblocks) - 1), self._make_dense_layers(block, innerChannels, nblocks[len(nblocks)-1]))\n",
        "        innerChannels += growthRate * nblocks[len(nblocks) - 1]\n",
        "        self.features.add_module('bn', nn.BatchNorm2d(innerChannels))\n",
        "        self.features.add_module('relu', nn.ReLU(inplace=True))\n",
        "\n",
        "        self.avgpool = nn.AdaptiveAvgPool2d((1, 1))\n",
        "\n",
        "        self.linear = nn.Linear(innerChannels, numClass)\n",
        "\n",
        "    def forward(self, x):\n",
        "        output = self.conv1(x)\n",
        "        output = self.features(output)\n",
        "        output = self.avgpool(output)\n",
        "        output = output.view(output.size()[0], -1)\n",
        "        output = self.linear(output)\n",
        "        return output\n",
        "\n",
        "    def _make_dense_layers(self, block, inChannels, nblocks):\n",
        "        denseBlock = nn.Sequential()\n",
        "        for index in range(nblocks):\n",
        "            denseBlock.add_module('bottle_neck_layer_{}'.format(index), block(inChannels, self.growthRate))\n",
        "            inChannels += self.growthRate\n",
        "        return denseBlock\n",
        "\n",
        "def densenet():\n",
        "    return DenseNet(Bottleneck, [6,12,24,16], growthRate=32)"
      ],
      "metadata": {
        "id": "QkUiEQkC1A79"
      },
      "execution_count": 22,
      "outputs": []
    },
    {
      "cell_type": "code",
      "source": [
        "net3 = densenet()\n",
        "net3 = net3.to(device)\n",
        "criterion = nn.CrossEntropyLoss()"
      ],
      "metadata": {
        "id": "MWLPuRMK1XS6"
      },
      "execution_count": 23,
      "outputs": []
    },
    {
      "cell_type": "code",
      "source": [
        "train_loss_history_DenseNet = []\n",
        "val_loss_history_DenseNet = []\n",
        "train_acc_history_DenseNet = []\n",
        "val_acc_history_DenseNet = []"
      ],
      "metadata": {
        "id": "eEJfAFWV1hSj"
      },
      "execution_count": 24,
      "outputs": []
    },
    {
      "cell_type": "code",
      "source": [
        "lr = 0.1\n",
        "optimizer = optim.SGD(net3.parameters(), lr=lr, momentum=0.9)\n",
        "lr_scheduler = optim.lr_scheduler.MultiStepLR(optimizer=optimizer, milestones=[int(_epoch * 0.5), int(_epoch * 0.05)], gamma=0.1, last_epoch=-1)"
      ],
      "metadata": {
        "id": "ZiXpYodm1iSK"
      },
      "execution_count": 25,
      "outputs": []
    },
    {
      "cell_type": "code",
      "source": [
        "print(\"Training Start : Third model (DenseNet)\")\n",
        "start = time.time()\n",
        "\n",
        "for epoch in range(_epoch):  \n",
        "    lr_scheduler.step()\n",
        "    \n",
        "    avg_cost = 0.0\n",
        "    train_loss = 0.0\n",
        "    train_total = 0.0\n",
        "\n",
        "\n",
        "    for i, data in enumerate(train_loader, 0):\n",
        "        inputs, labels = data\n",
        "        inputs = inputs.to(device)\n",
        "        labels = labels.to(device)\n",
        "\n",
        "        optimizer.zero_grad()\n",
        "\n",
        "        outputs = net3(inputs)\n",
        "        loss = criterion(outputs, labels)\n",
        "        loss.backward()\n",
        "        optimizer.step()\n",
        "        \n",
        "        train_loss += loss.item()\n",
        "        train_loss += loss.item()\n",
        "        train_total += (torch.argmax(outputs, dim=1) == labels).sum().item()\n",
        "    \n",
        "    avg_cost /= batch_size\n",
        "    train_loss = train_loss / len(train_loader)\n",
        "    train_acc = train_total / len(train_dataset)\n",
        "\n",
        "\n",
        "    with torch.no_grad():\n",
        "        val_loss = 0.0\n",
        "        total = 0\n",
        "        for val_step, val in enumerate(val_loader):\n",
        "            val_x, val_label = val\n",
        "            \n",
        "            val_x = val_x.to(device)\n",
        "            val_label = val_label.to(device)\n",
        "\n",
        "            val_output = net3(val_x)\n",
        "            v_loss = criterion(val_output, val_label)\n",
        "            val_loss += v_loss\n",
        "            total += (torch.argmax(val_output, dim=1) == val_label).sum().item()\n",
        "\n",
        "        val_loss = val_loss / len(val_loader)\n",
        "        val_acc = total / len(val_dataset)\n",
        "\n",
        "    print(\"epoch: {}/{} | train loss: {} | val loss: {}\".format(epoch+1, _epoch, train_loss , val_loss))\n",
        "    print(\"train acc : {}\".format(train_acc))\n",
        "    print(\"val_acc: {}\".format(val_acc))\n",
        "\n",
        "    train_loss_history_DenseNet.append(train_loss)\n",
        "    train_acc_history_DenseNet.append(train_acc)     \n",
        "    val_loss_history_DenseNet .append(val_loss)\n",
        "    val_acc_history_DenseNet.append(val_acc)\n",
        "\n",
        "end = time.time()\n",
        "\n",
        "t = int(end - start)\n",
        "print(\"Training time: %dm %ds\" %(t//60, t%60))\n",
        "print(\"Training Finished\")"
      ],
      "metadata": {
        "colab": {
          "base_uri": "https://localhost:8080/"
        },
        "id": "spNOWFdO1jV7",
        "outputId": "efea2436-c6fb-4d01-c7f6-7d8d4dd2d8e0"
      },
      "execution_count": 26,
      "outputs": [
        {
          "output_type": "stream",
          "name": "stdout",
          "text": [
            "Training Start : Third model (DenseNet)\n",
            "epoch: 1/30 | train loss: 2.7520563556715048 | val loss: 1.0114282369613647\n",
            "train acc : 0.50942\n",
            "val_acc: 0.6388\n",
            "epoch: 2/30 | train loss: 1.702548352348835 | val loss: 0.7619084119796753\n",
            "train acc : 0.69564\n",
            "val_acc: 0.7341\n",
            "epoch: 3/30 | train loss: 1.3011812518929582 | val loss: 0.6076890826225281\n",
            "train acc : 0.77334\n",
            "val_acc: 0.7938\n",
            "epoch: 4/30 | train loss: 1.0676649520769144 | val loss: 0.56734299659729\n",
            "train acc : 0.81606\n",
            "val_acc: 0.8067\n",
            "epoch: 5/30 | train loss: 0.9138812689525088 | val loss: 0.49018388986587524\n",
            "train acc : 0.84032\n",
            "val_acc: 0.8368\n",
            "epoch: 6/30 | train loss: 0.7975310586450045 | val loss: 0.44586724042892456\n",
            "train acc : 0.86218\n",
            "val_acc: 0.8482\n",
            "epoch: 7/30 | train loss: 0.7106834067712964 | val loss: 0.41961684823036194\n",
            "train acc : 0.877\n",
            "val_acc: 0.8578\n",
            "epoch: 8/30 | train loss: 0.635761557332695 | val loss: 0.4221547245979309\n",
            "train acc : 0.89106\n",
            "val_acc: 0.8551\n",
            "epoch: 9/30 | train loss: 0.588958395868921 | val loss: 0.3820406496524811\n",
            "train acc : 0.8981\n",
            "val_acc: 0.8712\n",
            "epoch: 10/30 | train loss: 0.5238115335898021 | val loss: 0.3815511167049408\n",
            "train acc : 0.90926\n",
            "val_acc: 0.8774\n",
            "epoch: 11/30 | train loss: 0.48698633928280655 | val loss: 0.37904369831085205\n",
            "train acc : 0.91534\n",
            "val_acc: 0.8749\n",
            "epoch: 12/30 | train loss: 0.4388542298008414 | val loss: 0.39182955026626587\n",
            "train acc : 0.92392\n",
            "val_acc: 0.8706\n",
            "epoch: 13/30 | train loss: 0.4067654411887269 | val loss: 0.37075865268707275\n",
            "train acc : 0.92972\n",
            "val_acc: 0.8845\n",
            "epoch: 14/30 | train loss: 0.3788010710874177 | val loss: 0.34367215633392334\n",
            "train acc : 0.9341\n",
            "val_acc: 0.8891\n",
            "epoch: 15/30 | train loss: 0.21254016306546644 | val loss: 0.27934029698371887\n",
            "train acc : 0.96572\n",
            "val_acc: 0.9089\n",
            "epoch: 16/30 | train loss: 0.1679005815702326 | val loss: 0.2720392644405365\n",
            "train acc : 0.97308\n",
            "val_acc: 0.9139\n",
            "epoch: 17/30 | train loss: 0.15204821039191294 | val loss: 0.27854281663894653\n",
            "train acc : 0.97596\n",
            "val_acc: 0.9144\n",
            "epoch: 18/30 | train loss: 0.14016444872483572 | val loss: 0.27541032433509827\n",
            "train acc : 0.9776\n",
            "val_acc: 0.9119\n",
            "epoch: 19/30 | train loss: 0.12562333304635095 | val loss: 0.27771031856536865\n",
            "train acc : 0.97974\n",
            "val_acc: 0.9134\n",
            "epoch: 20/30 | train loss: 0.11881023431982836 | val loss: 0.2751547396183014\n",
            "train acc : 0.98162\n",
            "val_acc: 0.9145\n",
            "epoch: 21/30 | train loss: 0.10597366704355421 | val loss: 0.2835102677345276\n",
            "train acc : 0.98358\n",
            "val_acc: 0.9169\n",
            "epoch: 22/30 | train loss: 0.10490230965854415 | val loss: 0.2846960425376892\n",
            "train acc : 0.9826\n",
            "val_acc: 0.9156\n",
            "epoch: 23/30 | train loss: 0.09339780344739747 | val loss: 0.2854158282279968\n",
            "train acc : 0.98548\n",
            "val_acc: 0.9184\n",
            "epoch: 24/30 | train loss: 0.08797942460193049 | val loss: 0.29564690589904785\n",
            "train acc : 0.98666\n",
            "val_acc: 0.9144\n",
            "epoch: 25/30 | train loss: 0.082067300253512 | val loss: 0.29869624972343445\n",
            "train acc : 0.98736\n",
            "val_acc: 0.917\n",
            "epoch: 26/30 | train loss: 0.07530255315115537 | val loss: 0.3065204620361328\n",
            "train acc : 0.98842\n",
            "val_acc: 0.9143\n",
            "epoch: 27/30 | train loss: 0.0717879457070547 | val loss: 0.30820730328559875\n",
            "train acc : 0.98892\n",
            "val_acc: 0.9112\n",
            "epoch: 28/30 | train loss: 0.06798328736992292 | val loss: 0.3065812587738037\n",
            "train acc : 0.98954\n",
            "val_acc: 0.9162\n",
            "epoch: 29/30 | train loss: 0.06299673076814322 | val loss: 0.31218475103378296\n",
            "train acc : 0.99106\n",
            "val_acc: 0.9131\n",
            "epoch: 30/30 | train loss: 0.05658934684351201 | val loss: 0.3203491270542145\n",
            "train acc : 0.99142\n",
            "val_acc: 0.9144\n",
            "Training time: 84m 31s\n",
            "Training Finished\n"
          ]
        }
      ]
    },
    {
      "cell_type": "code",
      "source": [
        "print(\"Test Start : Third model (DenseNet)\")\n",
        "\n",
        "start = time.time()\n",
        "correct = 0.0\n",
        "total = 0.0\n",
        "\n",
        "with torch.no_grad():\n",
        "    for i, data in enumerate(val_loader, 0):\n",
        "        inputs, labels = data\n",
        "        inputs = inputs.to(device)\n",
        "        labels = labels.to(device)\n",
        "        \n",
        "        outputs = net3(inputs)\n",
        "        \n",
        "        _, predicted = torch.max(outputs.data, 1)\n",
        "        total += labels.size(0)\n",
        "        correct += (predicted == labels).sum().item()\n",
        "\n",
        "end = time.time()\n",
        "t = int(end-start)\n",
        "print(\"Test time: %dm %ds\" %(t//60, t%60))\n",
        "print(\"Test Finished\")\n",
        "\n",
        "print(f'Accuracy of the network on the 10000 test images: {100 * correct // total} %')"
      ],
      "metadata": {
        "colab": {
          "base_uri": "https://localhost:8080/"
        },
        "id": "_rACsVO-1k1Q",
        "outputId": "d4f1eb86-ff08-40d1-ee1e-983ecbd53e54"
      },
      "execution_count": 27,
      "outputs": [
        {
          "output_type": "stream",
          "name": "stdout",
          "text": [
            "Test Start : Third model (DenseNet)\n",
            "Test time: 0m 10s\n",
            "Test Finished\n",
            "Accuracy of the network on the 10000 test images: 91.0 %\n"
          ]
        }
      ]
    },
    {
      "cell_type": "code",
      "source": [
        "print(\"Show Loss plot : Third model\")\n",
        "\n",
        "plt.plot(train_loss_history_DenseNet, label = ' train_loss')\n",
        "val_loss_history_DenseNet = [i.cpu() for i in val_loss_history_DenseNet]\n",
        "plt.plot(val_loss_history_DenseNet, label = 'val_loss')\n",
        "plt.legend()\n",
        "plt.show()"
      ],
      "metadata": {
        "colab": {
          "base_uri": "https://localhost:8080/",
          "height": 283
        },
        "id": "cZ3nuE5V1m4K",
        "outputId": "795f5c87-1607-4fbf-d40a-ed2d559a5362"
      },
      "execution_count": 28,
      "outputs": [
        {
          "output_type": "stream",
          "name": "stdout",
          "text": [
            "Show Loss plot : Third model\n"
          ]
        },
        {
          "output_type": "display_data",
          "data": {
            "text/plain": [
              "<Figure size 432x288 with 1 Axes>"
            ],
            "image/png": "[encoded data removed]"
          },
          "metadata": {
            "needs_background": "light"
          }
        }
      ]
    },
    {
      "cell_type": "code",
      "source": [
        "print(\"Show Acc plot : Third model\")\n",
        "\n",
        "plt.plot(train_acc_history_DenseNet, label = ' train_acc')\n",
        "plt.plot(val_acc_history_DenseNet, label = 'val_acc')\n",
        "plt.legend()\n",
        "plt.show()"
      ],
      "metadata": {
        "colab": {
          "base_uri": "https://localhost:8080/",
          "height": 283
        },
        "id": "GzFQ7-1V1oy9",
        "outputId": "5f1299ce-56e5-4a29-f6cb-f0edfa07b9ec"
      },
      "execution_count": 29,
      "outputs": [
        {
          "output_type": "stream",
          "name": "stdout",
          "text": [
            "Show Acc plot : Third model\n"
          ]
        },
        {
          "output_type": "display_data",
          "data": {
            "text/plain": [
              "<Figure size 432x288 with 1 Axes>"
            ],
            "image/png": "[encoded data removed]"
          },
          "metadata": {
            "needs_background": "light"
          }
        }
      ]
    },
    {
      "cell_type": "code",
      "source": [
        "print(\"Train All Models!!!\")"
      ],
      "metadata": {
        "colab": {
          "base_uri": "https://localhost:8080/"
        },
        "id": "sI25bi9-1p22",
        "outputId": "5dd3fb45-5f0c-4503-fc03-c7988bffa50f"
      },
      "execution_count": 30,
      "outputs": [
        {
          "output_type": "stream",
          "name": "stdout",
          "text": [
            "Train All Models!!!\n"
          ]
        }
      ]
    },
    {
      "cell_type": "code",
      "source": [
        "print(\"Compare : three models val_acc\")\n",
        "\n",
        "plt.plot(val_acc_history_myCNN, label = 'myCNN')\n",
        "plt.plot(val_acc_history_ResNet, label = 'ResNet')\n",
        "plt.plot(val_acc_history_DenseNet, label = 'DenseNet')\n",
        "plt.legend()\n",
        "plt.show()"
      ],
      "metadata": {
        "colab": {
          "base_uri": "https://localhost:8080/",
          "height": 283
        },
        "id": "vjYmnVKi1smx",
        "outputId": "c83f6d78-13e2-45e0-8696-4624c06a5d86"
      },
      "execution_count": 31,
      "outputs": [
        {
          "output_type": "stream",
          "name": "stdout",
          "text": [
            "Compare : three models val_acc\n"
          ]
        },
        {
          "output_type": "display_data",
          "data": {
            "text/plain": [
              "<Figure size 432x288 with 1 Axes>"
            ],
            "image/png": "[encoded data removed]"
          },
          "metadata": {
            "needs_background": "light"
          }
        }
      ]
    },
    {
      "cell_type": "code",
      "source": [
        "print(\"Compare : three models val_loss\")\n",
        "\n",
        "val_loss_history_myCNN = [i.cpu() for i in val_loss_history_myCNN]\n",
        "plt.plot(val_loss_history_myCNN, label = 'myCNN')\n",
        "val_loss_history_ResNet = [i.cpu() for i in val_loss_history_ResNet]\n",
        "plt.plot(val_loss_history_ResNet, label = 'ResNet')\n",
        "val_loss_history_DenseNet = [i.cpu() for i in val_loss_history_DenseNet]\n",
        "plt.plot(val_loss_history_DenseNet, label = 'DenseNet')\n",
        "plt.legend()\n",
        "plt.show()"
      ],
      "metadata": {
        "colab": {
          "base_uri": "https://localhost:8080/",
          "height": 283
        },
        "id": "2h_sfUVz1t9z",
        "outputId": "d0d40670-58b9-4937-c58b-9cc0c37523b9"
      },
      "execution_count": 32,
      "outputs": [
        {
          "output_type": "stream",
          "name": "stdout",
          "text": [
            "Compare : three models val_loss\n"
          ]
        },
        {
          "output_type": "display_data",
          "data": {
            "text/plain": [
              "<Figure size 432x288 with 1 Axes>"
            ],
            "image/png": "[encoded data removed]"
          },
          "metadata": {
            "needs_background": "light"
          }
        }
      ]
    }
  ]
}