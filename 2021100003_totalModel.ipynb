{
  "nbformat": 4,
  "nbformat_minor": 0,
  "metadata": {
    "colab": {
      "provenance": [],
      "collapsed_sections": [],
      "authorship_tag": "ABX9TyPZt3ZXgVR1792Wh6OdBkMg"
    },
    "kernelspec": {
      "name": "python3",
      "display_name": "Python 3"
    },
    "language_info": {
      "name": "python"
    },
    "accelerator": "GPU",
    "gpuClass": "standard"
  },
  "cells": [
    {
      "cell_type": "code",
      "source": [
        "import sys\n",
        "\n",
        "import torch\n",
        "import matplotlib.pyplot as plt\n",
        "\n",
        "import time\n",
        "\n",
        "import torch.nn as nn\n",
        "import torch.nn.functional as F\n",
        "\n",
        "import torchvision\n",
        "import torchvision.transforms as transforms\n",
        "import torchvision.datasets as dsets\n",
        "\n",
        "import numpy as np\n",
        "import tqdm\n",
        "\n",
        "from torch.utils.data import DataLoader\n",
        "from torch import optim"
      ],
      "metadata": {
        "id": "BgQzNvNxNm_Y"
      },
      "execution_count": 69,
      "outputs": []
    },
    {
      "cell_type": "code",
      "source": [
        "USE_CUDA = torch.cuda.is_available() # GPU를 사용가능하면 True, 아니라면 False를 리턴\n",
        "device = torch.device(\"cuda\" if USE_CUDA else \"cpu\") # GPU 사용 가능하면 사용하고 아니면 CPU 사용\n",
        "print(\"다음 기기로 학습합니다:\", device)"
      ],
      "metadata": {
        "colab": {
          "base_uri": "https://localhost:8080/"
        },
        "id": "hS9c82q2NrOo",
        "outputId": "8886ce7d-4c94-4edf-a816-cfd4a28c14f3"
      },
      "execution_count": null,
      "outputs": [
        {
          "output_type": "stream",
          "name": "stdout",
          "text": [
            "다음 기기로 학습합니다: cuda\n"
          ]
        }
      ]
    },
    {
      "cell_type": "code",
      "source": [
        "print(\"epoch와 batch size를 지정해줍니다.\")\n",
        "_epoch = 30\n",
        "batch_size = 128"
      ],
      "metadata": {
        "colab": {
          "base_uri": "https://localhost:8080/"
        },
        "id": "kTX8ER6fNuRm",
        "outputId": "c8c0b756-38f4-4c41-8a64-f45e971cd213"
      },
      "execution_count": null,
      "outputs": [
        {
          "output_type": "stream",
          "name": "stdout",
          "text": [
            "epoch와 batch size를 지정해줍니다.\n"
          ]
        }
      ]
    },
    {
      "cell_type": "code",
      "source": [
        "transform = transforms.Compose([\n",
        "    transforms.Pad(4),\n",
        "    transforms.RandomHorizontalFlip(),\n",
        "    transforms.RandomCrop(32),\n",
        "    transforms.ToTensor()\n",
        "])"
      ],
      "metadata": {
        "id": "-O5wZflEN8nM"
      },
      "execution_count": null,
      "outputs": []
    },
    {
      "cell_type": "code",
      "source": [
        "print(\"File Download : CIFAR10 dataset\")\n",
        "\n",
        "train_dataset = dsets.CIFAR10(root='./data', train=True,\n",
        "                                        download=True, transform=transform)\n",
        "train_loader = DataLoader(train_dataset, batch_size=batch_size,\n",
        "                                          shuffle=True, num_workers=2)\n",
        "\n",
        "val_dataset = dsets.CIFAR10(root='./data', train=False,\n",
        "                                       download=True, transform=transform)\n",
        "val_loader = DataLoader(val_dataset, batch_size=batch_size,\n",
        "                                         shuffle=False, num_workers=2)\n",
        "\n",
        "classes = ('plane', 'car', 'bird', 'cat', 'deer', 'dog', 'frog', 'horse', 'ship', 'truck')"
      ],
      "metadata": {
        "colab": {
          "base_uri": "https://localhost:8080/"
        },
        "id": "7vn0fqU3OAdd",
        "outputId": "8a060498-383c-47bb-f3f3-99a3ad9fd24d"
      },
      "execution_count": null,
      "outputs": [
        {
          "output_type": "stream",
          "name": "stdout",
          "text": [
            "File Download : CIFAR10 dataset\n",
            "Files already downloaded and verified\n",
            "Files already downloaded and verified\n"
          ]
        }
      ]
    },
    {
      "cell_type": "markdown",
      "source": [
        "1번 모델 : CNN (실습 시간에 사용한 코드 활용)"
      ],
      "metadata": {
        "id": "BLZL4D_kNeIS"
      }
    },
    {
      "cell_type": "code",
      "source": [
        "class my_CNN(nn.Module):\n",
        "    def __init__(self):\n",
        "        super(my_CNN, self).__init__()\n",
        "\n",
        "        self.conv1 = nn.Conv2d(3, 16, 3, padding=1) \n",
        "        self.conv2 = nn.Conv2d(16, 32, 3, padding=1)\n",
        "        self.conv3 = nn.Conv2d(32, 32, 3, padding=1)\n",
        "        self.conv4 = nn.Conv2d(32, 64, 3, padding=1)\n",
        "        self.conv5 = nn.Conv2d(64, 64, 3, padding=2)\n",
        "\n",
        "        self.bn1 = nn.BatchNorm2d(16)\n",
        "        self.bn2 = nn.BatchNorm2d(32)\n",
        "        self.bn3 = nn.BatchNorm2d(32)\n",
        "        self.bn4 = nn.BatchNorm2d(64)\n",
        "        self.bn5 = nn.BatchNorm2d(64)\n",
        "\n",
        "        self.pool = nn.MaxPool2d(2, 2)\n",
        "\n",
        "        self.fc1 = nn.Linear(64*4*4, 256)\n",
        "        self.fc2 = nn.Linear(256, 128)\n",
        "        self.fc3 = nn.Linear(128, 64)\n",
        "        self.fc4 = nn.Linear(64, 10)\n",
        "\n",
        "        self.dropout = nn.Dropout(0.5)\n",
        "\n",
        "    def forward(self, x):\n",
        "        x = F.relu(self.bn1(self.conv1(x)))\n",
        "        x = self.pool(x)\n",
        "\n",
        "        x = F.relu(self.bn2(self.conv2(x)))\n",
        "        x = self.pool(x)\n",
        "\n",
        "        x = F.relu(self.bn3(self.conv3(x)))\n",
        "        x = self.pool(x)\n",
        "        x = self.dropout(x)\n",
        "\n",
        "        x = F.relu(self.bn4(self.conv4(x)))\n",
        "        x = self.pool(x)\n",
        "\n",
        "        x = F.relu(self.bn5(self.conv5(x)))\n",
        "\n",
        "        x = x.view(-1, 64*4*4)\n",
        "\n",
        "        x = F.relu(self.fc1(x))\n",
        "        x = self.dropout(x)\n",
        "        x = F.relu(self.fc2(x))\n",
        "        x = self.dropout(x)\n",
        "        x = F.relu(self.fc3(x))\n",
        "        x = self.fc4(x)\n",
        "\n",
        "        return x"
      ],
      "metadata": {
        "id": "JCI2Xt0lNiHb"
      },
      "execution_count": null,
      "outputs": []
    },
    {
      "cell_type": "code",
      "source": [
        "net1 = my_CNN()\n",
        "net1 = net1.to(device)\n",
        "criterion = nn.CrossEntropyLoss()"
      ],
      "metadata": {
        "id": "NoVKs7fdPVLC"
      },
      "execution_count": null,
      "outputs": []
    },
    {
      "cell_type": "code",
      "source": [
        "train_loss_history_myCNN = []\n",
        "val_loss_history_myCNN = []\n",
        "train_acc_history_myCNN = []\n",
        "val_acc_history_myCNN = []"
      ],
      "metadata": {
        "id": "m8pM10oPPhga"
      },
      "execution_count": null,
      "outputs": []
    },
    {
      "cell_type": "code",
      "source": [
        "lr = 0.1\n",
        "optimizer = optim.SGD(net1.parameters(), lr=lr, momentum=0.9)\n",
        "lr_scheduler = optim.lr_scheduler.MultiStepLR(optimizer=optimizer, milestones=[int(_epoch * 0.5), int(_epoch * 0.05)], gamma=0.1, last_epoch=-1)"
      ],
      "metadata": {
        "id": "-85FXe2FRYqk"
      },
      "execution_count": null,
      "outputs": []
    },
    {
      "cell_type": "code",
      "source": [
        "print(\"Training Start : First model (my_CNN)\")\n",
        "start = time.time()\n",
        "\n",
        "for epoch in range(_epoch):  \n",
        "    lr_scheduler.step()\n",
        "    \n",
        "    avg_cost = 0.0\n",
        "    train_loss = 0.0\n",
        "    train_total = 0.0\n",
        "\n",
        "\n",
        "    for i, data in enumerate(train_loader, 0):\n",
        "        inputs, labels = data\n",
        "        inputs = inputs.to(device)\n",
        "        labels = labels.to(device)\n",
        "\n",
        "        optimizer.zero_grad()\n",
        "\n",
        "        outputs = net1(inputs)\n",
        "        loss = criterion(outputs, labels)\n",
        "        loss.backward()\n",
        "        optimizer.step()\n",
        "        \n",
        "        train_loss += loss.item()\n",
        "        train_loss += loss.item()\n",
        "        train_total += (torch.argmax(outputs, dim=1) == labels).sum().item()\n",
        "    \n",
        "    avg_cost /= batch_size\n",
        "    train_loss = train_loss / len(train_loader)\n",
        "    train_acc = train_total / len(train_dataset)\n",
        "    \n",
        "\n",
        "    with torch.no_grad():\n",
        "        val_loss = 0.0\n",
        "        total = 0\n",
        "        for val_step, val in enumerate(val_loader):\n",
        "            val_x, val_label = val\n",
        "            \n",
        "            val_x = val_x.to(device)\n",
        "            val_label = val_label.to(device)\n",
        "\n",
        "            val_output = net1(val_x)\n",
        "            v_loss = criterion(val_output, val_label)\n",
        "            val_loss += v_loss\n",
        "            total += (torch.argmax(val_output, dim=1) == val_label).sum().item()\n",
        "\n",
        "        val_loss = val_loss / len(val_loader)\n",
        "        val_acc = total / len(val_dataset)\n",
        "\n",
        "    print(\"epoch: {}/{} | train loss: {} | val loss: {}\".format(epoch+1, _epoch, train_loss , val_loss))\n",
        "    print(\"train acc : {}\".format(train_acc))\n",
        "    print(\"val_acc: {}\".format(val_acc))\n",
        "\n",
        "    train_loss_history_myCNN.append(train_loss)\n",
        "    train_acc_history_myCNN.append(train_acc)     \n",
        "    val_loss_history_myCNN .append(val_loss)\n",
        "    val_acc_history_myCNN.append(val_acc)\n",
        "\n",
        "end = time.time()\n",
        "\n",
        "t = int(end - start)\n",
        "print(\"Training time: %dm %ds\" %(t//60, t%60))\n",
        "print(\"Training Finished\")"
      ],
      "metadata": {
        "colab": {
          "base_uri": "https://localhost:8080/"
        },
        "id": "kkZjFK7hPqsm",
        "outputId": "ae1eb7a2-b221-46f0-a1fe-5825a90f65f9"
      },
      "execution_count": null,
      "outputs": [
        {
          "output_type": "stream",
          "name": "stdout",
          "text": [
            "Training Start : First model (my_CNN)\n",
            "epoch: 1/30 | train loss: 4.063172678203534 | val loss: 1.7864176034927368\n",
            "train acc : 0.20334\n",
            "val_acc: 0.2868\n",
            "epoch: 2/30 | train loss: 3.433066516885977 | val loss: 1.61915123462677\n",
            "train acc : 0.32294\n",
            "val_acc: 0.3719\n",
            "epoch: 3/30 | train loss: 3.1477306419626223 | val loss: 1.5370393991470337\n",
            "train acc : 0.3953\n",
            "val_acc: 0.4106\n",
            "epoch: 4/30 | train loss: 2.9574878435305623 | val loss: 1.4262644052505493\n",
            "train acc : 0.44058\n",
            "val_acc: 0.4731\n",
            "epoch: 5/30 | train loss: 2.788237794280967 | val loss: 1.3607877492904663\n",
            "train acc : 0.48392\n",
            "val_acc: 0.4943\n",
            "epoch: 6/30 | train loss: 2.654460376485839 | val loss: 1.2903292179107666\n",
            "train acc : 0.51824\n",
            "val_acc: 0.5329\n",
            "epoch: 7/30 | train loss: 2.576506224434699 | val loss: 1.2539461851119995\n",
            "train acc : 0.53622\n",
            "val_acc: 0.5566\n",
            "epoch: 8/30 | train loss: 2.4698171280229184 | val loss: 1.2339200973510742\n",
            "train acc : 0.55656\n",
            "val_acc: 0.5688\n",
            "epoch: 9/30 | train loss: 2.391067673483163 | val loss: 1.216243028640747\n",
            "train acc : 0.5733\n",
            "val_acc: 0.5686\n",
            "Epoch: 10/30, Cost: 0.000000\n",
            "epoch: 10/30 | train loss: 2.3385591558788135 | val loss: 1.1685820817947388\n",
            "train acc : 0.58852\n",
            "val_acc: 0.5934\n",
            "epoch: 11/30 | train loss: 2.2877573884661544 | val loss: 1.1508538722991943\n",
            "train acc : 0.59564\n",
            "val_acc: 0.5948\n",
            "epoch: 12/30 | train loss: 2.2454305317090903 | val loss: 1.1056138277053833\n",
            "train acc : 0.60558\n",
            "val_acc: 0.6112\n",
            "epoch: 13/30 | train loss: 2.1972256700705994 | val loss: 1.1045639514923096\n",
            "train acc : 0.6162\n",
            "val_acc: 0.6105\n",
            "epoch: 14/30 | train loss: 2.152810152534329 | val loss: 1.079587459564209\n",
            "train acc : 0.62146\n",
            "val_acc: 0.622\n",
            "epoch: 15/30 | train loss: 2.029067434008469 | val loss: 1.0312579870224\n",
            "train acc : 0.64522\n",
            "val_acc: 0.644\n",
            "epoch: 16/30 | train loss: 1.9861490885010156 | val loss: 1.0032227039337158\n",
            "train acc : 0.65206\n",
            "val_acc: 0.6522\n",
            "epoch: 17/30 | train loss: 1.9741561656717754 | val loss: 1.0062041282653809\n",
            "train acc : 0.65482\n",
            "val_acc: 0.6507\n",
            "epoch: 18/30 | train loss: 1.964538378178921 | val loss: 0.9983491897583008\n",
            "train acc : 0.65398\n",
            "val_acc: 0.6509\n",
            "epoch: 19/30 | train loss: 1.9531012871076383 | val loss: 0.9944689869880676\n",
            "train acc : 0.65996\n",
            "val_acc: 0.6491\n",
            "Epoch: 20/30, Cost: 0.000000\n",
            "epoch: 20/30 | train loss: 1.9444669289966983 | val loss: 0.989593505859375\n",
            "train acc : 0.66062\n",
            "val_acc: 0.6557\n",
            "epoch: 21/30 | train loss: 1.9515130788164066 | val loss: 0.9820625185966492\n",
            "train acc : 0.66098\n",
            "val_acc: 0.6561\n",
            "epoch: 22/30 | train loss: 1.9285601225045637 | val loss: 1.0033512115478516\n",
            "train acc : 0.6622\n",
            "val_acc: 0.6516\n",
            "epoch: 23/30 | train loss: 1.9388225788960372 | val loss: 0.9860420823097229\n",
            "train acc : 0.6608\n",
            "val_acc: 0.6567\n",
            "epoch: 24/30 | train loss: 1.9353193163566882 | val loss: 1.0023034811019897\n",
            "train acc : 0.66158\n",
            "val_acc: 0.6559\n",
            "epoch: 25/30 | train loss: 1.9158330866138038 | val loss: 0.9885516166687012\n",
            "train acc : 0.666\n",
            "val_acc: 0.6556\n",
            "epoch: 26/30 | train loss: 1.9141751942427263 | val loss: 0.9915007948875427\n",
            "train acc : 0.66474\n",
            "val_acc: 0.6586\n",
            "epoch: 27/30 | train loss: 1.9044107235301182 | val loss: 0.9763388633728027\n",
            "train acc : 0.66778\n",
            "val_acc: 0.6595\n",
            "epoch: 28/30 | train loss: 1.904685068313423 | val loss: 0.9897212982177734\n",
            "train acc : 0.66694\n",
            "val_acc: 0.6581\n",
            "epoch: 29/30 | train loss: 1.8987085529605445 | val loss: 0.9793745875358582\n",
            "train acc : 0.66826\n",
            "val_acc: 0.6613\n",
            "Epoch: 30/30, Cost: 0.000000\n",
            "epoch: 30/30 | train loss: 1.8960210944685485 | val loss: 0.9706509709358215\n",
            "train acc : 0.67028\n",
            "val_acc: 0.6655\n",
            "Training time: 9m 8s\n",
            "Training Finished\n"
          ]
        }
      ]
    },
    {
      "cell_type": "code",
      "source": [
        "print(\"Test Start : First model (my_CNN)\")\n",
        "\n",
        "start = time.time()\n",
        "correct = 0.0\n",
        "total = 0.0\n",
        "\n",
        "with torch.no_grad():\n",
        "    for i, data in enumerate(val_loader, 0):\n",
        "        inputs, labels = data\n",
        "        inputs = inputs.to(device)\n",
        "        labels = labels.to(device)\n",
        "        \n",
        "        outputs = net1(inputs)\n",
        "        \n",
        "        _, predicted = torch.max(outputs.data, 1)\n",
        "        total += labels.size(0)\n",
        "        correct += (predicted == labels).sum().item()\n",
        "\n",
        "end = time.time()\n",
        "t = int(end-start)\n",
        "print(\"Test time: %dm %ds\" %(t//60, t%60))\n",
        "print(\"Test Finished\")\n",
        "\n",
        "print(f'Accuracy of the network on the 10000 test images: {100 * correct // total} %')"
      ],
      "metadata": {
        "id": "hjAXSRAcQz8_",
        "colab": {
          "base_uri": "https://localhost:8080/"
        },
        "outputId": "2e6ae5e4-8d8a-46cb-bd41-d31b3a751c37"
      },
      "execution_count": null,
      "outputs": [
        {
          "output_type": "stream",
          "name": "stdout",
          "text": [
            "Test Start : First model (my_CNN)\n",
            "Test time: 0m 2s\n",
            "Test Finished\n",
            "Accuracy of the network on the 10000 test images: 66.0 %\n"
          ]
        }
      ]
    },
    {
      "cell_type": "code",
      "source": [
        "print(\"Show Loss plot : First model\")\n",
        "\n",
        "plt.plot(train_loss_history_myCNN, label = ' train_loss')\n",
        "val_loss_history = [i.cpu() for i in val_loss_history_myCNN]\n",
        "plt.plot(val_loss_history, label = 'val_loss')\n",
        "plt.legend()\n",
        "plt.show()"
      ],
      "metadata": {
        "id": "RgVUZOPtRDJy",
        "colab": {
          "base_uri": "https://localhost:8080/",
          "height": 282
        },
        "outputId": "669a68cc-a0b3-4961-b083-8bd4a58c5396"
      },
      "execution_count": null,
      "outputs": [
        {
          "output_type": "stream",
          "name": "stdout",
          "text": [
            "Show Loss plot : First model\n"
          ]
        },
        {
          "output_type": "display_data",
          "data": {
            "text/plain": [
              "<Figure size 432x288 with 1 Axes>"
            ],
            "image/png": "[encoded data removed]"
          },
          "metadata": {
            "needs_background": "light"
          }
        }
      ]
    },
    {
      "cell_type": "code",
      "source": [
        "print(\"Show Acc plot : First model\")\n",
        "\n",
        "plt.plot(train_acc_history_myCNN, label = ' train_acc')\n",
        "plt.plot(val_acc_history_myCNN, label = 'val_acc')\n",
        "plt.legend()\n",
        "plt.show()"
      ],
      "metadata": {
        "id": "9LKmXDlMRFTI",
        "colab": {
          "base_uri": "https://localhost:8080/",
          "height": 282
        },
        "outputId": "6de11309-8c8e-44c7-9c98-9f173ddeae50"
      },
      "execution_count": null,
      "outputs": [
        {
          "output_type": "stream",
          "name": "stdout",
          "text": [
            "Show Acc plot : First model\n"
          ]
        },
        {
          "output_type": "display_data",
          "data": {
            "text/plain": [
              "<Figure size 432x288 with 1 Axes>"
            ],
            "image/png": "[encoded data removed]"
          },
          "metadata": {
            "needs_background": "light"
          }
        }
      ]
    },
    {
      "cell_type": "markdown",
      "source": [
        "2번 모델 : ResNet"
      ],
      "metadata": {
        "id": "YVErOAH6TIlh"
      }
    },
    {
      "cell_type": "code",
      "source": [
        "class ResidualBlock(nn.Module):\n",
        "    def __init__(self, in_channels, out_channels, stride):\n",
        "        super().__init__()\n",
        "        self.conv1 = nn.Conv2d(in_channels, out_channels, 3, stride, 1)\n",
        "        self.bn1 = nn.BatchNorm2d(out_channels)\n",
        "        self.conv2 = nn.Conv2d(out_channels, out_channels, 3, 1, 1)\n",
        "        self.bn2 = nn.BatchNorm2d(out_channels)\n",
        "\n",
        "        if stride != 1: # When Downsampling,\n",
        "            self.downsample = nn.Sequential(\n",
        "                                nn.Conv2d(in_channels, out_channels, 3, 2, 1),\n",
        "                                nn.BatchNorm2d(out_channels)\n",
        "            )\n",
        "        else:\n",
        "            self.downsample = None\n",
        "    \n",
        "    def forward(self, x):\n",
        "        out = self.bn1(self.conv1(x))\n",
        "        out = F.relu(out)\n",
        "        out = self.bn2(self.conv2(out))\n",
        "        if self.downsample is not None:\n",
        "            x = self.downsample(x)\n",
        "        out += x\n",
        "        return F.relu(out)\n",
        "\n",
        "class ResNet(nn.Module):\n",
        "    def __init__(self, n):\n",
        "        super().__init__()\n",
        "        self.conv1 = nn.Conv2d(3, 16, 3, 1, 1)\n",
        "        self.bn1 = nn.BatchNorm2d(16)\n",
        "        self.layer1 = []\n",
        "        for _ in range(n):\n",
        "            self.layer1.append(ResidualBlock(16, 16, 1))\n",
        "        self.layer2 = [ResidualBlock(16, 32, 2)]\n",
        "        for _ in range(n-1):\n",
        "            self.layer2.append(ResidualBlock(32, 32, 1))\n",
        "        self.layer3 = [ResidualBlock(32, 64, 2)]\n",
        "        for _ in range(n-1):\n",
        "            self.layer3.append(ResidualBlock(64, 64, 1))\n",
        "        \n",
        "        self.layer1 = nn.Sequential(*self.layer1)\n",
        "        self.layer2 = nn.Sequential(*self.layer2)\n",
        "        self.layer3 = nn.Sequential(*self.layer3)\n",
        "\n",
        "        self.pool = nn.AvgPool2d(8)\n",
        "        self.linear = nn.Linear(64, 10)\n",
        "\n",
        "    def forward(self, x):\n",
        "        x = self.bn1(self.conv1(x))\n",
        "        x = self.layer1(x)\n",
        "        x = self.layer2(x)\n",
        "        x = self.layer3(x)\n",
        "        x = self.pool(x)\n",
        "        x = x.view(x.size(0), -1)\n",
        "        x = self.linear(x)\n",
        "        return x"
      ],
      "metadata": {
        "id": "Al1qNkMwTD-Q"
      },
      "execution_count": null,
      "outputs": []
    },
    {
      "cell_type": "code",
      "source": [
        "net2 = ResNet(3)\n",
        "net2 = net2.to(device)\n",
        "criterion = nn.CrossEntropyLoss()"
      ],
      "metadata": {
        "id": "vilHeT7TTeQM"
      },
      "execution_count": null,
      "outputs": []
    },
    {
      "cell_type": "code",
      "source": [
        "train_loss_history_ResNet = []\n",
        "val_loss_history_ResNet = []\n",
        "train_acc_history_ResNet = []\n",
        "val_acc_history_ResNet = []"
      ],
      "metadata": {
        "id": "m-c_fw9fTjgq"
      },
      "execution_count": null,
      "outputs": []
    },
    {
      "cell_type": "code",
      "source": [
        "lr = 0.1\n",
        "optimizer = optim.SGD(net2.parameters(), lr=lr, momentum=0.9)\n",
        "lr_scheduler = optim.lr_scheduler.MultiStepLR(optimizer=optimizer, milestones=[int(_epoch * 0.5), int(_epoch * 0.05)], gamma=0.1, last_epoch=-1)"
      ],
      "metadata": {
        "id": "7hrNLHhGTtVx"
      },
      "execution_count": null,
      "outputs": []
    },
    {
      "cell_type": "code",
      "source": [
        "print(\"Training Start : Second model (ResNet)\")\n",
        "start = time.time()\n",
        "\n",
        "for epoch in range(_epoch):  \n",
        "    lr_scheduler.step()\n",
        "    \n",
        "    avg_cost = 0.0\n",
        "    train_loss = 0.0\n",
        "    train_total = 0.0\n",
        "\n",
        "\n",
        "    for i, data in enumerate(train_loader, 0):\n",
        "        inputs, labels = data\n",
        "        inputs = inputs.to(device)\n",
        "        labels = labels.to(device)\n",
        "\n",
        "        optimizer.zero_grad()\n",
        "\n",
        "        outputs = net2(inputs)\n",
        "        loss = criterion(outputs, labels)\n",
        "        loss.backward()\n",
        "        optimizer.step()\n",
        "        \n",
        "        train_loss += loss.item()\n",
        "        train_loss += loss.item()\n",
        "        train_total += (torch.argmax(outputs, dim=1) == labels).sum().item()\n",
        "    \n",
        "    avg_cost /= batch_size\n",
        "    train_loss = train_loss / len(train_loader)\n",
        "    train_acc = train_total / len(train_dataset)\n",
        "\n",
        "\n",
        "    with torch.no_grad():\n",
        "        val_loss = 0.0\n",
        "        total = 0\n",
        "        for val_step, val in enumerate(val_loader):\n",
        "            val_x, val_label = val\n",
        "            \n",
        "            val_x = val_x.to(device)\n",
        "            val_label = val_label.to(device)\n",
        "\n",
        "            val_output = net2(val_x)\n",
        "            v_loss = criterion(val_output, val_label)\n",
        "            val_loss += v_loss\n",
        "            total += (torch.argmax(val_output, dim=1) == val_label).sum().item()\n",
        "\n",
        "        val_loss = val_loss / len(val_loader)\n",
        "        val_acc = total / len(val_dataset)\n",
        "\n",
        "    print(\"epoch: {}/{} | train loss: {} | val loss: {}\".format(epoch+1, _epoch, train_loss , val_loss))\n",
        "    print(\"train acc : {}\".format(train_acc))\n",
        "    print(\"val_acc: {}\".format(val_acc))\n",
        "\n",
        "    train_loss_history_ResNet.append(train_loss)\n",
        "    train_acc_history_ResNet.append(train_acc)     \n",
        "    val_loss_history_ResNet .append(val_loss)\n",
        "    val_acc_history_ResNet.append(val_acc)\n",
        "\n",
        "end = time.time()\n",
        "\n",
        "t = int(end - start)\n",
        "print(\"Training time: %dm %ds\" %(t//60, t%60))\n",
        "print(\"Training Finished\")"
      ],
      "metadata": {
        "colab": {
          "base_uri": "https://localhost:8080/"
        },
        "id": "LxkfxbaITzjO",
        "outputId": "7a5b49d1-7991-442b-8526-bec520101e35"
      },
      "execution_count": null,
      "outputs": [
        {
          "output_type": "stream",
          "name": "stdout",
          "text": [
            "Training Start : Second model (ResNet)\n",
            "epoch: 1/30 | train loss: 3.049154709062308 | val loss: 1.219801425933838\n",
            "train acc : 0.4341\n",
            "val_acc: 0.559\n",
            "epoch: 2/30 | train loss: 2.13119940928486 | val loss: 1.0069109201431274\n",
            "train acc : 0.61722\n",
            "val_acc: 0.6397\n",
            "epoch: 3/30 | train loss: 1.7972219209841755 | val loss: 0.8694428205490112\n",
            "train acc : 0.67846\n",
            "val_acc: 0.688\n",
            "epoch: 4/30 | train loss: 1.5590816720977159 | val loss: 0.7889650464057922\n",
            "train acc : 0.72432\n",
            "val_acc: 0.7257\n",
            "epoch: 5/30 | train loss: 1.3876036187571943 | val loss: 0.7100647687911987\n",
            "train acc : 0.7566\n",
            "val_acc: 0.7558\n",
            "epoch: 6/30 | train loss: 1.2564890215463955 | val loss: 0.6625504493713379\n",
            "train acc : 0.78074\n",
            "val_acc: 0.7729\n",
            "epoch: 7/30 | train loss: 1.171824081779441 | val loss: 0.6147019267082214\n",
            "train acc : 0.79674\n",
            "val_acc: 0.7951\n",
            "epoch: 8/30 | train loss: 1.0932584892758324 | val loss: 0.5928186774253845\n",
            "train acc : 0.8094\n",
            "val_acc: 0.7963\n",
            "epoch: 9/30 | train loss: 1.034865925226675 | val loss: 0.5568504929542542\n",
            "train acc : 0.81938\n",
            "val_acc: 0.8077\n",
            "Epoch: 10/30, Cost: 0.000000\n",
            "epoch: 10/30 | train loss: 0.9688938433861793 | val loss: 0.5428024530410767\n",
            "train acc : 0.83208\n",
            "val_acc: 0.8141\n",
            "epoch: 11/30 | train loss: 0.9353138437051602 | val loss: 0.5229212641716003\n",
            "train acc : 0.83736\n",
            "val_acc: 0.8246\n",
            "epoch: 12/30 | train loss: 0.8890602427065525 | val loss: 0.5078238248825073\n",
            "train acc : 0.84514\n",
            "val_acc: 0.8273\n",
            "epoch: 13/30 | train loss: 0.8474648533879644 | val loss: 0.4934646189212799\n",
            "train acc : 0.85294\n",
            "val_acc: 0.8304\n",
            "epoch: 14/30 | train loss: 0.8177674953894847 | val loss: 0.49911192059516907\n",
            "train acc : 0.85772\n",
            "val_acc: 0.8314\n",
            "epoch: 15/30 | train loss: 0.6739765076381167 | val loss: 0.42954570055007935\n",
            "train acc : 0.88348\n",
            "val_acc: 0.853\n",
            "epoch: 16/30 | train loss: 0.6313350390442802 | val loss: 0.4264373779296875\n",
            "train acc : 0.89122\n",
            "val_acc: 0.8563\n",
            "epoch: 17/30 | train loss: 0.6154264515013341 | val loss: 0.42624664306640625\n",
            "train acc : 0.89502\n",
            "val_acc: 0.8542\n",
            "epoch: 18/30 | train loss: 0.6068608292838191 | val loss: 0.41300520300865173\n",
            "train acc : 0.89648\n",
            "val_acc: 0.8611\n",
            "epoch: 19/30 | train loss: 0.5954001841642668 | val loss: 0.4322313964366913\n",
            "train acc : 0.89714\n",
            "val_acc: 0.8572\n",
            "Epoch: 20/30, Cost: 0.000000\n",
            "epoch: 20/30 | train loss: 0.5882730657029944 | val loss: 0.4230780005455017\n",
            "train acc : 0.89822\n",
            "val_acc: 0.8562\n",
            "epoch: 21/30 | train loss: 0.5771703635487715 | val loss: 0.4156714379787445\n",
            "train acc : 0.89974\n",
            "val_acc: 0.8599\n",
            "epoch: 22/30 | train loss: 0.5703244786280806 | val loss: 0.4208441376686096\n",
            "train acc : 0.90128\n",
            "val_acc: 0.8602\n",
            "epoch: 23/30 | train loss: 0.5627636576400084 | val loss: 0.41734763979911804\n",
            "train acc : 0.9028\n",
            "val_acc: 0.8605\n",
            "epoch: 24/30 | train loss: 0.5589244984604819 | val loss: 0.4221174120903015\n",
            "train acc : 0.90356\n",
            "val_acc: 0.859\n",
            "epoch: 25/30 | train loss: 0.5557331776679935 | val loss: 0.4181836247444153\n",
            "train acc : 0.90358\n",
            "val_acc: 0.8628\n",
            "epoch: 26/30 | train loss: 0.5506158081238227 | val loss: 0.42130979895591736\n",
            "train acc : 0.90498\n",
            "val_acc: 0.8605\n",
            "epoch: 27/30 | train loss: 0.5422999185826772 | val loss: 0.4105781018733978\n",
            "train acc : 0.90532\n",
            "val_acc: 0.8641\n",
            "epoch: 28/30 | train loss: 0.5383396766069904 | val loss: 0.4197457432746887\n",
            "train acc : 0.90792\n",
            "val_acc: 0.8573\n",
            "epoch: 29/30 | train loss: 0.5389315196315346 | val loss: 0.41919660568237305\n",
            "train acc : 0.90692\n",
            "val_acc: 0.856\n",
            "Epoch: 30/30, Cost: 0.000000\n",
            "epoch: 30/30 | train loss: 0.5282294090903933 | val loss: 0.4106723666191101\n",
            "train acc : 0.90834\n",
            "val_acc: 0.8638\n",
            "Training time: 11m 13s\n",
            "Training Finished\n"
          ]
        }
      ]
    },
    {
      "cell_type": "code",
      "source": [
        "print(\"Test Start : Second model (ResNet)\")\n",
        "\n",
        "start = time.time()\n",
        "correct = 0.0\n",
        "total = 0.0\n",
        "\n",
        "with torch.no_grad():\n",
        "    for i, data in enumerate(val_loader, 0):\n",
        "        inputs, labels = data\n",
        "        inputs = inputs.to(device)\n",
        "        labels = labels.to(device)\n",
        "        \n",
        "        outputs = net2(inputs)\n",
        "        \n",
        "        _, predicted = torch.max(outputs.data, 1)\n",
        "        total += labels.size(0)\n",
        "        correct += (predicted == labels).sum().item()\n",
        "\n",
        "end = time.time()\n",
        "t = int(end-start)\n",
        "print(\"Test time: %dm %ds\" %(t//60, t%60))\n",
        "print(\"Test Finished\")\n",
        "\n",
        "print(f'Accuracy of the network on the 10000 test images: {100 * correct // total} %')"
      ],
      "metadata": {
        "colab": {
          "base_uri": "https://localhost:8080/"
        },
        "id": "TDfsB_gcT_67",
        "outputId": "834719c1-c6c8-4733-a5f3-aeae61b3164b"
      },
      "execution_count": null,
      "outputs": [
        {
          "output_type": "stream",
          "name": "stdout",
          "text": [
            "Test Start : Second model (ResNet)\n",
            "Test time: 0m 2s\n",
            "Test Finished\n",
            "Accuracy of the network on the 10000 test images: 86.0 %\n"
          ]
        }
      ]
    },
    {
      "cell_type": "code",
      "source": [
        "print(\"Show Loss plot : Second model\")\n",
        "\n",
        "plt.plot(train_loss_history_ResNet, label = ' train_loss')\n",
        "val_loss_history_ResNet = [i.cpu() for i in val_loss_history_ResNet]\n",
        "plt.plot(val_loss_history_ResNet, label = 'val_loss')\n",
        "plt.legend()\n",
        "plt.show()"
      ],
      "metadata": {
        "colab": {
          "base_uri": "https://localhost:8080/",
          "height": 282
        },
        "id": "cI7mvVIHUC8y",
        "outputId": "32c42408-97ac-4e17-9408-6427181d5f29"
      },
      "execution_count": null,
      "outputs": [
        {
          "output_type": "stream",
          "name": "stdout",
          "text": [
            "Show Loss plot : Second model\n"
          ]
        },
        {
          "output_type": "display_data",
          "data": {
            "text/plain": [
              "<Figure size 432x288 with 1 Axes>"
            ],
            "image/png": "[encoded data removed]"
          },
          "metadata": {
            "needs_background": "light"
          }
        }
      ]
    },
    {
      "cell_type": "code",
      "source": [
        "print(\"Show Acc plot : Second model\")\n",
        "\n",
        "plt.plot(train_acc_history_ResNet, label = ' train_acc')\n",
        "plt.plot(val_acc_history_ResNet, label = 'val_acc')\n",
        "plt.legend()\n",
        "plt.show()"
      ],
      "metadata": {
        "colab": {
          "base_uri": "https://localhost:8080/",
          "height": 282
        },
        "id": "anM7L2TXVSFm",
        "outputId": "67564628-98d3-4b4d-c41f-019bd15ab78d"
      },
      "execution_count": null,
      "outputs": [
        {
          "output_type": "stream",
          "name": "stdout",
          "text": [
            "Show Acc plot : Second model\n"
          ]
        },
        {
          "output_type": "display_data",
          "data": {
            "text/plain": [
              "<Figure size 432x288 with 1 Axes>"
            ],
            "image/png": "[encoded data removed]"
          },
          "metadata": {
            "needs_background": "light"
          }
        }
      ]
    },
    {
      "cell_type": "markdown",
      "source": [
        "3번 모델 : DenseNet\n",
        "https://github.com/weiaicunzai/pytorch-cifar100/blob/master/models/densenet.py"
      ],
      "metadata": {
        "id": "rmIX5uSAVbCJ"
      }
    },
    {
      "cell_type": "code",
      "source": [
        "class Bottleneck(nn.Module):\n",
        "    def __init__(self, in_channels, growth_rate):\n",
        "        super().__init__()\n",
        "        #\"\"\"In  our experiments, we let each 1×1 convolution\n",
        "        #produce 4k feature-maps.\"\"\"\n",
        "        inner_channel = 4 * growth_rate\n",
        "\n",
        "        #\"\"\"We find this design especially effective for DenseNet and\n",
        "        #we refer to our network with such a bottleneck layer, i.e.,\n",
        "        #to the BN-ReLU-Conv(1×1)-BN-ReLU-Conv(3×3) version of H ` ,\n",
        "        #as DenseNet-B.\"\"\"\n",
        "        self.bottle_neck = nn.Sequential(\n",
        "            nn.BatchNorm2d(in_channels),\n",
        "            nn.ReLU(inplace=True),\n",
        "            nn.Conv2d(in_channels, inner_channel, kernel_size=1, bias=False),\n",
        "            nn.BatchNorm2d(inner_channel),\n",
        "            nn.ReLU(inplace=True),\n",
        "            nn.Conv2d(inner_channel, growth_rate, kernel_size=3, padding=1, bias=False)\n",
        "        )\n",
        "\n",
        "    def forward(self, x):\n",
        "        return torch.cat([x, self.bottle_neck(x)], 1)\n",
        "\n",
        "#\"\"\"We refer to layers between blocks as transition\n",
        "#layers, which do convolution and pooling.\"\"\"\n",
        "class Transition(nn.Module):\n",
        "    def __init__(self, in_channels, out_channels):\n",
        "        super().__init__()\n",
        "        #\"\"\"The transition layers used in our experiments\n",
        "        #consist of a batch normalization layer and an 1×1\n",
        "        #convolutional layer followed by a 2×2 average pooling\n",
        "        #layer\"\"\".\n",
        "        self.down_sample = nn.Sequential(\n",
        "            nn.BatchNorm2d(in_channels),\n",
        "            nn.Conv2d(in_channels, out_channels, 1, bias=False),\n",
        "            nn.AvgPool2d(2, stride=2)\n",
        "        )\n",
        "\n",
        "    def forward(self, x):\n",
        "        return self.down_sample(x)\n",
        "\n",
        "#DesneNet-BC\n",
        "#B stands for bottleneck layer(BN-RELU-CONV(1x1)-BN-RELU-CONV(3x3))\n",
        "#C stands for compression factor(0<=theta<=1)\n",
        "class DenseNet(nn.Module):\n",
        "    def __init__(self, block, nblocks, growth_rate=12, reduction=0.5, num_class=100):\n",
        "        super().__init__()\n",
        "        self.growth_rate = growth_rate\n",
        "\n",
        "        #\"\"\"Before entering the first dense block, a convolution\n",
        "        #with 16 (or twice the growth rate for DenseNet-BC)\n",
        "        #output channels is performed on the input images.\"\"\"\n",
        "        inner_channels = 2 * growth_rate\n",
        "\n",
        "        #For convolutional layers with kernel size 3×3, each\n",
        "        #side of the inputs is zero-padded by one pixel to keep\n",
        "        #the feature-map size fixed.\n",
        "        self.conv1 = nn.Conv2d(3, inner_channels, kernel_size=3, padding=1, bias=False)\n",
        "\n",
        "        self.features = nn.Sequential()\n",
        "\n",
        "        for index in range(len(nblocks) - 1):\n",
        "            self.features.add_module(\"dense_block_layer_{}\".format(index), self._make_dense_layers(block, inner_channels, nblocks[index]))\n",
        "            inner_channels += growth_rate * nblocks[index]\n",
        "\n",
        "            #\"\"\"If a dense block contains m feature-maps, we let the\n",
        "            #following transition layer generate θm output feature-\n",
        "            #maps, where 0 < θ ≤ 1 is referred to as the compression\n",
        "            #fac-tor.\n",
        "            out_channels = int(reduction * inner_channels) # int() will automatic floor the value\n",
        "            self.features.add_module(\"transition_layer_{}\".format(index), Transition(inner_channels, out_channels))\n",
        "            inner_channels = out_channels\n",
        "\n",
        "        self.features.add_module(\"dense_block{}\".format(len(nblocks) - 1), self._make_dense_layers(block, inner_channels, nblocks[len(nblocks)-1]))\n",
        "        inner_channels += growth_rate * nblocks[len(nblocks) - 1]\n",
        "        self.features.add_module('bn', nn.BatchNorm2d(inner_channels))\n",
        "        self.features.add_module('relu', nn.ReLU(inplace=True))\n",
        "\n",
        "        self.avgpool = nn.AdaptiveAvgPool2d((1, 1))\n",
        "\n",
        "        self.linear = nn.Linear(inner_channels, num_class)\n",
        "\n",
        "    def forward(self, x):\n",
        "        output = self.conv1(x)\n",
        "        output = self.features(output)\n",
        "        output = self.avgpool(output)\n",
        "        output = output.view(output.size()[0], -1)\n",
        "        output = self.linear(output)\n",
        "        return output\n",
        "\n",
        "    def _make_dense_layers(self, block, in_channels, nblocks):\n",
        "        dense_block = nn.Sequential()\n",
        "        for index in range(nblocks):\n",
        "            dense_block.add_module('bottle_neck_layer_{}'.format(index), block(in_channels, self.growth_rate))\n",
        "            in_channels += self.growth_rate\n",
        "        return dense_block\n",
        "\n",
        "def densenet121():\n",
        "    return DenseNet(Bottleneck, [6,12,24,16], growth_rate=32)"
      ],
      "metadata": {
        "id": "YDuEVEwjViGz"
      },
      "execution_count": null,
      "outputs": []
    },
    {
      "cell_type": "code",
      "source": [
        "net3 = densenet121()\n",
        "net3 = net3.to(device)\n",
        "criterion = nn.CrossEntropyLoss()"
      ],
      "metadata": {
        "id": "ohvIpXOAWTFX"
      },
      "execution_count": null,
      "outputs": []
    },
    {
      "cell_type": "code",
      "source": [
        "train_loss_history_DenseNet = []\n",
        "val_loss_history_DenseNet = []\n",
        "train_acc_history_DenseNet = []\n",
        "val_acc_history_DenseNet = []"
      ],
      "metadata": {
        "id": "fEB5QjrdWdtS"
      },
      "execution_count": null,
      "outputs": []
    },
    {
      "cell_type": "code",
      "source": [
        "lr = 0.1\n",
        "optimizer = optim.SGD(net3.parameters(), lr=lr, momentum=0.9)\n",
        "lr_scheduler = optim.lr_scheduler.MultiStepLR(optimizer=optimizer, milestones=[int(_epoch * 0.5), int(_epoch * 0.05)], gamma=0.1, last_epoch=-1)"
      ],
      "metadata": {
        "id": "_zoBluuxliYM"
      },
      "execution_count": null,
      "outputs": []
    },
    {
      "cell_type": "code",
      "source": [
        "print(\"Training Start : Third model (DenseNet)\")\n",
        "start = time.time()\n",
        "\n",
        "for epoch in range(_epoch):  \n",
        "    lr_scheduler.step()\n",
        "    \n",
        "    avg_cost = 0.0\n",
        "    train_loss = 0.0\n",
        "    train_total = 0.0\n",
        "\n",
        "\n",
        "    for i, data in enumerate(train_loader, 0):\n",
        "        inputs, labels = data\n",
        "        inputs = inputs.to(device)\n",
        "        labels = labels.to(device)\n",
        "\n",
        "        optimizer.zero_grad()\n",
        "\n",
        "        outputs = net3(inputs)\n",
        "        loss = criterion(outputs, labels)\n",
        "        loss.backward()\n",
        "        optimizer.step()\n",
        "        \n",
        "        train_loss += loss.item()\n",
        "        train_loss += loss.item()\n",
        "        train_total += (torch.argmax(outputs, dim=1) == labels).sum().item()\n",
        "    \n",
        "    avg_cost /= batch_size\n",
        "    train_loss = train_loss / len(train_loader)\n",
        "    train_acc = train_total / len(train_dataset)\n",
        "\n",
        "\n",
        "    with torch.no_grad():\n",
        "        val_loss = 0.0\n",
        "        total = 0\n",
        "        for val_step, val in enumerate(val_loader):\n",
        "            val_x, val_label = val\n",
        "            \n",
        "            val_x = val_x.to(device)\n",
        "            val_label = val_label.to(device)\n",
        "\n",
        "            val_output = net3(val_x)\n",
        "            v_loss = criterion(val_output, val_label)\n",
        "            val_loss += v_loss\n",
        "            total += (torch.argmax(val_output, dim=1) == val_label).sum().item()\n",
        "\n",
        "        val_loss = val_loss / len(val_loader)\n",
        "        val_acc = total / len(val_dataset)\n",
        "\n",
        "    print(\"epoch: {}/{} | train loss: {} | val loss: {}\".format(epoch+1, _epoch, train_loss , val_loss))\n",
        "    print(\"train acc : {}\".format(train_acc))\n",
        "    print(\"val_acc: {}\".format(val_acc))\n",
        "\n",
        "    train_loss_history_DenseNet.append(train_loss)\n",
        "    train_acc_history_DenseNet.append(train_acc)     \n",
        "    val_loss_history_DenseNet .append(val_loss)\n",
        "    val_acc_history_DenseNet.append(val_acc)\n",
        "\n",
        "end = time.time()\n",
        "\n",
        "t = int(end - start)\n",
        "print(\"Training time: %dm %ds\" %(t//60, t%60))\n",
        "print(\"Training Finished\")"
      ],
      "metadata": {
        "colab": {
          "base_uri": "https://localhost:8080/",
          "height": 1000
        },
        "id": "ltAT9ucVWp7E",
        "outputId": "73eb291e-1cae-4901-cd98-c757759dae9c"
      },
      "execution_count": 68,
      "outputs": [
        {
          "metadata": {
            "tags": null
          },
          "name": "stdout",
          "output_type": "stream",
          "text": [
            "Training Start : Third model (DenseNet)\n"
          ]
        },
        {
          "metadata": {
            "tags": null
          },
          "name": "stderr",
          "output_type": "stream",
          "text": [
            "Exception ignored in: <function _MultiProcessingDataLoaderIter.__del__ at 0x7f2ef5ae8950>\n",
            "Traceback (most recent call last):\n",
            "  File \"/usr/local/lib/python3.7/dist-packages/torch/utils/data/dataloader.py\", line 1510, in __del__\n",
            "    self._shutdown_workers()\n",
            "  File \"/usr/local/lib/python3.7/dist-packages/torch/utils/data/dataloader.py\", line 1493, in _shutdown_workers\n",
            "    if w.is_alive():\n",
            "  File \"/usr/lib/python3.7/multiprocessing/process.py\", line 151, in is_alive\n",
            "    assert self._parent_pid == os.getpid(), 'can only test a child process'\n",
            "AssertionError: can only test a child process\n",
            "Exception ignored in: <function _MultiProcessingDataLoaderIter.__del__ at 0x7f2ef5ae8950>\n",
            "Traceback (most recent call last):\n",
            "  File \"/usr/local/lib/python3.7/dist-packages/torch/utils/data/dataloader.py\", line 1510, in __del__\n",
            "    self._shutdown_workers()\n",
            "  File \"/usr/local/lib/python3.7/dist-packages/torch/utils/data/dataloader.py\", line 1493, in _shutdown_workers\n",
            "    if w.is_alive():\n",
            "  File \"/usr/lib/python3.7/multiprocessing/process.py\", line 151, in is_alive\n",
            "    assert self._parent_pid == os.getpid(), 'can only test a child process'\n",
            "AssertionError: can only test a child process\n",
            "Exception ignored in: <function _MultiProcessingDataLoaderIter.__del__ at 0x7f2ef5ae8950>\n",
            "Traceback (most recent call last):\n",
            "  File \"/usr/local/lib/python3.7/dist-packages/torch/utils/data/dataloader.py\", line 1510, in __del__\n",
            "    self._shutdown_workers()\n",
            "  File \"/usr/local/lib/python3.7/dist-packages/torch/utils/data/dataloader.py\", line 1493, in _shutdown_workers\n",
            "    if w.is_alive():\n",
            "  File \"/usr/lib/python3.7/multiprocessing/process.py\", line 151, in is_alive\n",
            "    assert self._parent_pid == os.getpid(), 'can only test a child process'\n",
            "AssertionErrorException ignored in: <function _MultiProcessingDataLoaderIter.__del__ at 0x7f2ef5ae8950>: \n",
            "can only test a child process\n",
            "Traceback (most recent call last):\n",
            "  File \"/usr/local/lib/python3.7/dist-packages/torch/utils/data/dataloader.py\", line 1510, in __del__\n",
            "    self._shutdown_workers()\n",
            "  File \"/usr/local/lib/python3.7/dist-packages/torch/utils/data/dataloader.py\", line 1493, in _shutdown_workers\n",
            "    if w.is_alive():\n",
            "  File \"/usr/lib/python3.7/multiprocessing/process.py\", line 151, in is_alive\n",
            "    assert self._parent_pid == os.getpid(), 'can only test a child process'\n",
            "AssertionError: can only test a child process\n"
          ]
        },
        {
          "metadata": {
            "tags": null
          },
          "name": "stdout",
          "output_type": "stream",
          "text": [
            "epoch: 1/30 | train loss: 9.299531004922773 | val loss: 4.649790287017822\n",
            "train acc : 0.01144\n",
            "val_acc: 0.0138\n"
          ]
        },
        {
          "output_type": "stream",
          "name": "stderr",
          "text": [
            "Exception ignored in: <function _MultiProcessingDataLoaderIter.__del__ at 0x7f2ef5ae8950>\n",
            "Traceback (most recent call last):\n",
            "  File \"/usr/local/lib/python3.7/dist-packages/torch/utils/data/dataloader.py\", line 1510, in __del__\n",
            "    self._shutdown_workers()\n",
            "  File \"/usr/local/lib/python3.7/dist-packages/torch/utils/data/dataloader.py\", line 1493, in _shutdown_workers\n",
            "    if w.is_alive():\n",
            "  File \"/usr/lib/python3.7/multiprocessing/process.py\", line 151, in is_alive\n",
            "    assert self._parent_pid == os.getpid(), 'can only test a child process'\n",
            "AssertionError: can only test a child process\n",
            "Exception ignored in: <function _MultiProcessingDataLoaderIter.__del__ at 0x7f2ef5ae8950>\n",
            "Traceback (most recent call last):\n",
            "  File \"/usr/local/lib/python3.7/dist-packages/torch/utils/data/dataloader.py\", line 1510, in __del__\n",
            "    self._shutdown_workers()\n",
            "  File \"/usr/local/lib/python3.7/dist-packages/torch/utils/data/dataloader.py\", line 1493, in _shutdown_workers\n",
            "    if w.is_alive():\n",
            "  File \"/usr/lib/python3.7/multiprocessing/process.py\", line 151, in is_alive\n",
            "    assert self._parent_pid == os.getpid(), 'can only test a child process'\n",
            "AssertionError: can only test a child process\n",
            "Exception ignored in: <function _MultiProcessingDataLoaderIter.__del__ at 0x7f2ef5ae8950>\n",
            "Traceback (most recent call last):\n",
            "  File \"/usr/local/lib/python3.7/dist-packages/torch/utils/data/dataloader.py\", line 1510, in __del__\n",
            "    self._shutdown_workers()\n",
            "  File \"/usr/local/lib/python3.7/dist-packages/torch/utils/data/dataloader.py\", line 1493, in _shutdown_workers\n",
            "    if w.is_alive():\n",
            "  File \"/usr/lib/python3.7/multiprocessing/process.py\", line 151, in is_alive\n",
            "    assert self._parent_pid == os.getpid(), 'can only test a child process'\n",
            "AssertionError: can only test a child process\n",
            "Exception ignored in: <function _MultiProcessingDataLoaderIter.__del__ at 0x7f2ef5ae8950>\n",
            "Traceback (most recent call last):\n",
            "  File \"/usr/local/lib/python3.7/dist-packages/torch/utils/data/dataloader.py\", line 1510, in __del__\n",
            "    self._shutdown_workers()\n",
            "  File \"/usr/local/lib/python3.7/dist-packages/torch/utils/data/dataloader.py\", line 1493, in _shutdown_workers\n",
            "    if w.is_alive():\n",
            "  File \"/usr/lib/python3.7/multiprocessing/process.py\", line 151, in is_alive\n",
            "    assert self._parent_pid == os.getpid(), 'can only test a child process'\n",
            "AssertionError: can only test a child process\n"
          ]
        },
        {
          "output_type": "stream",
          "name": "stdout",
          "text": [
            "epoch: 2/30 | train loss: 9.299049182316226 | val loss: 4.651031970977783\n",
            "train acc : 0.01136\n",
            "val_acc: 0.0129\n"
          ]
        },
        {
          "output_type": "stream",
          "name": "stderr",
          "text": [
            "Exception ignored in: <function _MultiProcessingDataLoaderIter.__del__ at 0x7f2ef5ae8950>\n",
            "Traceback (most recent call last):\n",
            "  File \"/usr/local/lib/python3.7/dist-packages/torch/utils/data/dataloader.py\", line 1510, in __del__\n",
            "    self._shutdown_workers()\n",
            "  File \"/usr/local/lib/python3.7/dist-packages/torch/utils/data/dataloader.py\", line 1493, in _shutdown_workers\n",
            "    if w.is_alive():\n",
            "  File \"/usr/lib/python3.7/multiprocessing/process.py\", line 151, in is_alive\n",
            "    assert self._parent_pid == os.getpid(), 'can only test a child process'\n",
            "AssertionError: can only test a child process\n",
            "Exception ignored in: <function _MultiProcessingDataLoaderIter.__del__ at 0x7f2ef5ae8950>\n",
            "Traceback (most recent call last):\n",
            "  File \"/usr/local/lib/python3.7/dist-packages/torch/utils/data/dataloader.py\", line 1510, in __del__\n",
            "    self._shutdown_workers()\n",
            "  File \"/usr/local/lib/python3.7/dist-packages/torch/utils/data/dataloader.py\", line 1493, in _shutdown_workers\n",
            "    if w.is_alive():\n",
            "  File \"/usr/lib/python3.7/multiprocessing/process.py\", line 151, in is_alive\n",
            "    assert self._parent_pid == os.getpid(), 'can only test a child process'\n",
            "AssertionError: can only test a child process\n"
          ]
        },
        {
          "output_type": "error",
          "ename": "KeyboardInterrupt",
          "evalue": "ignored",
          "traceback": [
            "\u001b[0;31m---------------------------------------------------------------------------\u001b[0m",
            "\u001b[0;31mKeyboardInterrupt\u001b[0m                         Traceback (most recent call last)",
            "\u001b[0;32m<ipython-input-68-0c8c8fac0176>\u001b[0m in \u001b[0;36m<module>\u001b[0;34m\u001b[0m\n\u001b[1;32m     22\u001b[0m         \u001b[0moptimizer\u001b[0m\u001b[0;34m.\u001b[0m\u001b[0mstep\u001b[0m\u001b[0;34m(\u001b[0m\u001b[0;34m)\u001b[0m\u001b[0;34m\u001b[0m\u001b[0;34m\u001b[0m\u001b[0m\n\u001b[1;32m     23\u001b[0m \u001b[0;34m\u001b[0m\u001b[0m\n\u001b[0;32m---> 24\u001b[0;31m         \u001b[0mtrain_loss\u001b[0m \u001b[0;34m+=\u001b[0m \u001b[0mloss\u001b[0m\u001b[0;34m.\u001b[0m\u001b[0mitem\u001b[0m\u001b[0;34m(\u001b[0m\u001b[0;34m)\u001b[0m\u001b[0;34m\u001b[0m\u001b[0;34m\u001b[0m\u001b[0m\n\u001b[0m\u001b[1;32m     25\u001b[0m         \u001b[0mtrain_loss\u001b[0m \u001b[0;34m+=\u001b[0m \u001b[0mloss\u001b[0m\u001b[0;34m.\u001b[0m\u001b[0mitem\u001b[0m\u001b[0;34m(\u001b[0m\u001b[0;34m)\u001b[0m\u001b[0;34m\u001b[0m\u001b[0;34m\u001b[0m\u001b[0m\n\u001b[1;32m     26\u001b[0m         \u001b[0mtrain_total\u001b[0m \u001b[0;34m+=\u001b[0m \u001b[0;34m(\u001b[0m\u001b[0mtorch\u001b[0m\u001b[0;34m.\u001b[0m\u001b[0margmax\u001b[0m\u001b[0;34m(\u001b[0m\u001b[0moutputs\u001b[0m\u001b[0;34m,\u001b[0m \u001b[0mdim\u001b[0m\u001b[0;34m=\u001b[0m\u001b[0;36m1\u001b[0m\u001b[0;34m)\u001b[0m \u001b[0;34m==\u001b[0m \u001b[0mlabels\u001b[0m\u001b[0;34m)\u001b[0m\u001b[0;34m.\u001b[0m\u001b[0msum\u001b[0m\u001b[0;34m(\u001b[0m\u001b[0;34m)\u001b[0m\u001b[0;34m.\u001b[0m\u001b[0mitem\u001b[0m\u001b[0;34m(\u001b[0m\u001b[0;34m)\u001b[0m\u001b[0;34m\u001b[0m\u001b[0;34m\u001b[0m\u001b[0m\n",
            "\u001b[0;31mKeyboardInterrupt\u001b[0m: "
          ]
        }
      ]
    },
    {
      "cell_type": "code",
      "source": [
        "print(\"Test Start : Third model (DenseNet)\")\n",
        "\n",
        "start = time.time()\n",
        "correct = 0.0\n",
        "total = 0.0\n",
        "\n",
        "with torch.no_grad():\n",
        "    for i, data in enumerate(val_loader, 0):\n",
        "        inputs, labels = data\n",
        "        inputs = inputs.to(device)\n",
        "        labels = labels.to(device)\n",
        "        \n",
        "        outputs = net3(inputs)\n",
        "        \n",
        "        _, predicted = torch.max(outputs.data, 1)\n",
        "        total += labels.size(0)\n",
        "        correct += (predicted == labels).sum().item()\n",
        "\n",
        "end = time.time()\n",
        "t = int(end-start)\n",
        "print(\"Test time: %dm %ds\" %(t//60, t%60))\n",
        "print(\"Test Finished\")\n",
        "\n",
        "print(f'Accuracy of the network on the 10000 test images: {100 * correct // total} %')"
      ],
      "metadata": {
        "id": "gg5AdFYRXC1Y"
      },
      "execution_count": null,
      "outputs": []
    },
    {
      "cell_type": "code",
      "source": [
        "print(\"Show Loss plot : Third model\")\n",
        "\n",
        "plt.plot(train_loss_history_DenseNet, label = ' train_loss')\n",
        "val_loss_history_DenseNet = [i.cpu() for i in val_loss_history_DenseNet]\n",
        "plt.plot(val_loss_history_DenseNet, label = 'val_loss')\n",
        "plt.legend()\n",
        "plt.show()"
      ],
      "metadata": {
        "id": "ltTQh6pnXJvI"
      },
      "execution_count": null,
      "outputs": []
    },
    {
      "cell_type": "code",
      "source": [
        "print(\"Show Acc plot : Third model\")\n",
        "\n",
        "plt.plot(train_acc_history_DenseNet, label = ' train_acc')\n",
        "plt.plot(val_acc_history_DenseNet, label = 'val_acc')\n",
        "plt.legend()\n",
        "plt.show()"
      ],
      "metadata": {
        "id": "W0nn-cTVXPZ5"
      },
      "execution_count": null,
      "outputs": []
    },
    {
      "cell_type": "code",
      "source": [
        "print(\"Train All Models!!!\")"
      ],
      "metadata": {
        "id": "tXB6V34IXWh9"
      },
      "execution_count": null,
      "outputs": []
    },
    {
      "cell_type": "code",
      "source": [
        "print(\"Compare : three models val_acc\")\n",
        "\n",
        "plt.plot(val_acc_history_myCNN, label = 'myCNN')\n",
        "plt.plot(val_acc_history_ResNet, label = 'ResNet')\n",
        "plt.plot(val_acc_history_DenseNet, label = 'DenseNet')\n",
        "plt.legend()\n",
        "plt.show()"
      ],
      "metadata": {
        "id": "onp0RcbrXZkm"
      },
      "execution_count": null,
      "outputs": []
    },
    {
      "cell_type": "code",
      "source": [
        "print(\"Compare : three models val_loss\")\n",
        "\n",
        "plt.plot(val_loss_history_myCNN, label = 'myCNN')\n",
        "plt.plot(val_loss_history_ResNet, label = 'ResNet')\n",
        "plt.plot(val_loss_history_DenseNet, label = 'DenseNet')\n",
        "plt.legend()\n",
        "plt.show()"
      ],
      "metadata": {
        "id": "D0eIum24YDMx"
      },
      "execution_count": null,
      "outputs": []
    }
  ]
}