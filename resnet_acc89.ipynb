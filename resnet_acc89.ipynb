{
  "nbformat": 4,
  "nbformat_minor": 0,
  "metadata": {
    "colab": {
      "provenance": [],
      "authorship_tag": "ABX9TyO0RWJ8JDe29n5nI9FwHZZn"
    },
    "kernelspec": {
      "name": "python3",
      "display_name": "Python 3"
    },
    "language_info": {
      "name": "python"
    },
    "accelerator": "GPU",
    "gpuClass": "standard",
    "widgets": {
      "application/vnd.jupyter.widget-state+json": {
        "a7a653cf94e44587934125a47778d7e4": {
          "model_module": "@jupyter-widgets/controls",
          "model_name": "HBoxModel",
          "model_module_version": "1.5.0",
          "state": {
            "_dom_classes": [],
            "_model_module": "@jupyter-widgets/controls",
            "_model_module_version": "1.5.0",
            "_model_name": "HBoxModel",
            "_view_count": null,
            "_view_module": "@jupyter-widgets/controls",
            "_view_module_version": "1.5.0",
            "_view_name": "HBoxView",
            "box_style": "",
            "children": [
              "IPY_MODEL_ea764418f2bf4db582a1371fe1f55ff8",
              "IPY_MODEL_00a0bd85a49144ff8ad36a70db797846",
              "IPY_MODEL_7c46f07600b24053b55cac1d5b45a6bb"
            ],
            "layout": "IPY_MODEL_349edea999fb417592f5d50d8ef70e07"
          }
        },
        "ea764418f2bf4db582a1371fe1f55ff8": {
          "model_module": "@jupyter-widgets/controls",
          "model_name": "HTMLModel",
          "model_module_version": "1.5.0",
          "state": {
            "_dom_classes": [],
            "_model_module": "@jupyter-widgets/controls",
            "_model_module_version": "1.5.0",
            "_model_name": "HTMLModel",
            "_view_count": null,
            "_view_module": "@jupyter-widgets/controls",
            "_view_module_version": "1.5.0",
            "_view_name": "HTMLView",
            "description": "",
            "description_tooltip": null,
            "layout": "IPY_MODEL_ff59acaf317f445285e55eb15e3b381f",
            "placeholder": "​",
            "style": "IPY_MODEL_c3e2b5eebe9d4a438b6f2c9f843ce774",
            "value": "100%"
          }
        },
        "00a0bd85a49144ff8ad36a70db797846": {
          "model_module": "@jupyter-widgets/controls",
          "model_name": "FloatProgressModel",
          "model_module_version": "1.5.0",
          "state": {
            "_dom_classes": [],
            "_model_module": "@jupyter-widgets/controls",
            "_model_module_version": "1.5.0",
            "_model_name": "FloatProgressModel",
            "_view_count": null,
            "_view_module": "@jupyter-widgets/controls",
            "_view_module_version": "1.5.0",
            "_view_name": "ProgressView",
            "bar_style": "success",
            "description": "",
            "description_tooltip": null,
            "layout": "IPY_MODEL_a6534082ea7647c78ee79e3e9969309d",
            "max": 170498071,
            "min": 0,
            "orientation": "horizontal",
            "style": "IPY_MODEL_6dd67030613a4b1596ae3e17d9154825",
            "value": 170498071
          }
        },
        "7c46f07600b24053b55cac1d5b45a6bb": {
          "model_module": "@jupyter-widgets/controls",
          "model_name": "HTMLModel",
          "model_module_version": "1.5.0",
          "state": {
            "_dom_classes": [],
            "_model_module": "@jupyter-widgets/controls",
            "_model_module_version": "1.5.0",
            "_model_name": "HTMLModel",
            "_view_count": null,
            "_view_module": "@jupyter-widgets/controls",
            "_view_module_version": "1.5.0",
            "_view_name": "HTMLView",
            "description": "",
            "description_tooltip": null,
            "layout": "IPY_MODEL_122b68c669e04795aec6f3fef8f90ac0",
            "placeholder": "​",
            "style": "IPY_MODEL_ad2837c5eb9045abb16a13c1304fc215",
            "value": " 170498071/170498071 [00:03&lt;00:00, 55044734.59it/s]"
          }
        },
        "349edea999fb417592f5d50d8ef70e07": {
          "model_module": "@jupyter-widgets/base",
          "model_name": "LayoutModel",
          "model_module_version": "1.2.0",
          "state": {
            "_model_module": "@jupyter-widgets/base",
            "_model_module_version": "1.2.0",
            "_model_name": "LayoutModel",
            "_view_count": null,
            "_view_module": "@jupyter-widgets/base",
            "_view_module_version": "1.2.0",
            "_view_name": "LayoutView",
            "align_content": null,
            "align_items": null,
            "align_self": null,
            "border": null,
            "bottom": null,
            "display": null,
            "flex": null,
            "flex_flow": null,
            "grid_area": null,
            "grid_auto_columns": null,
            "grid_auto_flow": null,
            "grid_auto_rows": null,
            "grid_column": null,
            "grid_gap": null,
            "grid_row": null,
            "grid_template_areas": null,
            "grid_template_columns": null,
            "grid_template_rows": null,
            "height": null,
            "justify_content": null,
            "justify_items": null,
            "left": null,
            "margin": null,
            "max_height": null,
            "max_width": null,
            "min_height": null,
            "min_width": null,
            "object_fit": null,
            "object_position": null,
            "order": null,
            "overflow": null,
            "overflow_x": null,
            "overflow_y": null,
            "padding": null,
            "right": null,
            "top": null,
            "visibility": null,
            "width": null
          }
        },
        "ff59acaf317f445285e55eb15e3b381f": {
          "model_module": "@jupyter-widgets/base",
          "model_name": "LayoutModel",
          "model_module_version": "1.2.0",
          "state": {
            "_model_module": "@jupyter-widgets/base",
            "_model_module_version": "1.2.0",
            "_model_name": "LayoutModel",
            "_view_count": null,
            "_view_module": "@jupyter-widgets/base",
            "_view_module_version": "1.2.0",
            "_view_name": "LayoutView",
            "align_content": null,
            "align_items": null,
            "align_self": null,
            "border": null,
            "bottom": null,
            "display": null,
            "flex": null,
            "flex_flow": null,
            "grid_area": null,
            "grid_auto_columns": null,
            "grid_auto_flow": null,
            "grid_auto_rows": null,
            "grid_column": null,
            "grid_gap": null,
            "grid_row": null,
            "grid_template_areas": null,
            "grid_template_columns": null,
            "grid_template_rows": null,
            "height": null,
            "justify_content": null,
            "justify_items": null,
            "left": null,
            "margin": null,
            "max_height": null,
            "max_width": null,
            "min_height": null,
            "min_width": null,
            "object_fit": null,
            "object_position": null,
            "order": null,
            "overflow": null,
            "overflow_x": null,
            "overflow_y": null,
            "padding": null,
            "right": null,
            "top": null,
            "visibility": null,
            "width": null
          }
        },
        "c3e2b5eebe9d4a438b6f2c9f843ce774": {
          "model_module": "@jupyter-widgets/controls",
          "model_name": "DescriptionStyleModel",
          "model_module_version": "1.5.0",
          "state": {
            "_model_module": "@jupyter-widgets/controls",
            "_model_module_version": "1.5.0",
            "_model_name": "DescriptionStyleModel",
            "_view_count": null,
            "_view_module": "@jupyter-widgets/base",
            "_view_module_version": "1.2.0",
            "_view_name": "StyleView",
            "description_width": ""
          }
        },
        "a6534082ea7647c78ee79e3e9969309d": {
          "model_module": "@jupyter-widgets/base",
          "model_name": "LayoutModel",
          "model_module_version": "1.2.0",
          "state": {
            "_model_module": "@jupyter-widgets/base",
            "_model_module_version": "1.2.0",
            "_model_name": "LayoutModel",
            "_view_count": null,
            "_view_module": "@jupyter-widgets/base",
            "_view_module_version": "1.2.0",
            "_view_name": "LayoutView",
            "align_content": null,
            "align_items": null,
            "align_self": null,
            "border": null,
            "bottom": null,
            "display": null,
            "flex": null,
            "flex_flow": null,
            "grid_area": null,
            "grid_auto_columns": null,
            "grid_auto_flow": null,
            "grid_auto_rows": null,
            "grid_column": null,
            "grid_gap": null,
            "grid_row": null,
            "grid_template_areas": null,
            "grid_template_columns": null,
            "grid_template_rows": null,
            "height": null,
            "justify_content": null,
            "justify_items": null,
            "left": null,
            "margin": null,
            "max_height": null,
            "max_width": null,
            "min_height": null,
            "min_width": null,
            "object_fit": null,
            "object_position": null,
            "order": null,
            "overflow": null,
            "overflow_x": null,
            "overflow_y": null,
            "padding": null,
            "right": null,
            "top": null,
            "visibility": null,
            "width": null
          }
        },
        "6dd67030613a4b1596ae3e17d9154825": {
          "model_module": "@jupyter-widgets/controls",
          "model_name": "ProgressStyleModel",
          "model_module_version": "1.5.0",
          "state": {
            "_model_module": "@jupyter-widgets/controls",
            "_model_module_version": "1.5.0",
            "_model_name": "ProgressStyleModel",
            "_view_count": null,
            "_view_module": "@jupyter-widgets/base",
            "_view_module_version": "1.2.0",
            "_view_name": "StyleView",
            "bar_color": null,
            "description_width": ""
          }
        },
        "122b68c669e04795aec6f3fef8f90ac0": {
          "model_module": "@jupyter-widgets/base",
          "model_name": "LayoutModel",
          "model_module_version": "1.2.0",
          "state": {
            "_model_module": "@jupyter-widgets/base",
            "_model_module_version": "1.2.0",
            "_model_name": "LayoutModel",
            "_view_count": null,
            "_view_module": "@jupyter-widgets/base",
            "_view_module_version": "1.2.0",
            "_view_name": "LayoutView",
            "align_content": null,
            "align_items": null,
            "align_self": null,
            "border": null,
            "bottom": null,
            "display": null,
            "flex": null,
            "flex_flow": null,
            "grid_area": null,
            "grid_auto_columns": null,
            "grid_auto_flow": null,
            "grid_auto_rows": null,
            "grid_column": null,
            "grid_gap": null,
            "grid_row": null,
            "grid_template_areas": null,
            "grid_template_columns": null,
            "grid_template_rows": null,
            "height": null,
            "justify_content": null,
            "justify_items": null,
            "left": null,
            "margin": null,
            "max_height": null,
            "max_width": null,
            "min_height": null,
            "min_width": null,
            "object_fit": null,
            "object_position": null,
            "order": null,
            "overflow": null,
            "overflow_x": null,
            "overflow_y": null,
            "padding": null,
            "right": null,
            "top": null,
            "visibility": null,
            "width": null
          }
        },
        "ad2837c5eb9045abb16a13c1304fc215": {
          "model_module": "@jupyter-widgets/controls",
          "model_name": "DescriptionStyleModel",
          "model_module_version": "1.5.0",
          "state": {
            "_model_module": "@jupyter-widgets/controls",
            "_model_module_version": "1.5.0",
            "_model_name": "DescriptionStyleModel",
            "_view_count": null,
            "_view_module": "@jupyter-widgets/base",
            "_view_module_version": "1.2.0",
            "_view_name": "StyleView",
            "description_width": ""
          }
        }
      }
    }
  },
  "cells": [
    {
      "cell_type": "code",
      "execution_count": null,
      "metadata": {
        "id": "8kYthHzVxyLk"
      },
      "outputs": [],
      "source": [
        "import sys\n",
        "import torch\n",
        "import torch.nn as nn\n",
        "import torch.nn.functional as F\n",
        "\n",
        "import matplotlib.pyplot as plt\n",
        "\n",
        "import torchvision\n",
        "import torchvision.transforms as transforms\n",
        "import torchvision.datasets as dsets\n",
        "\n",
        "import numpy as np\n",
        "import tqdm\n",
        "\n",
        "import time\n",
        "\n",
        "from torch.utils.data import DataLoader\n",
        "from torch import optim"
      ]
    },
    {
      "cell_type": "code",
      "source": [
        "USE_CUDA = torch.cuda.is_available() # GPU를 사용가능하면 True, 아니라면 False를 리턴\n",
        "device = torch.device(\"cuda\" if USE_CUDA else \"cpu\") # GPU 사용 가능하면 사용하고 아니면 CPU 사용\n",
        "print(\"다음 기기로 학습합니다:\", device)"
      ],
      "metadata": {
        "colab": {
          "base_uri": "https://localhost:8080/"
        },
        "id": "Gp-8QMczx_Yo",
        "outputId": "187b06ad-5c21-4473-d6e2-e2415f9cd830"
      },
      "execution_count": null,
      "outputs": [
        {
          "output_type": "stream",
          "name": "stdout",
          "text": [
            "다음 기기로 학습합니다: cuda\n"
          ]
        }
      ]
    },
    {
      "cell_type": "code",
      "source": [
        "transform = transforms.Compose([\n",
        "    transforms.Pad(4),\n",
        "    transforms.RandomHorizontalFlip(),\n",
        "    transforms.RandomCrop(32),\n",
        "    transforms.ToTensor()\n",
        "])"
      ],
      "metadata": {
        "id": "Ww7lvLWpyCq3"
      },
      "execution_count": null,
      "outputs": []
    },
    {
      "cell_type": "code",
      "source": [
        "batch_size = 256\n",
        "\n",
        "train_dataset = dsets.CIFAR10(root='./data', train=True,\n",
        "                                        download=True, transform=transform)\n",
        "train_loader = DataLoader(train_dataset, batch_size=batch_size,\n",
        "                                          shuffle=True, num_workers=2)\n",
        "\n",
        "val_dataset = dsets.CIFAR10(root='./data', train=False,\n",
        "                                       download=True, transform=transform)\n",
        "val_loader = DataLoader(val_dataset, batch_size=batch_size,\n",
        "                                         shuffle=False, num_workers=2)\n",
        "\n",
        "classes = ('plane', 'car', 'bird', 'cat',\n",
        "           'deer', 'dog', 'frog', 'horse', 'ship', 'truck')"
      ],
      "metadata": {
        "colab": {
          "base_uri": "https://localhost:8080/",
          "height": 104,
          "referenced_widgets": [
            "a7a653cf94e44587934125a47778d7e4",
            "ea764418f2bf4db582a1371fe1f55ff8",
            "00a0bd85a49144ff8ad36a70db797846",
            "7c46f07600b24053b55cac1d5b45a6bb",
            "349edea999fb417592f5d50d8ef70e07",
            "ff59acaf317f445285e55eb15e3b381f",
            "c3e2b5eebe9d4a438b6f2c9f843ce774",
            "a6534082ea7647c78ee79e3e9969309d",
            "6dd67030613a4b1596ae3e17d9154825",
            "122b68c669e04795aec6f3fef8f90ac0",
            "ad2837c5eb9045abb16a13c1304fc215"
          ]
        },
        "id": "WCrEsKCRyD9Q",
        "outputId": "fd6acb5d-c35a-4e8a-ea2a-b5f4ed1fee4e"
      },
      "execution_count": null,
      "outputs": [
        {
          "output_type": "stream",
          "name": "stdout",
          "text": [
            "Downloading https://www.cs.toronto.edu/~kriz/cifar-10-python.tar.gz to ./data/cifar-10-python.tar.gz\n"
          ]
        },
        {
          "output_type": "display_data",
          "data": {
            "text/plain": [
              "  0%|          | 0/170498071 [00:00<?, ?it/s]"
            ],
            "application/vnd.jupyter.widget-view+json": {
              "version_major": 2,
              "version_minor": 0,
              "model_id": "a7a653cf94e44587934125a47778d7e4"
            }
          },
          "metadata": {}
        },
        {
          "output_type": "stream",
          "name": "stdout",
          "text": [
            "Extracting ./data/cifar-10-python.tar.gz to ./data\n",
            "Files already downloaded and verified\n"
          ]
        }
      ]
    },
    {
      "cell_type": "code",
      "source": [
        "class ResidualBlock(nn.Module):\n",
        "    def __init__(self, in_channels, out_channels, stride):\n",
        "        super().__init__()\n",
        "        self.conv1 = nn.Conv2d(in_channels, out_channels, 3, stride, 1)\n",
        "        self.bn1 = nn.BatchNorm2d(out_channels)\n",
        "        self.conv2 = nn.Conv2d(out_channels, out_channels, 3, 1, 1)\n",
        "        self.bn2 = nn.BatchNorm2d(out_channels)\n",
        "\n",
        "        if stride != 1: # When Downsampling,\n",
        "            self.downsample = nn.Sequential(\n",
        "                                nn.Conv2d(in_channels, out_channels, 3, 2, 1),\n",
        "                                nn.BatchNorm2d(out_channels)\n",
        "            )\n",
        "        else:\n",
        "            self.downsample = None\n",
        "    \n",
        "    def forward(self, x):\n",
        "        out = self.bn1(self.conv1(x))\n",
        "        out = F.relu(out)\n",
        "        out = self.bn2(self.conv2(out))\n",
        "        if self.downsample is not None:\n",
        "            x = self.downsample(x)\n",
        "        out += x\n",
        "        return F.relu(out)\n",
        "\n",
        "class ResNet(nn.Module):\n",
        "    def __init__(self, n):\n",
        "        super().__init__()\n",
        "        self.conv1 = nn.Conv2d(3, 16, 3, 1, 1)\n",
        "        self.bn1 = nn.BatchNorm2d(16)\n",
        "        self.layer1 = []\n",
        "        for _ in range(n):\n",
        "            self.layer1.append(ResidualBlock(16, 16, 1))\n",
        "        self.layer2 = [ResidualBlock(16, 32, 2)]\n",
        "        for _ in range(n-1):\n",
        "            self.layer2.append(ResidualBlock(32, 32, 1))\n",
        "        self.layer3 = [ResidualBlock(32, 64, 2)]\n",
        "        for _ in range(n-1):\n",
        "            self.layer3.append(ResidualBlock(64, 64, 1))\n",
        "        \n",
        "        self.layer1 = nn.Sequential(*self.layer1)\n",
        "        self.layer2 = nn.Sequential(*self.layer2)\n",
        "        self.layer3 = nn.Sequential(*self.layer3)\n",
        "\n",
        "        self.pool = nn.AvgPool2d(8)\n",
        "        self.linear = nn.Linear(64, 10)\n",
        "\n",
        "    def forward(self, x):\n",
        "        x = self.bn1(self.conv1(x))\n",
        "        x = self.layer1(x)\n",
        "        x = self.layer2(x)\n",
        "        x = self.layer3(x)\n",
        "        x = self.pool(x)\n",
        "\n",
        "        x = self.dropout(x)\n",
        "        x = x.view(x.size(0), -1)\n",
        "        x = self.linear(x)\n",
        "        return x"
      ],
      "metadata": {
        "id": "7D7VJGiPyFq4"
      },
      "execution_count": null,
      "outputs": []
    },
    {
      "cell_type": "code",
      "source": [
        "net = ResNet(3).to(device)\n",
        "criterion = nn.CrossEntropyLoss()\n",
        "#optimizer = optim.SGD(net.parameters(), lr=0.1, weight_decay=0.001, momentum=0.9)"
      ],
      "metadata": {
        "id": "5U_lEMbyyMBA"
      },
      "execution_count": null,
      "outputs": []
    },
    {
      "cell_type": "code",
      "source": [
        "total_epoch = 60\n",
        "total_batch = len(train_loader)"
      ],
      "metadata": {
        "id": "Ylnuitb4yNq6"
      },
      "execution_count": null,
      "outputs": []
    },
    {
      "cell_type": "code",
      "source": [
        "train_loss_history = []\n",
        "val_loss_history = []\n",
        "train_acc_history = []\n",
        "val_acc_history = []"
      ],
      "metadata": {
        "id": "OwDg66cpyY7d"
      },
      "execution_count": null,
      "outputs": []
    },
    {
      "cell_type": "code",
      "source": [
        "print(\"Train Start\")\n",
        "start = time.time()\n",
        "lr = 0.1\n",
        "\n",
        "for epoch in range(total_epoch):\n",
        "    avg_cost = 0.0\n",
        "    train_loss = 0\n",
        "    train_total = 0\n",
        "\n",
        "    if epoch % 20 == 0:\n",
        "        lr *= 0.05\n",
        "\n",
        "    optimizer = optim.SGD(net.parameters(), lr, weight_decay=0.001, momentum=0.9)\n",
        "    for x, y in train_loader:\n",
        "        x = x.to(device)\n",
        "        y = y.to(device)\n",
        "        y_pred = net(x)\n",
        "        \n",
        "        cost = criterion(y_pred, y)\n",
        "        optimizer.zero_grad()\n",
        "        cost.backward()\n",
        "        optimizer.step()\n",
        "\n",
        "        avg_cost += cost\n",
        "\n",
        "        train_loss += cost.item()\n",
        "        train_total += (torch.argmax(y_pred, dim=1) == y).sum().item()\n",
        "\n",
        "    avg_cost /= total_batch\n",
        "    train_loss = train_loss / len(train_loader)\n",
        "    train_acc = train_total / len(train_dataset)\n",
        "\n",
        "    if (epoch+1) % 10 == 0:\n",
        "      print(\"Epoch: %d/%d, Cost: %f\" % (epoch+1, total_epoch, avg_cost))\n",
        "\n",
        "      #매 epoch이 끝날 때마다 validation을 진행합니다.\n",
        "    with torch.no_grad():\n",
        "      val_loss = 0.0\n",
        "      total = 0\n",
        "      for val_step, val in enumerate(val_loader):\n",
        "        val_x, val_label = val\n",
        "        \n",
        "        val_x = val_x.to(device)\n",
        "        val_label = val_label.to(device)\n",
        "\n",
        "        val_output = net(val_x)\n",
        "        v_loss = criterion(val_output, val_label)\n",
        "        val_loss += v_loss\n",
        "        total += (torch.argmax(val_output, dim=1) == val_label).sum().item()\n",
        "\n",
        "      val_loss = val_loss / len(val_loader)\n",
        "      val_acc = total / len(val_dataset)\n",
        "\n",
        "    print(\"epoch: {}/{} | train loss: {} | val loss: {}\".format(\n",
        "                  epoch+1, total_epoch, train_loss , val_loss))\n",
        "    print(\"train acc : {}\".format(train_acc))\n",
        "    print(\"val_acc: {}\".format(val_acc))\n",
        "\n",
        "    train_loss_history.append(train_loss)\n",
        "    train_acc_history.append(train_acc)\n",
        "    val_loss_history.append(val_loss)\n",
        "    val_acc_history.append(val_acc)\n",
        "\n",
        "end = time.time()\n",
        "\n",
        "t = int(end - start)\n",
        "print(\"Training time: %dm %ds\" %(t//60, t%60))\n",
        "print(\"Training Finished\")"
      ],
      "metadata": {
        "colab": {
          "base_uri": "https://localhost:8080/"
        },
        "id": "2Saqm1ugyatB",
        "outputId": "4b7dc502-8bd2-452d-f2fc-6f21a9bc2318"
      },
      "execution_count": null,
      "outputs": [
        {
          "output_type": "stream",
          "name": "stdout",
          "text": [
            "Train Start\n",
            "epoch: 1/60 | train loss: 0.1733194816553471 | val loss: 0.39071065187454224\n",
            "train acc : 0.94032\n",
            "val_acc: 0.8745\n",
            "epoch: 2/60 | train loss: 0.17957217014413707 | val loss: 0.3981877863407135\n",
            "train acc : 0.93706\n",
            "val_acc: 0.8748\n",
            "epoch: 3/60 | train loss: 0.17844558697269888 | val loss: 0.39400336146354675\n",
            "train acc : 0.93874\n",
            "val_acc: 0.8739\n",
            "epoch: 4/60 | train loss: 0.17997512422806147 | val loss: 0.38778984546661377\n",
            "train acc : 0.93682\n",
            "val_acc: 0.8765\n",
            "epoch: 5/60 | train loss: 0.17789042790477372 | val loss: 0.386470764875412\n",
            "train acc : 0.93846\n",
            "val_acc: 0.8779\n",
            "epoch: 6/60 | train loss: 0.1744462442489303 | val loss: 0.37844035029411316\n",
            "train acc : 0.9401\n",
            "val_acc: 0.8787\n",
            "epoch: 7/60 | train loss: 0.17138195448383994 | val loss: 0.39378076791763306\n",
            "train acc : 0.94096\n",
            "val_acc: 0.8762\n",
            "epoch: 8/60 | train loss: 0.1781508602506044 | val loss: 0.39079439640045166\n",
            "train acc : 0.93784\n",
            "val_acc: 0.8748\n",
            "epoch: 9/60 | train loss: 0.17298448469717892 | val loss: 0.3974548280239105\n",
            "train acc : 0.94008\n",
            "val_acc: 0.8752\n",
            "Epoch: 10/60, Cost: 0.169333\n",
            "epoch: 10/60 | train loss: 0.169332605083378 | val loss: 0.38992032408714294\n",
            "train acc : 0.94208\n",
            "val_acc: 0.8783\n",
            "epoch: 11/60 | train loss: 0.16663168921914637 | val loss: 0.3885340988636017\n",
            "train acc : 0.94244\n",
            "val_acc: 0.8759\n",
            "epoch: 12/60 | train loss: 0.1688921166469856 | val loss: 0.3922600746154785\n",
            "train acc : 0.9425\n",
            "val_acc: 0.8779\n",
            "epoch: 13/60 | train loss: 0.16317524285796953 | val loss: 0.37351787090301514\n",
            "train acc : 0.94346\n",
            "val_acc: 0.8804\n",
            "epoch: 14/60 | train loss: 0.16286857889927164 | val loss: 0.39674457907676697\n",
            "train acc : 0.94362\n",
            "val_acc: 0.8747\n",
            "epoch: 15/60 | train loss: 0.16443303744403684 | val loss: 0.3896864354610443\n",
            "train acc : 0.944\n",
            "val_acc: 0.8755\n",
            "epoch: 16/60 | train loss: 0.16377504645105528 | val loss: 0.3884090185165405\n",
            "train acc : 0.9441\n",
            "val_acc: 0.8755\n",
            "epoch: 17/60 | train loss: 0.16064035196845627 | val loss: 0.4069378972053528\n",
            "train acc : 0.94534\n",
            "val_acc: 0.8798\n",
            "epoch: 18/60 | train loss: 0.1615466516540975 | val loss: 0.41313186287879944\n",
            "train acc : 0.94462\n",
            "val_acc: 0.8766\n",
            "epoch: 19/60 | train loss: 0.16274497840477495 | val loss: 0.3993222117424011\n",
            "train acc : 0.9437\n",
            "val_acc: 0.8752\n",
            "Epoch: 20/60, Cost: 0.163187\n",
            "epoch: 20/60 | train loss: 0.16318716139209513 | val loss: 0.3811444044113159\n",
            "train acc : 0.94338\n",
            "val_acc: 0.8776\n",
            "epoch: 21/60 | train loss: 0.12292219306893494 | val loss: 0.343575119972229\n",
            "train acc : 0.95988\n",
            "val_acc: 0.8923\n",
            "epoch: 22/60 | train loss: 0.1052451122894275 | val loss: 0.3470820486545563\n",
            "train acc : 0.96702\n",
            "val_acc: 0.8926\n",
            "epoch: 23/60 | train loss: 0.1013540078942873 | val loss: 0.3429011404514313\n",
            "train acc : 0.96868\n",
            "val_acc: 0.8935\n",
            "epoch: 24/60 | train loss: 0.09646274063888254 | val loss: 0.3510003089904785\n",
            "train acc : 0.97084\n",
            "val_acc: 0.8914\n",
            "epoch: 25/60 | train loss: 0.09295062806305228 | val loss: 0.33743080496788025\n",
            "train acc : 0.97094\n",
            "val_acc: 0.8948\n",
            "epoch: 26/60 | train loss: 0.09165831681873117 | val loss: 0.33800259232521057\n",
            "train acc : 0.9725\n",
            "val_acc: 0.8938\n",
            "epoch: 27/60 | train loss: 0.08927924946254613 | val loss: 0.3410871922969818\n",
            "train acc : 0.97364\n",
            "val_acc: 0.8919\n",
            "epoch: 28/60 | train loss: 0.08807418972481879 | val loss: 0.32868874073028564\n",
            "train acc : 0.97378\n",
            "val_acc: 0.8966\n",
            "epoch: 29/60 | train loss: 0.08417049791587859 | val loss: 0.34375548362731934\n",
            "train acc : 0.97544\n",
            "val_acc: 0.8953\n",
            "Epoch: 30/60, Cost: 0.085494\n",
            "epoch: 30/60 | train loss: 0.085494255019846 | val loss: 0.3458890914916992\n",
            "train acc : 0.97446\n",
            "val_acc: 0.8919\n",
            "epoch: 31/60 | train loss: 0.0840725399819868 | val loss: 0.3450565040111542\n",
            "train acc : 0.97498\n",
            "val_acc: 0.8926\n",
            "epoch: 32/60 | train loss: 0.08355134037532369 | val loss: 0.35050684213638306\n",
            "train acc : 0.97522\n",
            "val_acc: 0.8946\n",
            "epoch: 33/60 | train loss: 0.08247518394978678 | val loss: 0.34443193674087524\n",
            "train acc : 0.97618\n",
            "val_acc: 0.8935\n",
            "epoch: 34/60 | train loss: 0.08237419845726417 | val loss: 0.3421495854854584\n",
            "train acc : 0.9759\n",
            "val_acc: 0.8971\n",
            "epoch: 35/60 | train loss: 0.08141600085916567 | val loss: 0.3530755639076233\n",
            "train acc : 0.97608\n",
            "val_acc: 0.8919\n",
            "epoch: 36/60 | train loss: 0.07931294809190595 | val loss: 0.3446248471736908\n",
            "train acc : 0.97644\n",
            "val_acc: 0.8961\n",
            "epoch: 37/60 | train loss: 0.07879029805486908 | val loss: 0.3376537263393402\n",
            "train acc : 0.97692\n",
            "val_acc: 0.8947\n",
            "epoch: 38/60 | train loss: 0.07765166437709514 | val loss: 0.3386133909225464\n",
            "train acc : 0.9773\n",
            "val_acc: 0.8941\n",
            "epoch: 39/60 | train loss: 0.07624450882858767 | val loss: 0.3391861617565155\n",
            "train acc : 0.97758\n",
            "val_acc: 0.8963\n",
            "Epoch: 40/60, Cost: 0.076474\n",
            "epoch: 40/60 | train loss: 0.07647445692433691 | val loss: 0.35340648889541626\n",
            "train acc : 0.97798\n",
            "val_acc: 0.8931\n",
            "epoch: 41/60 | train loss: 0.07470675746016965 | val loss: 0.33701226115226746\n",
            "train acc : 0.97908\n",
            "val_acc: 0.8979\n",
            "epoch: 42/60 | train loss: 0.07541156249424937 | val loss: 0.3582548499107361\n",
            "train acc : 0.9784\n",
            "val_acc: 0.8917\n",
            "epoch: 43/60 | train loss: 0.0745832369263683 | val loss: 0.34131523966789246\n",
            "train acc : 0.97852\n",
            "val_acc: 0.8934\n",
            "epoch: 44/60 | train loss: 0.07597779455993857 | val loss: 0.33840450644493103\n",
            "train acc : 0.97858\n",
            "val_acc: 0.8952\n",
            "epoch: 45/60 | train loss: 0.07541541029147956 | val loss: 0.35177505016326904\n",
            "train acc : 0.97784\n",
            "val_acc: 0.8906\n",
            "epoch: 46/60 | train loss: 0.0734871325216123 | val loss: 0.3371756970882416\n",
            "train acc : 0.97888\n",
            "val_acc: 0.8952\n",
            "epoch: 47/60 | train loss: 0.0756776513987962 | val loss: 0.341937780380249\n",
            "train acc : 0.97816\n",
            "val_acc: 0.8972\n",
            "epoch: 48/60 | train loss: 0.07523758570682637 | val loss: 0.3457014560699463\n",
            "train acc : 0.9784\n",
            "val_acc: 0.8949\n",
            "epoch: 49/60 | train loss: 0.07336614113681171 | val loss: 0.34581008553504944\n",
            "train acc : 0.97934\n",
            "val_acc: 0.8928\n",
            "Epoch: 50/60, Cost: 0.074407\n",
            "epoch: 50/60 | train loss: 0.07440667143281625 | val loss: 0.3537013828754425\n",
            "train acc : 0.97902\n",
            "val_acc: 0.8919\n",
            "epoch: 51/60 | train loss: 0.07412651221134833 | val loss: 0.34845322370529175\n",
            "train acc : 0.97874\n",
            "val_acc: 0.8927\n",
            "epoch: 52/60 | train loss: 0.07475338281341354 | val loss: 0.34539446234703064\n",
            "train acc : 0.97904\n",
            "val_acc: 0.8922\n",
            "epoch: 53/60 | train loss: 0.07539004765983139 | val loss: 0.33477023243904114\n",
            "train acc : 0.97882\n",
            "val_acc: 0.8958\n",
            "epoch: 54/60 | train loss: 0.0732523308002523 | val loss: 0.34822624921798706\n",
            "train acc : 0.9794\n",
            "val_acc: 0.8926\n",
            "epoch: 55/60 | train loss: 0.07469202064890035 | val loss: 0.33328187465667725\n",
            "train acc : 0.97876\n",
            "val_acc: 0.8953\n",
            "epoch: 56/60 | train loss: 0.07532633147297466 | val loss: 0.3396279215812683\n",
            "train acc : 0.9783\n",
            "val_acc: 0.896\n",
            "epoch: 57/60 | train loss: 0.07244831595417796 | val loss: 0.34288260340690613\n",
            "train acc : 0.97946\n",
            "val_acc: 0.8953\n",
            "epoch: 58/60 | train loss: 0.07444156980027958 | val loss: 0.34003883600234985\n",
            "train acc : 0.9794\n",
            "val_acc: 0.8949\n",
            "epoch: 59/60 | train loss: 0.07567864865520779 | val loss: 0.3434717655181885\n",
            "train acc : 0.9785\n",
            "val_acc: 0.8934\n",
            "Epoch: 60/60, Cost: 0.072565\n",
            "epoch: 60/60 | train loss: 0.07256456694508694 | val loss: 0.3518218994140625\n",
            "train acc : 0.98052\n",
            "val_acc: 0.8937\n",
            "Training time: 18m 22s\n",
            "Training Finished\n"
          ]
        }
      ]
    },
    {
      "cell_type": "code",
      "source": [
        "print(\"Test Start\")\n",
        "\n",
        "correct = 0.0\n",
        "total = 0.0\n",
        "\n",
        "with torch.no_grad():\n",
        "    for data in val_loader:\n",
        "        images, labels = data\n",
        "        # 신경망에 이미지를 통과시켜 출력을 계산합니다\n",
        "        images = images.to(device)\n",
        "        labels = labels.to(device)\n",
        "\n",
        "        outputs = net(images)\n",
        "        # 가장 높은 값(energy)를 갖는 분류(class)를 정답으로 선택하겠습니다\n",
        "        _, predicted = torch.max(outputs.data, 1)\n",
        "        total += labels.size(0)\n",
        "\n",
        "        correct += ((predicted == labels).sum().item())\n",
        "\n",
        "print(f'Accuracy of the network on the 10000 test images: {100 * correct // total} %')"
      ],
      "metadata": {
        "colab": {
          "base_uri": "https://localhost:8080/"
        },
        "id": "OJNKtVWt5gnJ",
        "outputId": "aff70c2e-f0b2-4d13-9564-b2e1a2953b15"
      },
      "execution_count": null,
      "outputs": [
        {
          "output_type": "stream",
          "name": "stdout",
          "text": [
            "Test Start\n",
            "Accuracy of the network on the 10000 test images: 89.0 %\n"
          ]
        }
      ]
    },
    {
      "cell_type": "code",
      "source": [
        "print(\"Show Loss plot\")\n",
        "\n",
        "plt.plot(train_loss_history, label = ' train_loss')\n",
        "val_loss = torch.stack(val_loss)\n",
        "plt.plot(val_loss_history, label = 'val_loss')\n",
        "plt.legend()\n",
        "plt.show()"
      ],
      "metadata": {
        "colab": {
          "base_uri": "https://localhost:8080/",
          "height": 833
        },
        "id": "pcOGc9UyylTL",
        "outputId": "0eaa68cf-28c7-4045-e51c-fc69cf118721"
      },
      "execution_count": null,
      "outputs": [
        {
          "output_type": "stream",
          "name": "stdout",
          "text": [
            "Show Loss plot\n"
          ]
        },
        {
          "output_type": "stream",
          "name": "stderr",
          "text": [
            "/usr/local/lib/python3.7/dist-packages/ipykernel_launcher.py:4: UserWarning: To copy construct from a tensor, it is recommended to use sourceTensor.clone().detach() or sourceTensor.clone().detach().requires_grad_(True), rather than torch.tensor(sourceTensor).\n",
            "  after removing the cwd from sys.path.\n"
          ]
        },
        {
          "output_type": "error",
          "ename": "TypeError",
          "evalue": "ignored",
          "traceback": [
            "\u001b[0;31m---------------------------------------------------------------------------\u001b[0m",
            "\u001b[0;31mAttributeError\u001b[0m                            Traceback (most recent call last)",
            "\u001b[0;32m/usr/local/lib/python3.7/dist-packages/matplotlib/cbook/__init__.py\u001b[0m in \u001b[0;36mindex_of\u001b[0;34m(y)\u001b[0m\n\u001b[1;32m   1626\u001b[0m     \u001b[0;32mtry\u001b[0m\u001b[0;34m:\u001b[0m\u001b[0;34m\u001b[0m\u001b[0;34m\u001b[0m\u001b[0m\n\u001b[0;32m-> 1627\u001b[0;31m         \u001b[0;32mreturn\u001b[0m \u001b[0my\u001b[0m\u001b[0;34m.\u001b[0m\u001b[0mindex\u001b[0m\u001b[0;34m.\u001b[0m\u001b[0mvalues\u001b[0m\u001b[0;34m,\u001b[0m \u001b[0my\u001b[0m\u001b[0;34m.\u001b[0m\u001b[0mvalues\u001b[0m\u001b[0;34m\u001b[0m\u001b[0;34m\u001b[0m\u001b[0m\n\u001b[0m\u001b[1;32m   1628\u001b[0m     \u001b[0;32mexcept\u001b[0m \u001b[0mAttributeError\u001b[0m\u001b[0;34m:\u001b[0m\u001b[0;34m\u001b[0m\u001b[0;34m\u001b[0m\u001b[0m\n",
            "\u001b[0;31mAttributeError\u001b[0m: 'builtin_function_or_method' object has no attribute 'values'",
            "\nDuring handling of the above exception, another exception occurred:\n",
            "\u001b[0;31mTypeError\u001b[0m                                 Traceback (most recent call last)",
            "\u001b[0;32m<ipython-input-23-0568a231b14c>\u001b[0m in \u001b[0;36m<module>\u001b[0;34m\u001b[0m\n\u001b[1;32m      3\u001b[0m \u001b[0mplt\u001b[0m\u001b[0;34m.\u001b[0m\u001b[0mplot\u001b[0m\u001b[0;34m(\u001b[0m\u001b[0mtrain_loss_history\u001b[0m\u001b[0;34m,\u001b[0m \u001b[0mlabel\u001b[0m \u001b[0;34m=\u001b[0m \u001b[0;34m' train_loss'\u001b[0m\u001b[0;34m)\u001b[0m\u001b[0;34m\u001b[0m\u001b[0;34m\u001b[0m\u001b[0m\n\u001b[1;32m      4\u001b[0m \u001b[0mval_loss\u001b[0m \u001b[0;34m=\u001b[0m \u001b[0mtorch\u001b[0m\u001b[0;34m.\u001b[0m\u001b[0mtensor\u001b[0m\u001b[0;34m(\u001b[0m\u001b[0mval_loss\u001b[0m\u001b[0;34m)\u001b[0m\u001b[0;34m\u001b[0m\u001b[0;34m\u001b[0m\u001b[0m\n\u001b[0;32m----> 5\u001b[0;31m \u001b[0mplt\u001b[0m\u001b[0;34m.\u001b[0m\u001b[0mplot\u001b[0m\u001b[0;34m(\u001b[0m\u001b[0mval_loss_history\u001b[0m\u001b[0;34m,\u001b[0m \u001b[0mlabel\u001b[0m \u001b[0;34m=\u001b[0m \u001b[0;34m'val_loss'\u001b[0m\u001b[0;34m)\u001b[0m\u001b[0;34m\u001b[0m\u001b[0;34m\u001b[0m\u001b[0m\n\u001b[0m\u001b[1;32m      6\u001b[0m \u001b[0mplt\u001b[0m\u001b[0;34m.\u001b[0m\u001b[0mlegend\u001b[0m\u001b[0;34m(\u001b[0m\u001b[0;34m)\u001b[0m\u001b[0;34m\u001b[0m\u001b[0;34m\u001b[0m\u001b[0m\n\u001b[1;32m      7\u001b[0m \u001b[0mplt\u001b[0m\u001b[0;34m.\u001b[0m\u001b[0mshow\u001b[0m\u001b[0;34m(\u001b[0m\u001b[0;34m)\u001b[0m\u001b[0;34m\u001b[0m\u001b[0;34m\u001b[0m\u001b[0m\n",
            "\u001b[0;32m/usr/local/lib/python3.7/dist-packages/matplotlib/pyplot.py\u001b[0m in \u001b[0;36mplot\u001b[0;34m(scalex, scaley, data, *args, **kwargs)\u001b[0m\n\u001b[1;32m   2761\u001b[0m     return gca().plot(\n\u001b[1;32m   2762\u001b[0m         *args, scalex=scalex, scaley=scaley, **({\"data\": data} if data\n\u001b[0;32m-> 2763\u001b[0;31m         is not None else {}), **kwargs)\n\u001b[0m\u001b[1;32m   2764\u001b[0m \u001b[0;34m\u001b[0m\u001b[0m\n\u001b[1;32m   2765\u001b[0m \u001b[0;34m\u001b[0m\u001b[0m\n",
            "\u001b[0;32m/usr/local/lib/python3.7/dist-packages/matplotlib/axes/_axes.py\u001b[0m in \u001b[0;36mplot\u001b[0;34m(self, scalex, scaley, data, *args, **kwargs)\u001b[0m\n\u001b[1;32m   1645\u001b[0m         \"\"\"\n\u001b[1;32m   1646\u001b[0m         \u001b[0mkwargs\u001b[0m \u001b[0;34m=\u001b[0m \u001b[0mcbook\u001b[0m\u001b[0;34m.\u001b[0m\u001b[0mnormalize_kwargs\u001b[0m\u001b[0;34m(\u001b[0m\u001b[0mkwargs\u001b[0m\u001b[0;34m,\u001b[0m \u001b[0mmlines\u001b[0m\u001b[0;34m.\u001b[0m\u001b[0mLine2D\u001b[0m\u001b[0;34m)\u001b[0m\u001b[0;34m\u001b[0m\u001b[0;34m\u001b[0m\u001b[0m\n\u001b[0;32m-> 1647\u001b[0;31m         \u001b[0mlines\u001b[0m \u001b[0;34m=\u001b[0m \u001b[0;34m[\u001b[0m\u001b[0;34m*\u001b[0m\u001b[0mself\u001b[0m\u001b[0;34m.\u001b[0m\u001b[0m_get_lines\u001b[0m\u001b[0;34m(\u001b[0m\u001b[0;34m*\u001b[0m\u001b[0margs\u001b[0m\u001b[0;34m,\u001b[0m \u001b[0mdata\u001b[0m\u001b[0;34m=\u001b[0m\u001b[0mdata\u001b[0m\u001b[0;34m,\u001b[0m \u001b[0;34m**\u001b[0m\u001b[0mkwargs\u001b[0m\u001b[0;34m)\u001b[0m\u001b[0;34m]\u001b[0m\u001b[0;34m\u001b[0m\u001b[0;34m\u001b[0m\u001b[0m\n\u001b[0m\u001b[1;32m   1648\u001b[0m         \u001b[0;32mfor\u001b[0m \u001b[0mline\u001b[0m \u001b[0;32min\u001b[0m \u001b[0mlines\u001b[0m\u001b[0;34m:\u001b[0m\u001b[0;34m\u001b[0m\u001b[0;34m\u001b[0m\u001b[0m\n\u001b[1;32m   1649\u001b[0m             \u001b[0mself\u001b[0m\u001b[0;34m.\u001b[0m\u001b[0madd_line\u001b[0m\u001b[0;34m(\u001b[0m\u001b[0mline\u001b[0m\u001b[0;34m)\u001b[0m\u001b[0;34m\u001b[0m\u001b[0;34m\u001b[0m\u001b[0m\n",
            "\u001b[0;32m/usr/local/lib/python3.7/dist-packages/matplotlib/axes/_base.py\u001b[0m in \u001b[0;36m__call__\u001b[0;34m(self, *args, **kwargs)\u001b[0m\n\u001b[1;32m    214\u001b[0m                 \u001b[0mthis\u001b[0m \u001b[0;34m+=\u001b[0m \u001b[0margs\u001b[0m\u001b[0;34m[\u001b[0m\u001b[0;36m0\u001b[0m\u001b[0;34m]\u001b[0m\u001b[0;34m,\u001b[0m\u001b[0;34m\u001b[0m\u001b[0;34m\u001b[0m\u001b[0m\n\u001b[1;32m    215\u001b[0m                 \u001b[0margs\u001b[0m \u001b[0;34m=\u001b[0m \u001b[0margs\u001b[0m\u001b[0;34m[\u001b[0m\u001b[0;36m1\u001b[0m\u001b[0;34m:\u001b[0m\u001b[0;34m]\u001b[0m\u001b[0;34m\u001b[0m\u001b[0;34m\u001b[0m\u001b[0m\n\u001b[0;32m--> 216\u001b[0;31m             \u001b[0;32myield\u001b[0m \u001b[0;32mfrom\u001b[0m \u001b[0mself\u001b[0m\u001b[0;34m.\u001b[0m\u001b[0m_plot_args\u001b[0m\u001b[0;34m(\u001b[0m\u001b[0mthis\u001b[0m\u001b[0;34m,\u001b[0m \u001b[0mkwargs\u001b[0m\u001b[0;34m)\u001b[0m\u001b[0;34m\u001b[0m\u001b[0;34m\u001b[0m\u001b[0m\n\u001b[0m\u001b[1;32m    217\u001b[0m \u001b[0;34m\u001b[0m\u001b[0m\n\u001b[1;32m    218\u001b[0m     \u001b[0;32mdef\u001b[0m \u001b[0mget_next_color\u001b[0m\u001b[0;34m(\u001b[0m\u001b[0mself\u001b[0m\u001b[0;34m)\u001b[0m\u001b[0;34m:\u001b[0m\u001b[0;34m\u001b[0m\u001b[0;34m\u001b[0m\u001b[0m\n",
            "\u001b[0;32m/usr/local/lib/python3.7/dist-packages/matplotlib/axes/_base.py\u001b[0m in \u001b[0;36m_plot_args\u001b[0;34m(self, tup, kwargs)\u001b[0m\n\u001b[1;32m    332\u001b[0m             \u001b[0my\u001b[0m \u001b[0;34m=\u001b[0m \u001b[0m_check_1d\u001b[0m\u001b[0;34m(\u001b[0m\u001b[0mtup\u001b[0m\u001b[0;34m[\u001b[0m\u001b[0;34m-\u001b[0m\u001b[0;36m1\u001b[0m\u001b[0;34m]\u001b[0m\u001b[0;34m)\u001b[0m\u001b[0;34m\u001b[0m\u001b[0;34m\u001b[0m\u001b[0m\n\u001b[1;32m    333\u001b[0m         \u001b[0;32melse\u001b[0m\u001b[0;34m:\u001b[0m\u001b[0;34m\u001b[0m\u001b[0;34m\u001b[0m\u001b[0m\n\u001b[0;32m--> 334\u001b[0;31m             \u001b[0mx\u001b[0m\u001b[0;34m,\u001b[0m \u001b[0my\u001b[0m \u001b[0;34m=\u001b[0m \u001b[0mindex_of\u001b[0m\u001b[0;34m(\u001b[0m\u001b[0mtup\u001b[0m\u001b[0;34m[\u001b[0m\u001b[0;34m-\u001b[0m\u001b[0;36m1\u001b[0m\u001b[0;34m]\u001b[0m\u001b[0;34m)\u001b[0m\u001b[0;34m\u001b[0m\u001b[0;34m\u001b[0m\u001b[0m\n\u001b[0m\u001b[1;32m    335\u001b[0m \u001b[0;34m\u001b[0m\u001b[0m\n\u001b[1;32m    336\u001b[0m         \u001b[0;32mif\u001b[0m \u001b[0mself\u001b[0m\u001b[0;34m.\u001b[0m\u001b[0maxes\u001b[0m\u001b[0;34m.\u001b[0m\u001b[0mxaxis\u001b[0m \u001b[0;32mis\u001b[0m \u001b[0;32mnot\u001b[0m \u001b[0;32mNone\u001b[0m\u001b[0;34m:\u001b[0m\u001b[0;34m\u001b[0m\u001b[0;34m\u001b[0m\u001b[0m\n",
            "\u001b[0;32m/usr/local/lib/python3.7/dist-packages/matplotlib/cbook/__init__.py\u001b[0m in \u001b[0;36mindex_of\u001b[0;34m(y)\u001b[0m\n\u001b[1;32m   1627\u001b[0m         \u001b[0;32mreturn\u001b[0m \u001b[0my\u001b[0m\u001b[0;34m.\u001b[0m\u001b[0mindex\u001b[0m\u001b[0;34m.\u001b[0m\u001b[0mvalues\u001b[0m\u001b[0;34m,\u001b[0m \u001b[0my\u001b[0m\u001b[0;34m.\u001b[0m\u001b[0mvalues\u001b[0m\u001b[0;34m\u001b[0m\u001b[0;34m\u001b[0m\u001b[0m\n\u001b[1;32m   1628\u001b[0m     \u001b[0;32mexcept\u001b[0m \u001b[0mAttributeError\u001b[0m\u001b[0;34m:\u001b[0m\u001b[0;34m\u001b[0m\u001b[0;34m\u001b[0m\u001b[0m\n\u001b[0;32m-> 1629\u001b[0;31m         \u001b[0my\u001b[0m \u001b[0;34m=\u001b[0m \u001b[0m_check_1d\u001b[0m\u001b[0;34m(\u001b[0m\u001b[0my\u001b[0m\u001b[0;34m)\u001b[0m\u001b[0;34m\u001b[0m\u001b[0;34m\u001b[0m\u001b[0m\n\u001b[0m\u001b[1;32m   1630\u001b[0m         \u001b[0;32mreturn\u001b[0m \u001b[0mnp\u001b[0m\u001b[0;34m.\u001b[0m\u001b[0marange\u001b[0m\u001b[0;34m(\u001b[0m\u001b[0my\u001b[0m\u001b[0;34m.\u001b[0m\u001b[0mshape\u001b[0m\u001b[0;34m[\u001b[0m\u001b[0;36m0\u001b[0m\u001b[0;34m]\u001b[0m\u001b[0;34m,\u001b[0m \u001b[0mdtype\u001b[0m\u001b[0;34m=\u001b[0m\u001b[0mfloat\u001b[0m\u001b[0;34m)\u001b[0m\u001b[0;34m,\u001b[0m \u001b[0my\u001b[0m\u001b[0;34m\u001b[0m\u001b[0;34m\u001b[0m\u001b[0m\n\u001b[1;32m   1631\u001b[0m \u001b[0;34m\u001b[0m\u001b[0m\n",
            "\u001b[0;32m/usr/local/lib/python3.7/dist-packages/matplotlib/cbook/__init__.py\u001b[0m in \u001b[0;36m_check_1d\u001b[0;34m(x)\u001b[0m\n\u001b[1;32m   1324\u001b[0m     '''\n\u001b[1;32m   1325\u001b[0m     \u001b[0;32mif\u001b[0m \u001b[0;32mnot\u001b[0m \u001b[0mhasattr\u001b[0m\u001b[0;34m(\u001b[0m\u001b[0mx\u001b[0m\u001b[0;34m,\u001b[0m \u001b[0;34m'shape'\u001b[0m\u001b[0;34m)\u001b[0m \u001b[0;32mor\u001b[0m \u001b[0mlen\u001b[0m\u001b[0;34m(\u001b[0m\u001b[0mx\u001b[0m\u001b[0;34m.\u001b[0m\u001b[0mshape\u001b[0m\u001b[0;34m)\u001b[0m \u001b[0;34m<\u001b[0m \u001b[0;36m1\u001b[0m\u001b[0;34m:\u001b[0m\u001b[0;34m\u001b[0m\u001b[0;34m\u001b[0m\u001b[0m\n\u001b[0;32m-> 1326\u001b[0;31m         \u001b[0;32mreturn\u001b[0m \u001b[0mnp\u001b[0m\u001b[0;34m.\u001b[0m\u001b[0matleast_1d\u001b[0m\u001b[0;34m(\u001b[0m\u001b[0mx\u001b[0m\u001b[0;34m)\u001b[0m\u001b[0;34m\u001b[0m\u001b[0;34m\u001b[0m\u001b[0m\n\u001b[0m\u001b[1;32m   1327\u001b[0m     \u001b[0;32melse\u001b[0m\u001b[0;34m:\u001b[0m\u001b[0;34m\u001b[0m\u001b[0;34m\u001b[0m\u001b[0m\n\u001b[1;32m   1328\u001b[0m         \u001b[0;32mtry\u001b[0m\u001b[0;34m:\u001b[0m\u001b[0;34m\u001b[0m\u001b[0;34m\u001b[0m\u001b[0m\n",
            "\u001b[0;32m<__array_function__ internals>\u001b[0m in \u001b[0;36matleast_1d\u001b[0;34m(*args, **kwargs)\u001b[0m\n",
            "\u001b[0;32m/usr/local/lib/python3.7/dist-packages/numpy/core/shape_base.py\u001b[0m in \u001b[0;36matleast_1d\u001b[0;34m(*arys)\u001b[0m\n\u001b[1;32m     63\u001b[0m     \u001b[0mres\u001b[0m \u001b[0;34m=\u001b[0m \u001b[0;34m[\u001b[0m\u001b[0;34m]\u001b[0m\u001b[0;34m\u001b[0m\u001b[0;34m\u001b[0m\u001b[0m\n\u001b[1;32m     64\u001b[0m     \u001b[0;32mfor\u001b[0m \u001b[0mary\u001b[0m \u001b[0;32min\u001b[0m \u001b[0marys\u001b[0m\u001b[0;34m:\u001b[0m\u001b[0;34m\u001b[0m\u001b[0;34m\u001b[0m\u001b[0m\n\u001b[0;32m---> 65\u001b[0;31m         \u001b[0mary\u001b[0m \u001b[0;34m=\u001b[0m \u001b[0masanyarray\u001b[0m\u001b[0;34m(\u001b[0m\u001b[0mary\u001b[0m\u001b[0;34m)\u001b[0m\u001b[0;34m\u001b[0m\u001b[0;34m\u001b[0m\u001b[0m\n\u001b[0m\u001b[1;32m     66\u001b[0m         \u001b[0;32mif\u001b[0m \u001b[0mary\u001b[0m\u001b[0;34m.\u001b[0m\u001b[0mndim\u001b[0m \u001b[0;34m==\u001b[0m \u001b[0;36m0\u001b[0m\u001b[0;34m:\u001b[0m\u001b[0;34m\u001b[0m\u001b[0;34m\u001b[0m\u001b[0m\n\u001b[1;32m     67\u001b[0m             \u001b[0mresult\u001b[0m \u001b[0;34m=\u001b[0m \u001b[0mary\u001b[0m\u001b[0;34m.\u001b[0m\u001b[0mreshape\u001b[0m\u001b[0;34m(\u001b[0m\u001b[0;36m1\u001b[0m\u001b[0;34m)\u001b[0m\u001b[0;34m\u001b[0m\u001b[0;34m\u001b[0m\u001b[0m\n",
            "\u001b[0;32m/usr/local/lib/python3.7/dist-packages/torch/_tensor.py\u001b[0m in \u001b[0;36m__array__\u001b[0;34m(self, dtype)\u001b[0m\n\u001b[1;32m    755\u001b[0m             \u001b[0;32mreturn\u001b[0m \u001b[0mhandle_torch_function\u001b[0m\u001b[0;34m(\u001b[0m\u001b[0mTensor\u001b[0m\u001b[0;34m.\u001b[0m\u001b[0m__array__\u001b[0m\u001b[0;34m,\u001b[0m \u001b[0;34m(\u001b[0m\u001b[0mself\u001b[0m\u001b[0;34m,\u001b[0m\u001b[0;34m)\u001b[0m\u001b[0;34m,\u001b[0m \u001b[0mself\u001b[0m\u001b[0;34m,\u001b[0m \u001b[0mdtype\u001b[0m\u001b[0;34m=\u001b[0m\u001b[0mdtype\u001b[0m\u001b[0;34m)\u001b[0m\u001b[0;34m\u001b[0m\u001b[0;34m\u001b[0m\u001b[0m\n\u001b[1;32m    756\u001b[0m         \u001b[0;32mif\u001b[0m \u001b[0mdtype\u001b[0m \u001b[0;32mis\u001b[0m \u001b[0;32mNone\u001b[0m\u001b[0;34m:\u001b[0m\u001b[0;34m\u001b[0m\u001b[0;34m\u001b[0m\u001b[0m\n\u001b[0;32m--> 757\u001b[0;31m             \u001b[0;32mreturn\u001b[0m \u001b[0mself\u001b[0m\u001b[0;34m.\u001b[0m\u001b[0mnumpy\u001b[0m\u001b[0;34m(\u001b[0m\u001b[0;34m)\u001b[0m\u001b[0;34m\u001b[0m\u001b[0;34m\u001b[0m\u001b[0m\n\u001b[0m\u001b[1;32m    758\u001b[0m         \u001b[0;32melse\u001b[0m\u001b[0;34m:\u001b[0m\u001b[0;34m\u001b[0m\u001b[0;34m\u001b[0m\u001b[0m\n\u001b[1;32m    759\u001b[0m             \u001b[0;32mreturn\u001b[0m \u001b[0mself\u001b[0m\u001b[0;34m.\u001b[0m\u001b[0mnumpy\u001b[0m\u001b[0;34m(\u001b[0m\u001b[0;34m)\u001b[0m\u001b[0;34m.\u001b[0m\u001b[0mastype\u001b[0m\u001b[0;34m(\u001b[0m\u001b[0mdtype\u001b[0m\u001b[0;34m,\u001b[0m \u001b[0mcopy\u001b[0m\u001b[0;34m=\u001b[0m\u001b[0;32mFalse\u001b[0m\u001b[0;34m)\u001b[0m\u001b[0;34m\u001b[0m\u001b[0;34m\u001b[0m\u001b[0m\n",
            "\u001b[0;31mTypeError\u001b[0m: can't convert cuda:0 device type tensor to numpy. Use Tensor.cpu() to copy the tensor to host memory first."
          ]
        },
        {
          "output_type": "display_data",
          "data": {
            "text/plain": [
              "<Figure size 432x288 with 1 Axes>"
            ],
            "image/png": "[encoded data removed]"
          },
          "metadata": {
            "needs_background": "light"
          }
        }
      ]
    },
    {
      "cell_type": "code",
      "source": [
        "print(\"Show Acc plot\")\n",
        "\n",
        "plt.plot(train_acc_history, label = ' train_acc')\n",
        "plt.plot(val_acc_history, label = 'val_acc')\n",
        "plt.legend()\n",
        "plt.show()"
      ],
      "metadata": {
        "colab": {
          "base_uri": "https://localhost:8080/",
          "height": 284
        },
        "id": "ixK2WbchzSAq",
        "outputId": "b828df97-0168-47ae-f462-74067c07455e"
      },
      "execution_count": null,
      "outputs": [
        {
          "output_type": "stream",
          "name": "stdout",
          "text": [
            "Show Acc plot\n"
          ]
        },
        {
          "output_type": "display_data",
          "data": {
            "text/plain": [
              "<Figure size 432x288 with 1 Axes>"
            ],
            "image/png": "[encoded data removed]"
          },
          "metadata": {
            "needs_background": "light"
          }
        }
      ]
    }
  ]
}